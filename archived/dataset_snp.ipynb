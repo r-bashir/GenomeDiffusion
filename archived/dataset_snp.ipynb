{
 "cells": [
  {
   "cell_type": "markdown",
   "id": "4518cd61-3fd1-47fb-9368-2a08726a520d",
   "metadata": {},
   "source": [
    "### _Single Nucleotide Polymorphism (SNP)_\n",
    "\n",
    "- _Load SNP dataset (`parquet` format)_\n",
    "- _Examine each example_\n",
    "- _Test PyTorch Dataset class_\n",
    "- _etc."
   ]
  },
  {
   "cell_type": "code",
   "execution_count": 1,
   "id": "6fda75ea",
   "metadata": {},
   "outputs": [],
   "source": [
    "import numpy as np\n",
    "import pandas as pd\n",
    "import seaborn as sns \n",
    "import matplotlib.pyplot as plt\n",
    "%matplotlib inline     \n",
    "sns.set(color_codes=True)"
   ]
  },
  {
   "cell_type": "markdown",
   "id": "f033b646-b7a8-4790-89ce-8f8fa703ff67",
   "metadata": {},
   "source": [
    "### _SNP Dataset_"
   ]
  },
  {
   "cell_type": "code",
   "execution_count": 2,
   "id": "682ed5a9-5d84-49bd-bf44-ac76dbeb4e1a",
   "metadata": {},
   "outputs": [
    {
     "name": "stdout",
     "output_type": "stream",
     "text": [
      "Shape of SNPs: (160858, 2067)\n"
     ]
    }
   ],
   "source": [
    "# load dataset\n",
    "snp_data = pd.read_parquet(\"data/HO_data_filtered/HumanOrigins2067_filtered.parquet\").to_numpy()\n",
    "print(f\"Shape of SNPs: {snp_data.shape}\")"
   ]
  },
  {
   "cell_type": "markdown",
   "id": "d1c039d7-5f23-467b-bce2-10a24bbd8a15",
   "metadata": {},
   "source": [
    "- _The dataset shape is `(n_markers, n_sample)`, however, we need shape of `(n_sample, n_markers)`. We can simply transpose the data:_"
   ]
  },
  {
   "cell_type": "code",
   "execution_count": 3,
   "id": "19d70325-ae42-4045-9c0c-d6318fd821da",
   "metadata": {},
   "outputs": [
    {
     "data": {
      "text/plain": [
       "(2067, 160858)"
      ]
     },
     "execution_count": 3,
     "metadata": {},
     "output_type": "execute_result"
    }
   ],
   "source": [
    "# transposed dataset shape\n",
    "snp_data.T.shape"
   ]
  },
  {
   "cell_type": "code",
   "execution_count": 4,
   "id": "dcf319f6-c4c7-4a66-935b-b70622f20d08",
   "metadata": {},
   "outputs": [],
   "source": [
    "# transposed dataset\n",
    "snp_data = snp_data.T"
   ]
  },
  {
   "cell_type": "code",
   "execution_count": 5,
   "id": "2af2d8b9-2708-45c1-8f81-3de151b8409d",
   "metadata": {},
   "outputs": [
    {
     "name": "stdout",
     "output_type": "stream",
     "text": [
      "[0. 1. 2. 9.]\n"
     ]
    }
   ],
   "source": [
    "# unique values\n",
    "print(np.unique(snp_data))"
   ]
  },
  {
   "cell_type": "markdown",
   "id": "7636e82a-f565-4cf4-a9b4-684da33909d4",
   "metadata": {},
   "source": [
    "- _Convert to `DataFrame`_"
   ]
  },
  {
   "cell_type": "code",
   "execution_count": 6,
   "id": "b66d1cc3-386a-49fd-a71e-d2f8eb5072a3",
   "metadata": {},
   "outputs": [],
   "source": [
    "# numpy to dataframe\n",
    "df = pd.DataFrame(snp_data)"
   ]
  },
  {
   "cell_type": "code",
   "execution_count": 7,
   "id": "3849cc37-525b-44cb-8461-e5cafb5b10dc",
   "metadata": {},
   "outputs": [
    {
     "data": {
      "text/html": [
       "<div>\n",
       "<style scoped>\n",
       "    .dataframe tbody tr th:only-of-type {\n",
       "        vertical-align: middle;\n",
       "    }\n",
       "\n",
       "    .dataframe tbody tr th {\n",
       "        vertical-align: top;\n",
       "    }\n",
       "\n",
       "    .dataframe thead th {\n",
       "        text-align: right;\n",
       "    }\n",
       "</style>\n",
       "<table border=\"1\" class=\"dataframe\">\n",
       "  <thead>\n",
       "    <tr style=\"text-align: right;\">\n",
       "      <th></th>\n",
       "      <th>0</th>\n",
       "      <th>1</th>\n",
       "      <th>2</th>\n",
       "      <th>3</th>\n",
       "      <th>4</th>\n",
       "      <th>5</th>\n",
       "      <th>6</th>\n",
       "      <th>7</th>\n",
       "      <th>8</th>\n",
       "      <th>9</th>\n",
       "      <th>...</th>\n",
       "      <th>160848</th>\n",
       "      <th>160849</th>\n",
       "      <th>160850</th>\n",
       "      <th>160851</th>\n",
       "      <th>160852</th>\n",
       "      <th>160853</th>\n",
       "      <th>160854</th>\n",
       "      <th>160855</th>\n",
       "      <th>160856</th>\n",
       "      <th>160857</th>\n",
       "    </tr>\n",
       "  </thead>\n",
       "  <tbody>\n",
       "    <tr>\n",
       "      <th>0</th>\n",
       "      <td>1.0</td>\n",
       "      <td>0.0</td>\n",
       "      <td>0.0</td>\n",
       "      <td>2.0</td>\n",
       "      <td>1.0</td>\n",
       "      <td>1.0</td>\n",
       "      <td>0.0</td>\n",
       "      <td>1.0</td>\n",
       "      <td>0.0</td>\n",
       "      <td>1.0</td>\n",
       "      <td>...</td>\n",
       "      <td>1.0</td>\n",
       "      <td>0.0</td>\n",
       "      <td>0.0</td>\n",
       "      <td>0.0</td>\n",
       "      <td>0.0</td>\n",
       "      <td>0.0</td>\n",
       "      <td>0.0</td>\n",
       "      <td>0.0</td>\n",
       "      <td>1.0</td>\n",
       "      <td>0.0</td>\n",
       "    </tr>\n",
       "    <tr>\n",
       "      <th>1</th>\n",
       "      <td>1.0</td>\n",
       "      <td>0.0</td>\n",
       "      <td>1.0</td>\n",
       "      <td>1.0</td>\n",
       "      <td>2.0</td>\n",
       "      <td>0.0</td>\n",
       "      <td>0.0</td>\n",
       "      <td>0.0</td>\n",
       "      <td>0.0</td>\n",
       "      <td>1.0</td>\n",
       "      <td>...</td>\n",
       "      <td>1.0</td>\n",
       "      <td>1.0</td>\n",
       "      <td>0.0</td>\n",
       "      <td>0.0</td>\n",
       "      <td>0.0</td>\n",
       "      <td>0.0</td>\n",
       "      <td>0.0</td>\n",
       "      <td>0.0</td>\n",
       "      <td>1.0</td>\n",
       "      <td>0.0</td>\n",
       "    </tr>\n",
       "    <tr>\n",
       "      <th>2</th>\n",
       "      <td>1.0</td>\n",
       "      <td>1.0</td>\n",
       "      <td>0.0</td>\n",
       "      <td>1.0</td>\n",
       "      <td>1.0</td>\n",
       "      <td>2.0</td>\n",
       "      <td>0.0</td>\n",
       "      <td>1.0</td>\n",
       "      <td>1.0</td>\n",
       "      <td>1.0</td>\n",
       "      <td>...</td>\n",
       "      <td>0.0</td>\n",
       "      <td>0.0</td>\n",
       "      <td>0.0</td>\n",
       "      <td>2.0</td>\n",
       "      <td>0.0</td>\n",
       "      <td>0.0</td>\n",
       "      <td>0.0</td>\n",
       "      <td>1.0</td>\n",
       "      <td>0.0</td>\n",
       "      <td>0.0</td>\n",
       "    </tr>\n",
       "    <tr>\n",
       "      <th>3</th>\n",
       "      <td>1.0</td>\n",
       "      <td>0.0</td>\n",
       "      <td>1.0</td>\n",
       "      <td>1.0</td>\n",
       "      <td>1.0</td>\n",
       "      <td>1.0</td>\n",
       "      <td>0.0</td>\n",
       "      <td>0.0</td>\n",
       "      <td>0.0</td>\n",
       "      <td>2.0</td>\n",
       "      <td>...</td>\n",
       "      <td>1.0</td>\n",
       "      <td>1.0</td>\n",
       "      <td>0.0</td>\n",
       "      <td>0.0</td>\n",
       "      <td>1.0</td>\n",
       "      <td>2.0</td>\n",
       "      <td>0.0</td>\n",
       "      <td>0.0</td>\n",
       "      <td>2.0</td>\n",
       "      <td>0.0</td>\n",
       "    </tr>\n",
       "    <tr>\n",
       "      <th>4</th>\n",
       "      <td>1.0</td>\n",
       "      <td>1.0</td>\n",
       "      <td>0.0</td>\n",
       "      <td>1.0</td>\n",
       "      <td>0.0</td>\n",
       "      <td>1.0</td>\n",
       "      <td>0.0</td>\n",
       "      <td>1.0</td>\n",
       "      <td>0.0</td>\n",
       "      <td>1.0</td>\n",
       "      <td>...</td>\n",
       "      <td>1.0</td>\n",
       "      <td>1.0</td>\n",
       "      <td>0.0</td>\n",
       "      <td>0.0</td>\n",
       "      <td>0.0</td>\n",
       "      <td>1.0</td>\n",
       "      <td>0.0</td>\n",
       "      <td>0.0</td>\n",
       "      <td>1.0</td>\n",
       "      <td>0.0</td>\n",
       "    </tr>\n",
       "  </tbody>\n",
       "</table>\n",
       "<p>5 rows × 160858 columns</p>\n",
       "</div>"
      ],
      "text/plain": [
       "   0       1       2       3       4       5       6       7       8       \\\n",
       "0     1.0     0.0     0.0     2.0     1.0     1.0     0.0     1.0     0.0   \n",
       "1     1.0     0.0     1.0     1.0     2.0     0.0     0.0     0.0     0.0   \n",
       "2     1.0     1.0     0.0     1.0     1.0     2.0     0.0     1.0     1.0   \n",
       "3     1.0     0.0     1.0     1.0     1.0     1.0     0.0     0.0     0.0   \n",
       "4     1.0     1.0     0.0     1.0     0.0     1.0     0.0     1.0     0.0   \n",
       "\n",
       "   9       ...  160848  160849  160850  160851  160852  160853  160854  \\\n",
       "0     1.0  ...     1.0     0.0     0.0     0.0     0.0     0.0     0.0   \n",
       "1     1.0  ...     1.0     1.0     0.0     0.0     0.0     0.0     0.0   \n",
       "2     1.0  ...     0.0     0.0     0.0     2.0     0.0     0.0     0.0   \n",
       "3     2.0  ...     1.0     1.0     0.0     0.0     1.0     2.0     0.0   \n",
       "4     1.0  ...     1.0     1.0     0.0     0.0     0.0     1.0     0.0   \n",
       "\n",
       "   160855  160856  160857  \n",
       "0     0.0     1.0     0.0  \n",
       "1     0.0     1.0     0.0  \n",
       "2     1.0     0.0     0.0  \n",
       "3     0.0     2.0     0.0  \n",
       "4     0.0     1.0     0.0  \n",
       "\n",
       "[5 rows x 160858 columns]"
      ]
     },
     "execution_count": 7,
     "metadata": {},
     "output_type": "execute_result"
    }
   ],
   "source": [
    "df.head()"
   ]
  },
  {
   "cell_type": "code",
   "execution_count": 8,
   "id": "e2b71c63-3537-481b-8099-d5d405c737fa",
   "metadata": {},
   "outputs": [],
   "source": [
    "# df.info()"
   ]
  },
  {
   "cell_type": "code",
   "execution_count": 9,
   "id": "8d569f98-b94d-41ba-9c89-46fd96aaf194",
   "metadata": {},
   "outputs": [],
   "source": [
    "# df.describe()"
   ]
  },
  {
   "cell_type": "code",
   "execution_count": 10,
   "id": "e3e16a83-7848-459c-b2e5-cb080fdc76b9",
   "metadata": {},
   "outputs": [
    {
     "data": {
      "text/plain": [
       "(2067, 160858)"
      ]
     },
     "execution_count": 10,
     "metadata": {},
     "output_type": "execute_result"
    }
   ],
   "source": [
    "df.shape[0], df.shape[1]"
   ]
  },
  {
   "cell_type": "markdown",
   "id": "25f3c3df-8a2a-489f-b585-ccd8acf87612",
   "metadata": {},
   "source": [
    "### _SNP Data Explanation_\n",
    "\n",
    "_This dataset contains genotype data for `2,067` individuals across `160,858` SNP markers. The values `(0, 1, 2)` represent different genotype states for each SNP, indicating the genetic variation between individuals._"
   ]
  },
  {
   "cell_type": "markdown",
   "id": "0176abcd-9900-4f13-b2e3-4bbcdacbd841",
   "metadata": {},
   "source": [
    "- *`Rows`: Each row corresponds to a person in the dataset - `2,067` individuals*\n",
    "\n",
    "- *`Columns`: Each column corresponds to a specific SNP marker - `160,858` SNP markers*\n",
    "\n",
    "- *`Values`: The values represent the genotypes for each individual and SNP. Genotypes are typically represented as:*\n",
    "\n",
    "    - `0: Homozygous` reference (e.g., the individual has two copies of the reference allele).\n",
    "    - `1: Heterozygous` (e.g., the individual has one copy of the reference allele and one copy of the alternate allele).\n",
    "    - `2: Homozygous` alternate (e.g., the individual has two copies of the alternate allele).\n",
    "    - `9: null` represent null/missing data (alternate `-1`)\n"
   ]
  },
  {
   "cell_type": "code",
   "execution_count": 11,
   "id": "eb42df24-ef6c-47ad-a320-234acc83ba81",
   "metadata": {},
   "outputs": [
    {
     "data": {
      "text/plain": [
       "0         [1.0, 0.0, 2.0, 9.0]\n",
       "1         [0.0, 1.0, 2.0, 9.0]\n",
       "2         [0.0, 1.0, 2.0, 9.0]\n",
       "3         [2.0, 1.0, 0.0, 9.0]\n",
       "4         [1.0, 2.0, 0.0, 9.0]\n",
       "                  ...         \n",
       "160853    [0.0, 2.0, 1.0, 9.0]\n",
       "160854    [0.0, 9.0, 1.0, 2.0]\n",
       "160855    [0.0, 1.0, 2.0, 9.0]\n",
       "160856    [1.0, 0.0, 2.0, 9.0]\n",
       "160857    [0.0, 1.0, 2.0, 9.0]\n",
       "Length: 160858, dtype: object"
      ]
     },
     "execution_count": 11,
     "metadata": {},
     "output_type": "execute_result"
    }
   ],
   "source": [
    "# unique values in each column\n",
    "df.apply(lambda col: col.unique(), axis=0)"
   ]
  },
  {
   "cell_type": "code",
   "execution_count": 12,
   "id": "6faf2490-c368-4c3f-be07-4ea0bff3e7cb",
   "metadata": {},
   "outputs": [
    {
     "data": {
      "text/plain": [
       "0       [1.0, 0.0, 2.0, 9.0]\n",
       "1       [1.0, 0.0, 2.0, 9.0]\n",
       "2       [1.0, 0.0, 2.0, 9.0]\n",
       "3       [1.0, 0.0, 2.0, 9.0]\n",
       "4       [1.0, 0.0, 2.0, 9.0]\n",
       "                ...         \n",
       "2062    [1.0, 0.0, 2.0, 9.0]\n",
       "2063    [0.0, 1.0, 2.0, 9.0]\n",
       "2064    [1.0, 0.0, 2.0, 9.0]\n",
       "2065    [0.0, 1.0, 2.0, 9.0]\n",
       "2066    [0.0, 1.0, 2.0, 9.0]\n",
       "Length: 2067, dtype: object"
      ]
     },
     "execution_count": 12,
     "metadata": {},
     "output_type": "execute_result"
    }
   ],
   "source": [
    "# unique values in each row\n",
    "df.apply(lambda row: row.unique(), axis=1)"
   ]
  },
  {
   "cell_type": "code",
   "execution_count": 13,
   "id": "7d8d4413-0b53-4ceb-b0ce-de41fc2b8431",
   "metadata": {},
   "outputs": [
    {
     "data": {
      "text/plain": [
       "0         0\n",
       "1         0\n",
       "2         0\n",
       "3         0\n",
       "4         0\n",
       "         ..\n",
       "160853    0\n",
       "160854    0\n",
       "160855    0\n",
       "160856    0\n",
       "160857    0\n",
       "Length: 160858, dtype: int64"
      ]
     },
     "execution_count": 13,
     "metadata": {},
     "output_type": "execute_result"
    }
   ],
   "source": [
    "# missing values (column-wise)\n",
    "df.isnull().sum(axis=0)"
   ]
  },
  {
   "cell_type": "code",
   "execution_count": 14,
   "id": "03be86f3-c6e4-4700-80ec-ef456355cc12",
   "metadata": {},
   "outputs": [
    {
     "data": {
      "text/plain": [
       "0       0\n",
       "1       0\n",
       "2       0\n",
       "3       0\n",
       "4       0\n",
       "       ..\n",
       "2062    0\n",
       "2063    0\n",
       "2064    0\n",
       "2065    0\n",
       "2066    0\n",
       "Length: 2067, dtype: int64"
      ]
     },
     "execution_count": 14,
     "metadata": {},
     "output_type": "execute_result"
    }
   ],
   "source": [
    "# missing values (row-wise)\n",
    "df.isna().sum(axis=1)"
   ]
  },
  {
   "cell_type": "markdown",
   "id": "8a927cc5-daef-4d43-9039-a1215cac7720",
   "metadata": {},
   "source": [
    "### _Minor Allele Frequency (MAF)_\n",
    "MAF tells you how common the minor allele (e.g., 1 or 2) is in the population."
   ]
  },
  {
   "cell_type": "code",
   "execution_count": 15,
   "id": "7e2a986c-d3cc-4ac4-8958-fd70d9f3ff37",
   "metadata": {},
   "outputs": [
    {
     "name": "stdout",
     "output_type": "stream",
     "text": [
      "0         0.014514\n",
      "1         0.001935\n",
      "2         0.001451\n",
      "3         0.006773\n",
      "4         0.004838\n",
      "            ...   \n",
      "160853    0.005806\n",
      "160854    0.005322\n",
      "160855    0.000968\n",
      "160856    0.001935\n",
      "160857    0.002419\n",
      "Length: 160858, dtype: float64\n"
     ]
    }
   ],
   "source": [
    "def maf(snp_column):\n",
    "    counts = snp_column.value_counts(normalize=True)\n",
    "    return min(counts)  # Minor allele frequency is the least frequent value"
   ]
  },
  {
   "cell_type": "code",
   "execution_count": null,
   "id": "f2516cd4-f7a5-4c96-a1ae-592d4464d0a0",
   "metadata": {},
   "outputs": [],
   "source": [
    "maf_values = df.apply(maf)\n",
    "print(maf_values)"
   ]
  },
  {
   "cell_type": "markdown",
   "id": "fdffe740-4a47-40a3-b179-8d1d9991fe95",
   "metadata": {},
   "source": [
    "### Plotting SNPs Histograms"
   ]
  },
  {
   "cell_type": "code",
   "execution_count": 20,
   "id": "902a8da1-28f8-4736-a4c8-aa266bc76f8f",
   "metadata": {},
   "outputs": [],
   "source": [
    "def plot_all_snps(genotypes, filename):\n",
    "    '''\n",
    "    Plots a histogram of all genotype values in the flattened genotype matrix.\n",
    "\n",
    "    :param genotypes: array of genotypes\n",
    "    :param filename: filename (including path) to save plot to\n",
    "    '''\n",
    "    plt.figure()\n",
    "    unique, counts = np.unique(genotypes, return_counts=True)\n",
    "    d = zip(unique, counts)\n",
    "    plt.hist(np.ndarray.flatten(genotypes), bins=10)\n",
    "    if len(unique) < 5:\n",
    "        plt.title(\", \".join([\"{:.2f} : {}\".format(u, c) for (u, c) in d]), fontdict={'fontsize': 9})\n",
    "\n",
    "    plt.xlabel(\"Genotype\")\n",
    "    plt.ylabel(\"Frequency\")\n",
    "    # plt.savefig(f\"{filename}.pdf\")\n",
    "    plt.show()"
   ]
  },
  {
   "cell_type": "code",
   "execution_count": 21,
   "id": "c8e175f4-b0f7-4245-aed2-d27d0c0e2e23",
   "metadata": {},
   "outputs": [
    {
     "data": {
      "image/png": "[encoded data removed]",
      "text/plain": [
       "<Figure size 640x480 with 1 Axes>"
      ]
     },
     "metadata": {},
     "output_type": "display_data"
    }
   ],
   "source": [
    "plot_all_snps(df.values, \"all_genotypes_hist\")"
   ]
  },
  {
   "cell_type": "code",
   "execution_count": 22,
   "id": "414a101b-e24f-44bf-9902-e272281b1879",
   "metadata": {},
   "outputs": [],
   "source": [
    "def plot_single_snp(genotypes, snp_index, filename):\n",
    "    '''\n",
    "    Plots a histogram for a single SNP (column of genotypes).\n",
    "    \n",
    "    :param genotypes: 2D numpy array (individuals x SNPs)\n",
    "    :param snp_index: index (or column name) of the SNP to plot\n",
    "    :param filename: output file path (without extension)\n",
    "    '''\n",
    "    plt.figure()\n",
    "    snp = genotypes[:, snp_index]\n",
    "    unique, counts = np.unique(snp, return_counts=True)\n",
    "    d = zip(unique, counts)\n",
    "    \n",
    "    plt.hist(snp[~np.isnan(snp)], bins=10, range=(0, 2))  # assumes genotypes are 0,1,2\n",
    "    if len(unique) < 5:\n",
    "        plt.title(\", \".join([\"{:.0f} : {}\".format(u, c) for (u, c) in d]), fontdict={'fontsize': 9})\n",
    "    \n",
    "    plt.xlabel(\"Genotype\")\n",
    "    plt.ylabel(\"Frequency\")\n",
    "    # plt.savefig(f\"{filename}.pdf\")\n",
    "    plt.show()"
   ]
  },
  {
   "cell_type": "markdown",
   "id": "756a4686-965c-4c33-b118-9b51e92a9cfe",
   "metadata": {},
   "source": [
    "- Plot a single SNP"
   ]
  },
  {
   "cell_type": "code",
   "execution_count": 23,
   "id": "7ea348cd-72ff-453b-86dc-d5ffb6ab1eda",
   "metadata": {},
   "outputs": [
    {
     "data": {
      "image/png": "[encoded data removed]",
      "text/plain": [
       "<Figure size 640x480 with 1 Axes>"
      ]
     },
     "metadata": {},
     "output_type": "display_data"
    }
   ],
   "source": [
    "random_index = np.random.randint(df.shape[1])\n",
    "plot_single_snp(df.values, random_index, f\"snp_{random_index}_hist\")"
   ]
  },
  {
   "cell_type": "markdown",
   "id": "835a93f7-52df-4325-a99c-54a91e44c3f0",
   "metadata": {},
   "source": [
    "- Select 10 random SNPs"
   ]
  },
  {
   "cell_type": "raw",
   "id": "3a4009ce-83f6-4380-b725-49e9ae16e97c",
   "metadata": {},
   "source": [
    "# Select 10 random SNPs\n",
    "snp_df = df.copy()\n",
    "np.random.seed(42)\n",
    "random_snps = np.random.choice(snp_df.columns, size=10, replace=False)\n",
    "\n",
    "for snp_id in random_snps:\n",
    "    snp_index = snp_df.columns.get_loc(snp_id)\n",
    "    plot_single_snp(snp_df.values, snp_index, f\"snp_{snp_id}_hist\")"
   ]
  },
  {
   "cell_type": "code",
   "execution_count": null,
   "id": "0b4104c6-714b-4ed8-a315-3e2732569d43",
   "metadata": {},
   "outputs": [],
   "source": []
  }
 ],
 "metadata": {
  "kernelspec": {
   "display_name": "Python 3 (ipykernel)",
   "language": "python",
   "name": "python3"
  },
  "language_info": {
   "codemirror_mode": {
    "name": "ipython",
    "version": 3
   },
   "file_extension": ".py",
   "mimetype": "text/x-python",
   "name": "python",
   "nbconvert_exporter": "python",
   "pygments_lexer": "ipython3",
   "version": "3.13.1"
  }
 },
 "nbformat": 4,
 "nbformat_minor": 5
}
