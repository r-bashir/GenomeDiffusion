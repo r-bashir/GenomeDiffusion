{
 "cells": [
  {
   "cell_type": "code",
   "execution_count": 1,
   "id": "8cb76e34-e7e2-43cc-a5af-9a242cbc7656",
   "metadata": {},
   "outputs": [],
   "source": [
    "import os\n",
    "import math\n",
    "import time\n",
    "import numpy as np\n",
    "import pandas as pd\n",
    "\n",
    "import pyarrow\n",
    "import fastparquet\n",
    "\n",
    "# Pytorch\n",
    "import torch\n",
    "import torch.nn as nn\n",
    "import torch.nn.functional as F\n",
    "from torch.utils.data import random_split, Dataset, DataLoader\n",
    "\n",
    "# Pytorch Lightening\n",
    "import pytorch_lightning as pl\n",
    "\n",
    "# For Visualization\n",
    "import seaborn as sns \n",
    "import matplotlib.pyplot as plt\n",
    "%matplotlib inline     \n",
    "sns.set(color_codes=True)"
   ]
  },
  {
   "cell_type": "code",
   "execution_count": 12,
   "id": "3b2f15ce-65b4-4031-922b-a8f6e9d23b7d",
   "metadata": {},
   "outputs": [],
   "source": [
    "device = \"cuda\" if torch.cuda.is_available() else \"cpu\""
   ]
  },
  {
   "cell_type": "code",
   "execution_count": 2,
   "id": "c688e0d3-04a7-4511-8e5c-1128a44c1dd7",
   "metadata": {},
   "outputs": [],
   "source": [
    "# local imports\n",
    "from data_loading import load_data, SNPDataModule"
   ]
  },
  {
   "cell_type": "code",
   "execution_count": 3,
   "id": "17af7699-f62d-42f4-bf7f-b0890a3fd760",
   "metadata": {},
   "outputs": [],
   "source": [
    "input_file = \"HO_data/HO_data_filtered/HumanOrigins2067_filtered.parquet\""
   ]
  },
  {
   "cell_type": "code",
   "execution_count": 4,
   "id": "83718808-8c3b-4558-ab29-44afee202f1b",
   "metadata": {},
   "outputs": [],
   "source": [
    "snp_data = load_data(input_file)"
   ]
  },
  {
   "cell_type": "code",
   "execution_count": 5,
   "id": "30f6777c-c42c-4c8b-ba76-247954144348",
   "metadata": {
    "scrolled": true
   },
   "outputs": [
    {
     "data": {
      "text/plain": [
       "torch.Size([160858, 2067])"
      ]
     },
     "execution_count": 5,
     "metadata": {},
     "output_type": "execute_result"
    }
   ],
   "source": [
    "snp_data.shape"
   ]
  },
  {
   "cell_type": "code",
   "execution_count": 6,
   "id": "5695fac1-fb3b-4d0f-8b2a-e16d560e8a8d",
   "metadata": {
    "scrolled": true
   },
   "outputs": [
    {
     "name": "stdout",
     "output_type": "stream",
     "text": [
      "Unique values after normalization: [0.  0.5 1.  9. ]\n"
     ]
    }
   ],
   "source": [
    "# Verification\n",
    "unique_values = np.unique(snp_data)\n",
    "print(\"Unique values after normalization:\", unique_values)  # Should show [0.0, 0.5, 1.0, 9.0]"
   ]
  },
  {
   "cell_type": "markdown",
   "id": "f581bb64-75cc-4cf9-ac43-e21ad293ebb4",
   "metadata": {},
   "source": [
    "- _LightningDataModule_"
   ]
  },
  {
   "cell_type": "code",
   "execution_count": 7,
   "id": "f3c06bc6-85fa-4751-b7ab-d825cb1689cb",
   "metadata": {},
   "outputs": [],
   "source": [
    "# initialize DataModule\n",
    "snp_data_module = SNPDataModule(input_path=input_file, batch_size=256, num_workers=1)"
   ]
  },
  {
   "cell_type": "code",
   "execution_count": 8,
   "id": "c4d3590e-53cd-4785-8f27-aa46c32c0a5c",
   "metadata": {},
   "outputs": [],
   "source": [
    "# Setup Data\n",
    "snp_data_module.setup()"
   ]
  },
  {
   "cell_type": "code",
   "execution_count": 9,
   "id": "85755e59-5235-4f8c-a11d-5d4d2fa5ec80",
   "metadata": {},
   "outputs": [],
   "source": [
    "# Train DataLoader\n",
    "train_loader = snp_data_module.train_dataloader()"
   ]
  },
  {
   "cell_type": "code",
   "execution_count": 10,
   "id": "44982907-9fe9-4717-8168-b10134f212be",
   "metadata": {},
   "outputs": [],
   "source": [
    "# Get a batch from DataLoader\n",
    "sample_batch = next(iter(train_loader))"
   ]
  },
  {
   "cell_type": "code",
   "execution_count": 11,
   "id": "eff3f5bd-c13a-4132-b1bd-bd13164c24c3",
   "metadata": {},
   "outputs": [
    {
     "name": "stdout",
     "output_type": "stream",
     "text": [
      "Batch Shape: torch.Size([256, 2067])\n",
      "First 5 Samples:\n",
      " tensor([[0.0000, 0.0000, 0.0000,  ..., 0.5000, 0.0000, 0.0000],\n",
      "        [0.0000, 0.0000, 0.5000,  ..., 0.0000, 0.0000, 0.0000],\n",
      "        [0.0000, 0.0000, 0.0000,  ..., 1.0000, 1.0000, 0.0000],\n",
      "        [1.0000, 0.0000, 0.0000,  ..., 0.0000, 0.5000, 1.0000],\n",
      "        [0.5000, 0.0000, 0.5000,  ..., 0.0000, 0.0000, 0.5000]])\n"
     ]
    }
   ],
   "source": [
    "print(\"Batch Shape:\", sample_batch.shape)  # Expected: (batch_size, num_markers)\n",
    "print(\"First 5 Samples:\\n\", sample_batch[:5])  # Show first 5 rows"
   ]
  },
  {
   "cell_type": "markdown",
   "id": "e6de8a14-25df-48f5-9be8-6aa15fd9d257",
   "metadata": {},
   "source": [
    "- Time Embeddings"
   ]
  },
  {
   "cell_type": "code",
   "execution_count": 13,
   "id": "4b215676-be86-4ea1-8edd-8b51b733e8a6",
   "metadata": {},
   "outputs": [
    {
     "ename": "NameError",
     "evalue": "name 'Sequence' is not defined",
     "output_type": "error",
     "traceback": [
      "\u001b[0;31m---------------------------------------------------------------------------\u001b[0m",
      "\u001b[0;31mNameError\u001b[0m                                 Traceback (most recent call last)",
      "Cell \u001b[0;32mIn[13], line 1\u001b[0m\n\u001b[0;32m----> 1\u001b[0m \u001b[38;5;28;01mfrom\u001b[39;00m\u001b[38;5;250m \u001b[39m\u001b[38;5;21;01mmodel\u001b[39;00m\u001b[38;5;250m \u001b[39m\u001b[38;5;28;01mimport\u001b[39;00m SinusoidalTimeEmbedding\n",
      "File \u001b[0;32m~/Semester/Thesis/GenomeDiffusion/model.py:80\u001b[0m\n\u001b[1;32m     75\u001b[0m         \u001b[38;5;28;01mreturn\u001b[39;00m emb\n\u001b[1;32m     78\u001b[0m \u001b[38;5;66;03m# ## _Sampling_\u001b[39;00m\n\u001b[0;32m---> 80\u001b[0m \u001b[38;5;28;43;01mclass\u001b[39;49;00m\u001b[38;5;250;43m \u001b[39;49m\u001b[38;5;21;43;01mUniformDiscreteTimeSampler\u001b[39;49;00m\u001b[43m:\u001b[49m\n\u001b[1;32m     82\u001b[0m \u001b[43m    \u001b[49m\u001b[38;5;28;43;01mdef\u001b[39;49;00m\u001b[38;5;250;43m \u001b[39;49m\u001b[38;5;21;43m__init__\u001b[39;49m\u001b[43m(\u001b[49m\u001b[38;5;28;43mself\u001b[39;49m\u001b[43m,\u001b[49m\u001b[43m \u001b[49m\u001b[43mtmin\u001b[49m\u001b[43m:\u001b[49m\u001b[43m \u001b[49m\u001b[38;5;28;43mint\u001b[39;49m\u001b[43m,\u001b[49m\u001b[43m \u001b[49m\u001b[43mtmax\u001b[49m\u001b[43m:\u001b[49m\u001b[43m \u001b[49m\u001b[38;5;28;43mint\u001b[39;49m\u001b[43m)\u001b[49m\u001b[43m:\u001b[49m\n\u001b[1;32m     83\u001b[0m \u001b[43m        \u001b[49m\u001b[38;5;28;43mself\u001b[39;49m\u001b[38;5;241;43m.\u001b[39;49m\u001b[43m_tmin\u001b[49m\u001b[43m \u001b[49m\u001b[38;5;241;43m=\u001b[39;49m\u001b[43m \u001b[49m\u001b[43mtmin\u001b[49m\n",
      "File \u001b[0;32m~/Semester/Thesis/GenomeDiffusion/model.py:86\u001b[0m, in \u001b[0;36mUniformDiscreteTimeSampler\u001b[0;34m()\u001b[0m\n\u001b[1;32m     83\u001b[0m     \u001b[38;5;28mself\u001b[39m\u001b[38;5;241m.\u001b[39m_tmin \u001b[38;5;241m=\u001b[39m tmin\n\u001b[1;32m     84\u001b[0m     \u001b[38;5;28mself\u001b[39m\u001b[38;5;241m.\u001b[39m_tmax \u001b[38;5;241m=\u001b[39m tmax\n\u001b[0;32m---> 86\u001b[0m \u001b[38;5;28;01mdef\u001b[39;00m\u001b[38;5;250m \u001b[39m\u001b[38;5;21msample\u001b[39m(\u001b[38;5;28mself\u001b[39m, shape: \u001b[43mSequence\u001b[49m[\u001b[38;5;28mint\u001b[39m]) \u001b[38;5;241m-\u001b[39m\u001b[38;5;241m>\u001b[39m torch\u001b[38;5;241m.\u001b[39mTensor:\n\u001b[1;32m     87\u001b[0m     \u001b[38;5;28;01mreturn\u001b[39;00m torch\u001b[38;5;241m.\u001b[39mrandint(low\u001b[38;5;241m=\u001b[39m\u001b[38;5;28mself\u001b[39m\u001b[38;5;241m.\u001b[39m_tmin, high\u001b[38;5;241m=\u001b[39m\u001b[38;5;28mself\u001b[39m\u001b[38;5;241m.\u001b[39m_tmax, size\u001b[38;5;241m=\u001b[39mshape)\n",
      "\u001b[0;31mNameError\u001b[0m: name 'Sequence' is not defined"
     ]
    }
   ],
   "source": [
    "from model import SinusoidalTimeEmbedding"
   ]
  },
  {
   "cell_type": "code",
   "execution_count": null,
   "id": "8ba8dbbe-f152-44c2-aa81-596185a18d1a",
   "metadata": {},
   "outputs": [],
   "source": []
  },
  {
   "cell_type": "code",
   "execution_count": null,
   "id": "23a3a9f0-e329-4e2b-a8d2-d20912dc3499",
   "metadata": {},
   "outputs": [],
   "source": []
  },
  {
   "cell_type": "markdown",
   "id": "c01e138a-0332-49c7-a841-38c7cb8d2a7c",
   "metadata": {},
   "source": [
    "## _Test Model_"
   ]
  },
  {
   "cell_type": "code",
   "execution_count": null,
   "id": "3c0c7889-6ce5-46ce-92a9-47ba9c2ffa0f",
   "metadata": {},
   "outputs": [],
   "source": [
    "# create the model\n",
    "diffusion_process = DiscreteDDPMProcess(num_diffusion_timesteps=1000)\n",
    "time_sampler = UniformDiscreteTimeSampler(diffusion_process.tmin, diffusion_process.tmax)\n",
    "model = DiffusionModel(diffusion_process, time_sampler, net_config=NetConfig(), data_shape=(6,))"
   ]
  }
 ],
 "metadata": {
  "kernelspec": {
   "display_name": "Python 3 (ipykernel)",
   "language": "python",
   "name": "python3"
  },
  "language_info": {
   "codemirror_mode": {
    "name": "ipython",
    "version": 3
   },
   "file_extension": ".py",
   "mimetype": "text/x-python",
   "name": "python",
   "nbconvert_exporter": "python",
   "pygments_lexer": "ipython3",
   "version": "3.13.1"
  }
 },
 "nbformat": 4,
 "nbformat_minor": 5
}
