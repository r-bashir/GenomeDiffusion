{
 "cells": [
  {
   "cell_type": "code",
   "execution_count": 1,
   "id": "6fda75ea",
   "metadata": {},
   "outputs": [],
   "source": [
    "import pyarrow\n",
    "import fastparquet\n",
    "import numpy as np\n",
    "import pandas as pd\n",
    "\n",
    "# For Visualization\n",
    "import seaborn as sns \n",
    "import matplotlib.pyplot as plt\n",
    "%matplotlib inline     \n",
    "sns.set(color_codes=True)"
   ]
  },
  {
   "cell_type": "code",
   "execution_count": 3,
   "id": "06b3f368",
   "metadata": {},
   "outputs": [
    {
     "name": "stdout",
     "output_type": "stream",
     "text": [
      "19.0.0\n"
     ]
    }
   ],
   "source": [
    "print(pyarrow.__version__)"
   ]
  },
  {
   "cell_type": "code",
   "execution_count": 4,
   "id": "a59163df",
   "metadata": {},
   "outputs": [
    {
     "name": "stdout",
     "output_type": "stream",
     "text": [
      "2024.11.0\n"
     ]
    }
   ],
   "source": [
    "print(fastparquet.__version__)"
   ]
  },
  {
   "cell_type": "markdown",
   "id": "e1823458",
   "metadata": {},
   "source": [
    "- Fam file contains population/sample information\n",
    "- Bim file contains information on the SNP position (basepair and centimorgan)\n",
    "- parquet file contains the snp data\n",
    "\n",
    "- Below is examples of how to read the data using pandas/numpy.\n",
    "- I have also included a .eigenstratgeno file, which is a raw text file with the SNP data. It is large, and slow to read, so i would recommend the parquet file."
   ]
  },
  {
   "cell_type": "markdown",
   "id": "8d495b40-e27f-4b51-a415-792adfdfdaa6",
   "metadata": {},
   "source": [
    "# - *Fam*"
   ]
  },
  {
   "cell_type": "code",
   "execution_count": 5,
   "id": "82b1439b",
   "metadata": {},
   "outputs": [],
   "source": [
    "fam = pd.read_csv(\"HO_data/HO_data_filtered/HumanOrigins2067_filtered.fam\", delimiter = \" \", header = None).to_numpy()"
   ]
  },
  {
   "cell_type": "code",
   "execution_count": 6,
   "id": "f6260ec0-45b3-4667-b2fc-b8be568753e5",
   "metadata": {},
   "outputs": [
    {
     "data": {
      "text/plain": [
       "array([['AA', 'AD_066', 0, 0, 0, 1],\n",
       "       ['AA', 'AD_064', 0, 0, 0, 1],\n",
       "       ['AA', 'AD_505', 0, 0, 0, 1],\n",
       "       ...,\n",
       "       ['Zapotec', 'Zapo0091', 0, 0, 0, 1],\n",
       "       ['Zapotec', 'Zapo0095', 0, 0, 0, 1],\n",
       "       ['Zapotec', 'Zapo0097', 0, 0, 0, 1]], dtype=object)"
      ]
     },
     "execution_count": 6,
     "metadata": {},
     "output_type": "execute_result"
    }
   ],
   "source": [
    "fam"
   ]
  },
  {
   "cell_type": "markdown",
   "id": "4f966642-a412-4ebe-b61b-eb42c8a04e82",
   "metadata": {},
   "source": [
    "- `dtype('0')` in NumPy stands for \"object\" data type. This means that the array contains Python objects (e.g., strings, mixed types, or other non-primitive types).\n"
   ]
  },
  {
   "cell_type": "code",
   "execution_count": 9,
   "id": "27d86c56-dd6b-4e07-ba81-ca3b7ebb0ef3",
   "metadata": {},
   "outputs": [],
   "source": [
    "columns = [\"Family_ID\", \"Individual_ID\", \"Paternal_ID\", \"Maternal_ID\", \"Sex\", \"Phenotype\"]\n",
    "\n",
    "fam_df = pd.read_csv(\"HO_data/HO_data_filtered/HumanOrigins2067_filtered.fam\", sep=\"\\s+\", names=columns)"
   ]
  },
  {
   "cell_type": "code",
   "execution_count": 10,
   "id": "b13043ba-958a-479d-9b7b-2f2e9197e3b3",
   "metadata": {},
   "outputs": [
    {
     "data": {
      "text/html": [
       "<div>\n",
       "<style scoped>\n",
       "    .dataframe tbody tr th:only-of-type {\n",
       "        vertical-align: middle;\n",
       "    }\n",
       "\n",
       "    .dataframe tbody tr th {\n",
       "        vertical-align: top;\n",
       "    }\n",
       "\n",
       "    .dataframe thead th {\n",
       "        text-align: right;\n",
       "    }\n",
       "</style>\n",
       "<table border=\"1\" class=\"dataframe\">\n",
       "  <thead>\n",
       "    <tr style=\"text-align: right;\">\n",
       "      <th></th>\n",
       "      <th>Family_ID</th>\n",
       "      <th>Individual_ID</th>\n",
       "      <th>Paternal_ID</th>\n",
       "      <th>Maternal_ID</th>\n",
       "      <th>Sex</th>\n",
       "      <th>Phenotype</th>\n",
       "    </tr>\n",
       "  </thead>\n",
       "  <tbody>\n",
       "    <tr>\n",
       "      <th>0</th>\n",
       "      <td>AA</td>\n",
       "      <td>AD_066</td>\n",
       "      <td>0</td>\n",
       "      <td>0</td>\n",
       "      <td>0</td>\n",
       "      <td>1</td>\n",
       "    </tr>\n",
       "    <tr>\n",
       "      <th>1</th>\n",
       "      <td>AA</td>\n",
       "      <td>AD_064</td>\n",
       "      <td>0</td>\n",
       "      <td>0</td>\n",
       "      <td>0</td>\n",
       "      <td>1</td>\n",
       "    </tr>\n",
       "    <tr>\n",
       "      <th>2</th>\n",
       "      <td>AA</td>\n",
       "      <td>AD_505</td>\n",
       "      <td>0</td>\n",
       "      <td>0</td>\n",
       "      <td>0</td>\n",
       "      <td>1</td>\n",
       "    </tr>\n",
       "    <tr>\n",
       "      <th>3</th>\n",
       "      <td>AA</td>\n",
       "      <td>AD_523</td>\n",
       "      <td>0</td>\n",
       "      <td>0</td>\n",
       "      <td>0</td>\n",
       "      <td>1</td>\n",
       "    </tr>\n",
       "    <tr>\n",
       "      <th>4</th>\n",
       "      <td>AA</td>\n",
       "      <td>AD_500</td>\n",
       "      <td>0</td>\n",
       "      <td>0</td>\n",
       "      <td>0</td>\n",
       "      <td>1</td>\n",
       "    </tr>\n",
       "  </tbody>\n",
       "</table>\n",
       "</div>"
      ],
      "text/plain": [
       "  Family_ID Individual_ID  Paternal_ID  Maternal_ID  Sex  Phenotype\n",
       "0        AA        AD_066            0            0    0          1\n",
       "1        AA        AD_064            0            0    0          1\n",
       "2        AA        AD_505            0            0    0          1\n",
       "3        AA        AD_523            0            0    0          1\n",
       "4        AA        AD_500            0            0    0          1"
      ]
     },
     "execution_count": 10,
     "metadata": {},
     "output_type": "execute_result"
    }
   ],
   "source": [
    "fam_df.head()"
   ]
  },
  {
   "cell_type": "code",
   "execution_count": 15,
   "id": "a556c99e-4b44-4803-ab2b-91a0720879c8",
   "metadata": {},
   "outputs": [
    {
     "data": {
      "text/plain": [
       "Family_ID\n",
       "Yoruba             70\n",
       "French             61\n",
       "Turkish            56\n",
       "Spanish            53\n",
       "Han                43\n",
       "                   ..\n",
       "Datog               3\n",
       "Australian          3\n",
       "Dolgan              3\n",
       "Canary_Islander     2\n",
       "Saami_WGA           1\n",
       "Name: count, Length: 166, dtype: int64"
      ]
     },
     "execution_count": 15,
     "metadata": {},
     "output_type": "execute_result"
    }
   ],
   "source": [
    "fam_df.Family_ID.value_counts()"
   ]
  },
  {
   "cell_type": "code",
   "execution_count": 21,
   "id": "9b4eeddb-c195-49bc-b4dc-92a01d8455d7",
   "metadata": {},
   "outputs": [
    {
     "data": {
      "text/plain": [
       "np.int64(70)"
      ]
     },
     "execution_count": 21,
     "metadata": {},
     "output_type": "execute_result"
    }
   ],
   "source": [
    "(fam_df['Family_ID'] == \"Yoruba\").sum()"
   ]
  },
  {
   "cell_type": "code",
   "execution_count": 22,
   "id": "a9ee260c-1d02-437b-b9b9-5b13a0814fa7",
   "metadata": {},
   "outputs": [
    {
     "name": "stdout",
     "output_type": "stream",
     "text": [
      "<class 'pandas.core.frame.DataFrame'>\n",
      "RangeIndex: 2067 entries, 0 to 2066\n",
      "Data columns (total 6 columns):\n",
      " #   Column         Non-Null Count  Dtype \n",
      "---  ------         --------------  ----- \n",
      " 0   Family_ID      2067 non-null   object\n",
      " 1   Individual_ID  2067 non-null   object\n",
      " 2   Paternal_ID    2067 non-null   int64 \n",
      " 3   Maternal_ID    2067 non-null   int64 \n",
      " 4   Sex            2067 non-null   int64 \n",
      " 5   Phenotype      2067 non-null   int64 \n",
      "dtypes: int64(4), object(2)\n",
      "memory usage: 97.0+ KB\n"
     ]
    }
   ],
   "source": [
    "fam_df.info()"
   ]
  },
  {
   "cell_type": "code",
   "execution_count": 23,
   "id": "cc6f8ab3",
   "metadata": {},
   "outputs": [
    {
     "data": {
      "text/html": [
       "<div>\n",
       "<style scoped>\n",
       "    .dataframe tbody tr th:only-of-type {\n",
       "        vertical-align: middle;\n",
       "    }\n",
       "\n",
       "    .dataframe tbody tr th {\n",
       "        vertical-align: top;\n",
       "    }\n",
       "\n",
       "    .dataframe thead th {\n",
       "        text-align: right;\n",
       "    }\n",
       "</style>\n",
       "<table border=\"1\" class=\"dataframe\">\n",
       "  <thead>\n",
       "    <tr style=\"text-align: right;\">\n",
       "      <th></th>\n",
       "      <th>Paternal_ID</th>\n",
       "      <th>Maternal_ID</th>\n",
       "      <th>Sex</th>\n",
       "      <th>Phenotype</th>\n",
       "    </tr>\n",
       "  </thead>\n",
       "  <tbody>\n",
       "    <tr>\n",
       "      <th>count</th>\n",
       "      <td>2067.0</td>\n",
       "      <td>2067.0</td>\n",
       "      <td>2067.0</td>\n",
       "      <td>2067.0</td>\n",
       "    </tr>\n",
       "    <tr>\n",
       "      <th>mean</th>\n",
       "      <td>0.0</td>\n",
       "      <td>0.0</td>\n",
       "      <td>0.0</td>\n",
       "      <td>1.0</td>\n",
       "    </tr>\n",
       "    <tr>\n",
       "      <th>std</th>\n",
       "      <td>0.0</td>\n",
       "      <td>0.0</td>\n",
       "      <td>0.0</td>\n",
       "      <td>0.0</td>\n",
       "    </tr>\n",
       "    <tr>\n",
       "      <th>min</th>\n",
       "      <td>0.0</td>\n",
       "      <td>0.0</td>\n",
       "      <td>0.0</td>\n",
       "      <td>1.0</td>\n",
       "    </tr>\n",
       "    <tr>\n",
       "      <th>25%</th>\n",
       "      <td>0.0</td>\n",
       "      <td>0.0</td>\n",
       "      <td>0.0</td>\n",
       "      <td>1.0</td>\n",
       "    </tr>\n",
       "    <tr>\n",
       "      <th>50%</th>\n",
       "      <td>0.0</td>\n",
       "      <td>0.0</td>\n",
       "      <td>0.0</td>\n",
       "      <td>1.0</td>\n",
       "    </tr>\n",
       "    <tr>\n",
       "      <th>75%</th>\n",
       "      <td>0.0</td>\n",
       "      <td>0.0</td>\n",
       "      <td>0.0</td>\n",
       "      <td>1.0</td>\n",
       "    </tr>\n",
       "    <tr>\n",
       "      <th>max</th>\n",
       "      <td>0.0</td>\n",
       "      <td>0.0</td>\n",
       "      <td>0.0</td>\n",
       "      <td>1.0</td>\n",
       "    </tr>\n",
       "  </tbody>\n",
       "</table>\n",
       "</div>"
      ],
      "text/plain": [
       "       Paternal_ID  Maternal_ID     Sex  Phenotype\n",
       "count       2067.0       2067.0  2067.0     2067.0\n",
       "mean           0.0          0.0     0.0        1.0\n",
       "std            0.0          0.0     0.0        0.0\n",
       "min            0.0          0.0     0.0        1.0\n",
       "25%            0.0          0.0     0.0        1.0\n",
       "50%            0.0          0.0     0.0        1.0\n",
       "75%            0.0          0.0     0.0        1.0\n",
       "max            0.0          0.0     0.0        1.0"
      ]
     },
     "execution_count": 23,
     "metadata": {},
     "output_type": "execute_result"
    }
   ],
   "source": [
    "fam_df.describe()"
   ]
  },
  {
   "cell_type": "code",
   "execution_count": 24,
   "id": "e174dbf4-9153-4402-a1e8-1cc4c5340eb6",
   "metadata": {},
   "outputs": [
    {
     "data": {
      "text/plain": [
       "'Number of unique family IDs: 166'"
      ]
     },
     "execution_count": 24,
     "metadata": {},
     "output_type": "execute_result"
    }
   ],
   "source": [
    "# Count how many unique Family IDs\n",
    "unique_families = np.unique(fam_df.iloc[:, 0])\n",
    "\n",
    "f\"Number of unique family IDs: {len(unique_families)}\""
   ]
  },
  {
   "cell_type": "code",
   "execution_count": 25,
   "id": "4795d7b7-03c6-48f0-8284-c3e5c769a5f0",
   "metadata": {},
   "outputs": [
    {
     "data": {
      "text/plain": [
       "('number of duplicate rows: ', (0, 6))"
      ]
     },
     "execution_count": 25,
     "metadata": {},
     "output_type": "execute_result"
    }
   ],
   "source": [
    "duplicate_rows_fam_df = fam_df[fam_df.duplicated()]\n",
    "\n",
    "\"number of duplicate rows: \", duplicate_rows_fam_df.shape"
   ]
  },
  {
   "cell_type": "code",
   "execution_count": 26,
   "id": "48320b4d-7150-48b3-90d5-9850c7e665b0",
   "metadata": {},
   "outputs": [
    {
     "name": "stdout",
     "output_type": "stream",
     "text": [
      "Number of affected individuals: 2067\n"
     ]
    }
   ],
   "source": [
    "phenotype_column = fam_df.iloc[:, 5]\n",
    "\n",
    "# Count the number of affected individuals\n",
    "affected = np.sum(phenotype_column == 1)\n",
    "print(f\"Number of affected individuals: {affected}\")"
   ]
  },
  {
   "cell_type": "markdown",
   "id": "b010c58e-c362-485e-871f-8ef2734cd882",
   "metadata": {},
   "source": [
    "# - *bim*\n",
    " *This `.bim file` is a `PLINK BIM` (binary map) file used in genetics and bioinformatics. It provides information about genetic variants (SNPs) in a dataset.*"
   ]
  },
  {
   "cell_type": "code",
   "execution_count": 29,
   "id": "dce71d42",
   "metadata": {},
   "outputs": [],
   "source": [
    "bim = np.genfromtxt(\"HO_data/HO_data_filtered/HumanOrigins2067_filtered.bim\", usecols=(0, 1, 2, 3, 4, 5), dtype=str)"
   ]
  },
  {
   "cell_type": "code",
   "execution_count": 36,
   "id": "a531567e-93a9-4024-bc89-620f2d380015",
   "metadata": {},
   "outputs": [
    {
     "data": {
      "text/plain": [
       "array(['1', 'rs3094315', '0.020130', '752566', 'G', 'A'], dtype='<U16')"
      ]
     },
     "execution_count": 36,
     "metadata": {},
     "output_type": "execute_result"
    }
   ],
   "source": [
    "bim[0]"
   ]
  },
  {
   "cell_type": "markdown",
   "id": "18d09eba-0a55-4b71-b15e-14cd8b5d1578",
   "metadata": {},
   "source": [
    "- `dtype('<U16')` in NumPy means that the array contains Unicode strings with a maximum length of 16 characters."
   ]
  },
  {
   "cell_type": "code",
   "execution_count": 37,
   "id": "67988e6d-3ba9-4ba1-9312-94fa2020a57d",
   "metadata": {},
   "outputs": [],
   "source": [
    "columns = [\"Chromosome\", \"SNP_ID\", \"Genetic_Distance\", \"Position\", \"Ref_Allele\", \"Alt_Allele\"]\n",
    "\n",
    "bim_df = pd.read_csv(\"HO_data/HO_data_filtered/HumanOrigins2067_filtered.bim\", sep=\"\\s+\", names=columns)"
   ]
  },
  {
   "cell_type": "code",
   "execution_count": 38,
   "id": "99e55893-e610-45c7-9a19-3a2e94784f9c",
   "metadata": {},
   "outputs": [
    {
     "data": {
      "text/html": [
       "<div>\n",
       "<style scoped>\n",
       "    .dataframe tbody tr th:only-of-type {\n",
       "        vertical-align: middle;\n",
       "    }\n",
       "\n",
       "    .dataframe tbody tr th {\n",
       "        vertical-align: top;\n",
       "    }\n",
       "\n",
       "    .dataframe thead th {\n",
       "        text-align: right;\n",
       "    }\n",
       "</style>\n",
       "<table border=\"1\" class=\"dataframe\">\n",
       "  <thead>\n",
       "    <tr style=\"text-align: right;\">\n",
       "      <th></th>\n",
       "      <th>Chromosome</th>\n",
       "      <th>SNP_ID</th>\n",
       "      <th>Genetic_Distance</th>\n",
       "      <th>Position</th>\n",
       "      <th>Ref_Allele</th>\n",
       "      <th>Alt_Allele</th>\n",
       "    </tr>\n",
       "  </thead>\n",
       "  <tbody>\n",
       "    <tr>\n",
       "      <th>0</th>\n",
       "      <td>1</td>\n",
       "      <td>rs3094315</td>\n",
       "      <td>0.020130</td>\n",
       "      <td>752566</td>\n",
       "      <td>G</td>\n",
       "      <td>A</td>\n",
       "    </tr>\n",
       "    <tr>\n",
       "      <th>1</th>\n",
       "      <td>1</td>\n",
       "      <td>rs7419119</td>\n",
       "      <td>0.022518</td>\n",
       "      <td>842013</td>\n",
       "      <td>G</td>\n",
       "      <td>T</td>\n",
       "    </tr>\n",
       "    <tr>\n",
       "      <th>2</th>\n",
       "      <td>1</td>\n",
       "      <td>rs13302957</td>\n",
       "      <td>0.024116</td>\n",
       "      <td>891021</td>\n",
       "      <td>G</td>\n",
       "      <td>A</td>\n",
       "    </tr>\n",
       "    <tr>\n",
       "      <th>3</th>\n",
       "      <td>1</td>\n",
       "      <td>rs6696609</td>\n",
       "      <td>0.024457</td>\n",
       "      <td>903426</td>\n",
       "      <td>T</td>\n",
       "      <td>C</td>\n",
       "    </tr>\n",
       "    <tr>\n",
       "      <th>4</th>\n",
       "      <td>1</td>\n",
       "      <td>rs8997</td>\n",
       "      <td>0.025727</td>\n",
       "      <td>949654</td>\n",
       "      <td>A</td>\n",
       "      <td>G</td>\n",
       "    </tr>\n",
       "  </tbody>\n",
       "</table>\n",
       "</div>"
      ],
      "text/plain": [
       "   Chromosome      SNP_ID  Genetic_Distance  Position Ref_Allele Alt_Allele\n",
       "0           1   rs3094315          0.020130    752566          G          A\n",
       "1           1   rs7419119          0.022518    842013          G          T\n",
       "2           1  rs13302957          0.024116    891021          G          A\n",
       "3           1   rs6696609          0.024457    903426          T          C\n",
       "4           1      rs8997          0.025727    949654          A          G"
      ]
     },
     "execution_count": 38,
     "metadata": {},
     "output_type": "execute_result"
    }
   ],
   "source": [
    "bim_df.head()"
   ]
  },
  {
   "cell_type": "code",
   "execution_count": 39,
   "id": "20f82014-2f9c-4832-8dcc-3d9dac5fc667",
   "metadata": {},
   "outputs": [
    {
     "name": "stdout",
     "output_type": "stream",
     "text": [
      "<class 'pandas.core.frame.DataFrame'>\n",
      "RangeIndex: 160858 entries, 0 to 160857\n",
      "Data columns (total 6 columns):\n",
      " #   Column            Non-Null Count   Dtype  \n",
      "---  ------            --------------   -----  \n",
      " 0   Chromosome        160858 non-null  int64  \n",
      " 1   SNP_ID            160858 non-null  object \n",
      " 2   Genetic_Distance  160858 non-null  float64\n",
      " 3   Position          160858 non-null  int64  \n",
      " 4   Ref_Allele        160858 non-null  object \n",
      " 5   Alt_Allele        160858 non-null  object \n",
      "dtypes: float64(1), int64(2), object(3)\n",
      "memory usage: 7.4+ MB\n"
     ]
    }
   ],
   "source": [
    "bim_df.info()"
   ]
  },
  {
   "cell_type": "markdown",
   "id": "c55b852b-d3ba-4aab-8a99-cab2022723dc",
   "metadata": {},
   "source": [
    "*.Chromosome 1*\n",
    "\n",
    "*.`SNP ID`: unique identifier for this SNP - Reference SNP identifier -rsID*\n",
    "\n",
    "*.`Genetic Distance`: cM - Centimorgans (may not always be used)*\n",
    "\n",
    "*.`Physical Position`: this SNP is located at base pair 752,566 on chromosome 1*\n",
    "\n",
    "*.`Reference Allele`: G - major allele*\n",
    "\n",
    "*.`Alternative Allele`: A - minor allele*"
   ]
  },
  {
   "cell_type": "code",
   "execution_count": 27,
   "id": "91f36472-5572-4e4f-a644-7967f4f33eb0",
   "metadata": {},
   "outputs": [
    {
     "data": {
      "text/html": [
       "<div>\n",
       "<style scoped>\n",
       "    .dataframe tbody tr th:only-of-type {\n",
       "        vertical-align: middle;\n",
       "    }\n",
       "\n",
       "    .dataframe tbody tr th {\n",
       "        vertical-align: top;\n",
       "    }\n",
       "\n",
       "    .dataframe thead th {\n",
       "        text-align: right;\n",
       "    }\n",
       "</style>\n",
       "<table border=\"1\" class=\"dataframe\">\n",
       "  <thead>\n",
       "    <tr style=\"text-align: right;\">\n",
       "      <th></th>\n",
       "      <th>Chromosome</th>\n",
       "      <th>Genetic_Distance</th>\n",
       "      <th>Position</th>\n",
       "    </tr>\n",
       "  </thead>\n",
       "  <tbody>\n",
       "    <tr>\n",
       "      <th>count</th>\n",
       "      <td>160858.000000</td>\n",
       "      <td>160858.000000</td>\n",
       "      <td>1.608580e+05</td>\n",
       "    </tr>\n",
       "    <tr>\n",
       "      <th>mean</th>\n",
       "      <td>8.991744</td>\n",
       "      <td>0.930690</td>\n",
       "      <td>7.849409e+07</td>\n",
       "    </tr>\n",
       "    <tr>\n",
       "      <th>std</th>\n",
       "      <td>5.945411</td>\n",
       "      <td>0.590934</td>\n",
       "      <td>5.802305e+07</td>\n",
       "    </tr>\n",
       "    <tr>\n",
       "      <th>min</th>\n",
       "      <td>1.000000</td>\n",
       "      <td>0.000013</td>\n",
       "      <td>1.968800e+04</td>\n",
       "    </tr>\n",
       "    <tr>\n",
       "      <th>25%</th>\n",
       "      <td>4.000000</td>\n",
       "      <td>0.473851</td>\n",
       "      <td>3.021285e+07</td>\n",
       "    </tr>\n",
       "    <tr>\n",
       "      <th>50%</th>\n",
       "      <td>8.000000</td>\n",
       "      <td>0.848425</td>\n",
       "      <td>6.873518e+07</td>\n",
       "    </tr>\n",
       "    <tr>\n",
       "      <th>75%</th>\n",
       "      <td>13.000000</td>\n",
       "      <td>1.299260</td>\n",
       "      <td>1.164211e+08</td>\n",
       "    </tr>\n",
       "    <tr>\n",
       "      <th>max</th>\n",
       "      <td>22.000000</td>\n",
       "      <td>2.862305</td>\n",
       "      <td>2.491684e+08</td>\n",
       "    </tr>\n",
       "  </tbody>\n",
       "</table>\n",
       "</div>"
      ],
      "text/plain": [
       "          Chromosome  Genetic_Distance      Position\n",
       "count  160858.000000     160858.000000  1.608580e+05\n",
       "mean        8.991744          0.930690  7.849409e+07\n",
       "std         5.945411          0.590934  5.802305e+07\n",
       "min         1.000000          0.000013  1.968800e+04\n",
       "25%         4.000000          0.473851  3.021285e+07\n",
       "50%         8.000000          0.848425  6.873518e+07\n",
       "75%        13.000000          1.299260  1.164211e+08\n",
       "max        22.000000          2.862305  2.491684e+08"
      ]
     },
     "execution_count": 27,
     "metadata": {},
     "output_type": "execute_result"
    }
   ],
   "source": [
    "bim_df.describe()"
   ]
  },
  {
   "cell_type": "code",
   "execution_count": 33,
   "id": "32f92393-0703-4d54-98f7-ea639eff7fdf",
   "metadata": {},
   "outputs": [
    {
     "data": {
      "text/plain": [
       "('number of duplicate rows: ', (0, 6))"
      ]
     },
     "execution_count": 33,
     "metadata": {},
     "output_type": "execute_result"
    }
   ],
   "source": [
    "bim_df_duplicate = bim_df[bim_df.duplicated()]\n",
    "\n",
    "\"number of duplicate rows: \", bim_df_duplicate.shape"
   ]
  },
  {
   "cell_type": "code",
   "execution_count": 40,
   "id": "084a8b18-7ce7-4499-94ad-73def9af94c2",
   "metadata": {},
   "outputs": [
    {
     "data": {
      "text/plain": [
       "<seaborn.axisgrid.PairGrid at 0x7fd08e3c6220>"
      ]
     },
     "execution_count": 40,
     "metadata": {},
     "output_type": "execute_result"
    },
    {
     "data": {
      "image/png": "[encoded data removed]",
      "text/plain": [
       "<Figure size 750x750 with 12 Axes>"
      ]
     },
     "metadata": {},
     "output_type": "display_data"
    }
   ],
   "source": [
    "sns.pairplot(bim_df)"
   ]
  },
  {
   "cell_type": "code",
   "execution_count": 41,
   "id": "1d0ad155-fb8c-4dd1-8eb0-37835869cd1b",
   "metadata": {},
   "outputs": [
    {
     "data": {
      "image/png": "[encoded data removed]",
      "text/plain": [
       "<Figure size 640x480 with 1 Axes>"
      ]
     },
     "metadata": {},
     "output_type": "display_data"
    }
   ],
   "source": [
    "sns.histplot(bim_df['Genetic_Distance'], color='g', bins=100, alpha=0.4)\n",
    "plt.show()"
   ]
  },
  {
   "cell_type": "code",
   "execution_count": 42,
   "id": "e22186f0-e3f9-4a8f-a191-5e69b78f0eda",
   "metadata": {},
   "outputs": [
    {
     "data": {
      "image/png": "[encoded data removed]",
      "text/plain": [
       "<Figure size 640x480 with 1 Axes>"
      ]
     },
     "metadata": {},
     "output_type": "display_data"
    }
   ],
   "source": [
    "sns.histplot(bim_df['Position'], color='g', bins=100, alpha=0.4)\n",
    "plt.show()"
   ]
  },
  {
   "cell_type": "code",
   "execution_count": 43,
   "id": "237b536c-9041-4504-913a-597cf7409996",
   "metadata": {},
   "outputs": [
    {
     "data": {
      "image/png": "[encoded data removed]",
      "text/plain": [
       "<Figure size 640x480 with 1 Axes>"
      ]
     },
     "metadata": {},
     "output_type": "display_data"
    }
   ],
   "source": [
    "sns.histplot(bim_df['Chromosome'], color='g', bins=100, alpha=0.4)\n",
    "plt.show()"
   ]
  },
  {
   "cell_type": "code",
   "execution_count": 44,
   "id": "5673af24-3047-411c-bf91-aabc45fa50cb",
   "metadata": {},
   "outputs": [
    {
     "data": {
      "text/plain": [
       "[dtype('int64'), dtype('float64'), dtype('O')]"
      ]
     },
     "execution_count": 44,
     "metadata": {},
     "output_type": "execute_result"
    }
   ],
   "source": [
    "list(set(bim_df.dtypes.tolist()))"
   ]
  },
  {
   "cell_type": "code",
   "execution_count": 45,
   "id": "d32e5176-3ed7-45dc-bda9-b0696fa3aaab",
   "metadata": {},
   "outputs": [
    {
     "data": {
      "text/html": [
       "<div>\n",
       "<style scoped>\n",
       "    .dataframe tbody tr th:only-of-type {\n",
       "        vertical-align: middle;\n",
       "    }\n",
       "\n",
       "    .dataframe tbody tr th {\n",
       "        vertical-align: top;\n",
       "    }\n",
       "\n",
       "    .dataframe thead th {\n",
       "        text-align: right;\n",
       "    }\n",
       "</style>\n",
       "<table border=\"1\" class=\"dataframe\">\n",
       "  <thead>\n",
       "    <tr style=\"text-align: right;\">\n",
       "      <th></th>\n",
       "      <th>Chromosome</th>\n",
       "      <th>Genetic_Distance</th>\n",
       "      <th>Position</th>\n",
       "    </tr>\n",
       "  </thead>\n",
       "  <tbody>\n",
       "    <tr>\n",
       "      <th>0</th>\n",
       "      <td>1</td>\n",
       "      <td>0.020130</td>\n",
       "      <td>752566</td>\n",
       "    </tr>\n",
       "    <tr>\n",
       "      <th>1</th>\n",
       "      <td>1</td>\n",
       "      <td>0.022518</td>\n",
       "      <td>842013</td>\n",
       "    </tr>\n",
       "    <tr>\n",
       "      <th>2</th>\n",
       "      <td>1</td>\n",
       "      <td>0.024116</td>\n",
       "      <td>891021</td>\n",
       "    </tr>\n",
       "    <tr>\n",
       "      <th>3</th>\n",
       "      <td>1</td>\n",
       "      <td>0.024457</td>\n",
       "      <td>903426</td>\n",
       "    </tr>\n",
       "    <tr>\n",
       "      <th>4</th>\n",
       "      <td>1</td>\n",
       "      <td>0.025727</td>\n",
       "      <td>949654</td>\n",
       "    </tr>\n",
       "  </tbody>\n",
       "</table>\n",
       "</div>"
      ],
      "text/plain": [
       "   Chromosome  Genetic_Distance  Position\n",
       "0           1          0.020130    752566\n",
       "1           1          0.022518    842013\n",
       "2           1          0.024116    891021\n",
       "3           1          0.024457    903426\n",
       "4           1          0.025727    949654"
      ]
     },
     "execution_count": 45,
     "metadata": {},
     "output_type": "execute_result"
    }
   ],
   "source": [
    "bim_df_num = bim_df.select_dtypes(include = ['float64', 'int64'])\n",
    "bim_df_num.head()"
   ]
  },
  {
   "cell_type": "code",
   "execution_count": 50,
   "id": "677b33d6-b59b-47cb-bdc0-440aba2f4af7",
   "metadata": {
    "scrolled": true
   },
   "outputs": [
    {
     "data": {
      "image/png": "[encoded data removed]",
      "text/plain": [
       "<Figure size 600x400 with 4 Axes>"
      ]
     },
     "metadata": {},
     "output_type": "display_data"
    }
   ],
   "source": [
    "bim_df_num.hist(figsize=(6,4), bins=50, xlabelsize=8, ylabelsize=8);"
   ]
  },
  {
   "cell_type": "markdown",
   "id": "f033b646-b7a8-4790-89ce-8f8fa703ff67",
   "metadata": {},
   "source": [
    "# -*snp* "
   ]
  },
  {
   "cell_type": "code",
   "execution_count": 4,
   "id": "6178a99c-3042-4eee-89bd-0574429c4b0e",
   "metadata": {},
   "outputs": [
    {
     "name": "stdout",
     "output_type": "stream",
     "text": [
      "-rw-rw-r-- 1 rbashir rbashir 81M Jan 30 22:48 HO_data/HO_data_filtered/HumanOrigins2067_filtered.parquet\n"
     ]
    }
   ],
   "source": [
    "ls -lh HO_data/HO_data_filtered/HumanOrigins2067_filtered.parquet"
   ]
  },
  {
   "cell_type": "code",
   "execution_count": 2,
   "id": "682ed5a9-5d84-49bd-bf44-ac76dbeb4e1a",
   "metadata": {},
   "outputs": [],
   "source": [
    "snp_data = pd.read_parquet(\"HO_data/HO_data_filtered/HumanOrigins2067_filtered.parquet\").to_numpy()"
   ]
  },
  {
   "cell_type": "code",
   "execution_count": 3,
   "id": "36166248-be17-464e-a054-811e6b23e024",
   "metadata": {},
   "outputs": [],
   "source": [
    "# snp_data.head()"
   ]
  },
  {
   "cell_type": "code",
   "execution_count": 4,
   "id": "54d0c583-e3e0-4423-b096-c3da1adf00ad",
   "metadata": {},
   "outputs": [
    {
     "data": {
      "text/plain": [
       "array([[1., 1., 1., ..., 1., 0., 0.],\n",
       "       [0., 0., 1., ..., 0., 0., 1.],\n",
       "       [0., 1., 0., ..., 0., 1., 0.],\n",
       "       ...,\n",
       "       [1., 0., 1., ..., 0., 0., 2.],\n",
       "       [0., 0., 1., ..., 0., 0., 1.],\n",
       "       [1., 1., 1., ..., 1., 2., 1.]])"
      ]
     },
     "execution_count": 4,
     "metadata": {},
     "output_type": "execute_result"
    }
   ],
   "source": [
    "snp_data[:10]"
   ]
  },
  {
   "cell_type": "code",
   "execution_count": 5,
   "id": "b66d1cc3-386a-49fd-a71e-d2f8eb5072a3",
   "metadata": {},
   "outputs": [],
   "source": [
    "snp_data_df = pd.DataFrame(snp_data)"
   ]
  },
  {
   "cell_type": "code",
   "execution_count": 6,
   "id": "c81c48bd-b7bf-44f8-b53e-19c36b9a6f02",
   "metadata": {},
   "outputs": [
    {
     "name": "stdout",
     "output_type": "stream",
     "text": [
      "<class 'pandas.core.frame.DataFrame'>\n",
      "RangeIndex: 160858 entries, 0 to 160857\n",
      "Columns: 2067 entries, 0 to 2066\n",
      "dtypes: float64(2067)\n",
      "memory usage: 2.5 GB\n"
     ]
    }
   ],
   "source": [
    "snp_data_df.info()"
   ]
  },
  {
   "cell_type": "code",
   "execution_count": 7,
   "id": "d09d1219-df1e-4efb-a07e-98c6bea6b6e3",
   "metadata": {},
   "outputs": [
    {
     "data": {
      "text/html": [
       "<div>\n",
       "<style scoped>\n",
       "    .dataframe tbody tr th:only-of-type {\n",
       "        vertical-align: middle;\n",
       "    }\n",
       "\n",
       "    .dataframe tbody tr th {\n",
       "        vertical-align: top;\n",
       "    }\n",
       "\n",
       "    .dataframe thead th {\n",
       "        text-align: right;\n",
       "    }\n",
       "</style>\n",
       "<table border=\"1\" class=\"dataframe\">\n",
       "  <thead>\n",
       "    <tr style=\"text-align: right;\">\n",
       "      <th></th>\n",
       "      <th>0</th>\n",
       "      <th>1</th>\n",
       "      <th>2</th>\n",
       "      <th>3</th>\n",
       "      <th>4</th>\n",
       "      <th>5</th>\n",
       "      <th>6</th>\n",
       "      <th>7</th>\n",
       "      <th>8</th>\n",
       "      <th>9</th>\n",
       "      <th>...</th>\n",
       "      <th>2057</th>\n",
       "      <th>2058</th>\n",
       "      <th>2059</th>\n",
       "      <th>2060</th>\n",
       "      <th>2061</th>\n",
       "      <th>2062</th>\n",
       "      <th>2063</th>\n",
       "      <th>2064</th>\n",
       "      <th>2065</th>\n",
       "      <th>2066</th>\n",
       "    </tr>\n",
       "  </thead>\n",
       "  <tbody>\n",
       "    <tr>\n",
       "      <th>count</th>\n",
       "      <td>160858.000000</td>\n",
       "      <td>160858.000000</td>\n",
       "      <td>160858.000000</td>\n",
       "      <td>160858.000000</td>\n",
       "      <td>160858.000000</td>\n",
       "      <td>160858.000000</td>\n",
       "      <td>160858.000000</td>\n",
       "      <td>160858.000000</td>\n",
       "      <td>160858.000000</td>\n",
       "      <td>160858.000000</td>\n",
       "      <td>...</td>\n",
       "      <td>160858.000000</td>\n",
       "      <td>160858.000000</td>\n",
       "      <td>160858.000000</td>\n",
       "      <td>160858.000000</td>\n",
       "      <td>160858.000000</td>\n",
       "      <td>160858.000000</td>\n",
       "      <td>160858.000000</td>\n",
       "      <td>160858.000000</td>\n",
       "      <td>160858.000000</td>\n",
       "      <td>160858.000000</td>\n",
       "    </tr>\n",
       "    <tr>\n",
       "      <th>mean</th>\n",
       "      <td>0.456744</td>\n",
       "      <td>0.464658</td>\n",
       "      <td>0.439245</td>\n",
       "      <td>0.459324</td>\n",
       "      <td>0.447668</td>\n",
       "      <td>0.442800</td>\n",
       "      <td>0.463869</td>\n",
       "      <td>0.439095</td>\n",
       "      <td>0.449483</td>\n",
       "      <td>0.406253</td>\n",
       "      <td>...</td>\n",
       "      <td>0.363165</td>\n",
       "      <td>0.378396</td>\n",
       "      <td>0.352771</td>\n",
       "      <td>0.353921</td>\n",
       "      <td>0.462911</td>\n",
       "      <td>0.351733</td>\n",
       "      <td>0.355842</td>\n",
       "      <td>0.349812</td>\n",
       "      <td>0.354008</td>\n",
       "      <td>0.352273</td>\n",
       "    </tr>\n",
       "    <tr>\n",
       "      <th>std</th>\n",
       "      <td>0.857356</td>\n",
       "      <td>0.880367</td>\n",
       "      <td>0.738240</td>\n",
       "      <td>0.869027</td>\n",
       "      <td>0.802155</td>\n",
       "      <td>0.764393</td>\n",
       "      <td>0.866785</td>\n",
       "      <td>0.755820</td>\n",
       "      <td>0.820976</td>\n",
       "      <td>0.775762</td>\n",
       "      <td>...</td>\n",
       "      <td>0.810500</td>\n",
       "      <td>0.874970</td>\n",
       "      <td>0.757996</td>\n",
       "      <td>0.748606</td>\n",
       "      <td>1.216274</td>\n",
       "      <td>0.749528</td>\n",
       "      <td>0.773293</td>\n",
       "      <td>0.737285</td>\n",
       "      <td>0.761679</td>\n",
       "      <td>0.751060</td>\n",
       "    </tr>\n",
       "    <tr>\n",
       "      <th>min</th>\n",
       "      <td>0.000000</td>\n",
       "      <td>0.000000</td>\n",
       "      <td>0.000000</td>\n",
       "      <td>0.000000</td>\n",
       "      <td>0.000000</td>\n",
       "      <td>0.000000</td>\n",
       "      <td>0.000000</td>\n",
       "      <td>0.000000</td>\n",
       "      <td>0.000000</td>\n",
       "      <td>0.000000</td>\n",
       "      <td>...</td>\n",
       "      <td>0.000000</td>\n",
       "      <td>0.000000</td>\n",
       "      <td>0.000000</td>\n",
       "      <td>0.000000</td>\n",
       "      <td>0.000000</td>\n",
       "      <td>0.000000</td>\n",
       "      <td>0.000000</td>\n",
       "      <td>0.000000</td>\n",
       "      <td>0.000000</td>\n",
       "      <td>0.000000</td>\n",
       "    </tr>\n",
       "    <tr>\n",
       "      <th>25%</th>\n",
       "      <td>0.000000</td>\n",
       "      <td>0.000000</td>\n",
       "      <td>0.000000</td>\n",
       "      <td>0.000000</td>\n",
       "      <td>0.000000</td>\n",
       "      <td>0.000000</td>\n",
       "      <td>0.000000</td>\n",
       "      <td>0.000000</td>\n",
       "      <td>0.000000</td>\n",
       "      <td>0.000000</td>\n",
       "      <td>...</td>\n",
       "      <td>0.000000</td>\n",
       "      <td>0.000000</td>\n",
       "      <td>0.000000</td>\n",
       "      <td>0.000000</td>\n",
       "      <td>0.000000</td>\n",
       "      <td>0.000000</td>\n",
       "      <td>0.000000</td>\n",
       "      <td>0.000000</td>\n",
       "      <td>0.000000</td>\n",
       "      <td>0.000000</td>\n",
       "    </tr>\n",
       "    <tr>\n",
       "      <th>50%</th>\n",
       "      <td>0.000000</td>\n",
       "      <td>0.000000</td>\n",
       "      <td>0.000000</td>\n",
       "      <td>0.000000</td>\n",
       "      <td>0.000000</td>\n",
       "      <td>0.000000</td>\n",
       "      <td>0.000000</td>\n",
       "      <td>0.000000</td>\n",
       "      <td>0.000000</td>\n",
       "      <td>0.000000</td>\n",
       "      <td>...</td>\n",
       "      <td>0.000000</td>\n",
       "      <td>0.000000</td>\n",
       "      <td>0.000000</td>\n",
       "      <td>0.000000</td>\n",
       "      <td>0.000000</td>\n",
       "      <td>0.000000</td>\n",
       "      <td>0.000000</td>\n",
       "      <td>0.000000</td>\n",
       "      <td>0.000000</td>\n",
       "      <td>0.000000</td>\n",
       "    </tr>\n",
       "    <tr>\n",
       "      <th>75%</th>\n",
       "      <td>1.000000</td>\n",
       "      <td>1.000000</td>\n",
       "      <td>1.000000</td>\n",
       "      <td>1.000000</td>\n",
       "      <td>1.000000</td>\n",
       "      <td>1.000000</td>\n",
       "      <td>1.000000</td>\n",
       "      <td>1.000000</td>\n",
       "      <td>1.000000</td>\n",
       "      <td>1.000000</td>\n",
       "      <td>...</td>\n",
       "      <td>1.000000</td>\n",
       "      <td>1.000000</td>\n",
       "      <td>1.000000</td>\n",
       "      <td>1.000000</td>\n",
       "      <td>1.000000</td>\n",
       "      <td>1.000000</td>\n",
       "      <td>1.000000</td>\n",
       "      <td>1.000000</td>\n",
       "      <td>1.000000</td>\n",
       "      <td>1.000000</td>\n",
       "    </tr>\n",
       "    <tr>\n",
       "      <th>max</th>\n",
       "      <td>9.000000</td>\n",
       "      <td>9.000000</td>\n",
       "      <td>9.000000</td>\n",
       "      <td>9.000000</td>\n",
       "      <td>9.000000</td>\n",
       "      <td>9.000000</td>\n",
       "      <td>9.000000</td>\n",
       "      <td>9.000000</td>\n",
       "      <td>9.000000</td>\n",
       "      <td>9.000000</td>\n",
       "      <td>...</td>\n",
       "      <td>9.000000</td>\n",
       "      <td>9.000000</td>\n",
       "      <td>9.000000</td>\n",
       "      <td>9.000000</td>\n",
       "      <td>9.000000</td>\n",
       "      <td>9.000000</td>\n",
       "      <td>9.000000</td>\n",
       "      <td>9.000000</td>\n",
       "      <td>9.000000</td>\n",
       "      <td>9.000000</td>\n",
       "    </tr>\n",
       "  </tbody>\n",
       "</table>\n",
       "<p>8 rows × 2067 columns</p>\n",
       "</div>"
      ],
      "text/plain": [
       "                0              1              2              3     \\\n",
       "count  160858.000000  160858.000000  160858.000000  160858.000000   \n",
       "mean        0.456744       0.464658       0.439245       0.459324   \n",
       "std         0.857356       0.880367       0.738240       0.869027   \n",
       "min         0.000000       0.000000       0.000000       0.000000   \n",
       "25%         0.000000       0.000000       0.000000       0.000000   \n",
       "50%         0.000000       0.000000       0.000000       0.000000   \n",
       "75%         1.000000       1.000000       1.000000       1.000000   \n",
       "max         9.000000       9.000000       9.000000       9.000000   \n",
       "\n",
       "                4              5              6              7     \\\n",
       "count  160858.000000  160858.000000  160858.000000  160858.000000   \n",
       "mean        0.447668       0.442800       0.463869       0.439095   \n",
       "std         0.802155       0.764393       0.866785       0.755820   \n",
       "min         0.000000       0.000000       0.000000       0.000000   \n",
       "25%         0.000000       0.000000       0.000000       0.000000   \n",
       "50%         0.000000       0.000000       0.000000       0.000000   \n",
       "75%         1.000000       1.000000       1.000000       1.000000   \n",
       "max         9.000000       9.000000       9.000000       9.000000   \n",
       "\n",
       "                8              9     ...           2057           2058  \\\n",
       "count  160858.000000  160858.000000  ...  160858.000000  160858.000000   \n",
       "mean        0.449483       0.406253  ...       0.363165       0.378396   \n",
       "std         0.820976       0.775762  ...       0.810500       0.874970   \n",
       "min         0.000000       0.000000  ...       0.000000       0.000000   \n",
       "25%         0.000000       0.000000  ...       0.000000       0.000000   \n",
       "50%         0.000000       0.000000  ...       0.000000       0.000000   \n",
       "75%         1.000000       1.000000  ...       1.000000       1.000000   \n",
       "max         9.000000       9.000000  ...       9.000000       9.000000   \n",
       "\n",
       "                2059           2060           2061           2062  \\\n",
       "count  160858.000000  160858.000000  160858.000000  160858.000000   \n",
       "mean        0.352771       0.353921       0.462911       0.351733   \n",
       "std         0.757996       0.748606       1.216274       0.749528   \n",
       "min         0.000000       0.000000       0.000000       0.000000   \n",
       "25%         0.000000       0.000000       0.000000       0.000000   \n",
       "50%         0.000000       0.000000       0.000000       0.000000   \n",
       "75%         1.000000       1.000000       1.000000       1.000000   \n",
       "max         9.000000       9.000000       9.000000       9.000000   \n",
       "\n",
       "                2063           2064           2065           2066  \n",
       "count  160858.000000  160858.000000  160858.000000  160858.000000  \n",
       "mean        0.355842       0.349812       0.354008       0.352273  \n",
       "std         0.773293       0.737285       0.761679       0.751060  \n",
       "min         0.000000       0.000000       0.000000       0.000000  \n",
       "25%         0.000000       0.000000       0.000000       0.000000  \n",
       "50%         0.000000       0.000000       0.000000       0.000000  \n",
       "75%         1.000000       1.000000       1.000000       1.000000  \n",
       "max         9.000000       9.000000       9.000000       9.000000  \n",
       "\n",
       "[8 rows x 2067 columns]"
      ]
     },
     "execution_count": 7,
     "metadata": {},
     "output_type": "execute_result"
    }
   ],
   "source": [
    "snp_data_df.describe()"
   ]
  },
  {
   "cell_type": "code",
   "execution_count": 8,
   "id": "ce8cf38f-15c8-4c0a-9421-1d5136b13522",
   "metadata": {},
   "outputs": [
    {
     "data": {
      "text/html": [
       "<div>\n",
       "<style scoped>\n",
       "    .dataframe tbody tr th:only-of-type {\n",
       "        vertical-align: middle;\n",
       "    }\n",
       "\n",
       "    .dataframe tbody tr th {\n",
       "        vertical-align: top;\n",
       "    }\n",
       "\n",
       "    .dataframe thead th {\n",
       "        text-align: right;\n",
       "    }\n",
       "</style>\n",
       "<table border=\"1\" class=\"dataframe\">\n",
       "  <thead>\n",
       "    <tr style=\"text-align: right;\">\n",
       "      <th></th>\n",
       "      <th>0</th>\n",
       "      <th>1</th>\n",
       "      <th>2</th>\n",
       "      <th>3</th>\n",
       "      <th>4</th>\n",
       "      <th>5</th>\n",
       "      <th>6</th>\n",
       "      <th>7</th>\n",
       "      <th>8</th>\n",
       "      <th>9</th>\n",
       "      <th>...</th>\n",
       "      <th>2057</th>\n",
       "      <th>2058</th>\n",
       "      <th>2059</th>\n",
       "      <th>2060</th>\n",
       "      <th>2061</th>\n",
       "      <th>2062</th>\n",
       "      <th>2063</th>\n",
       "      <th>2064</th>\n",
       "      <th>2065</th>\n",
       "      <th>2066</th>\n",
       "    </tr>\n",
       "  </thead>\n",
       "  <tbody>\n",
       "    <tr>\n",
       "      <th>0</th>\n",
       "      <td>1.0</td>\n",
       "      <td>1.0</td>\n",
       "      <td>1.0</td>\n",
       "      <td>1.0</td>\n",
       "      <td>1.0</td>\n",
       "      <td>1.0</td>\n",
       "      <td>0.0</td>\n",
       "      <td>1.0</td>\n",
       "      <td>1.0</td>\n",
       "      <td>0.0</td>\n",
       "      <td>...</td>\n",
       "      <td>1.0</td>\n",
       "      <td>1.0</td>\n",
       "      <td>0.0</td>\n",
       "      <td>0.0</td>\n",
       "      <td>0.0</td>\n",
       "      <td>1.0</td>\n",
       "      <td>0.0</td>\n",
       "      <td>1.0</td>\n",
       "      <td>0.0</td>\n",
       "      <td>0.0</td>\n",
       "    </tr>\n",
       "    <tr>\n",
       "      <th>1</th>\n",
       "      <td>0.0</td>\n",
       "      <td>0.0</td>\n",
       "      <td>1.0</td>\n",
       "      <td>0.0</td>\n",
       "      <td>1.0</td>\n",
       "      <td>0.0</td>\n",
       "      <td>0.0</td>\n",
       "      <td>0.0</td>\n",
       "      <td>0.0</td>\n",
       "      <td>0.0</td>\n",
       "      <td>...</td>\n",
       "      <td>0.0</td>\n",
       "      <td>1.0</td>\n",
       "      <td>0.0</td>\n",
       "      <td>0.0</td>\n",
       "      <td>0.0</td>\n",
       "      <td>1.0</td>\n",
       "      <td>0.0</td>\n",
       "      <td>0.0</td>\n",
       "      <td>0.0</td>\n",
       "      <td>1.0</td>\n",
       "    </tr>\n",
       "    <tr>\n",
       "      <th>2</th>\n",
       "      <td>0.0</td>\n",
       "      <td>1.0</td>\n",
       "      <td>0.0</td>\n",
       "      <td>1.0</td>\n",
       "      <td>0.0</td>\n",
       "      <td>0.0</td>\n",
       "      <td>1.0</td>\n",
       "      <td>0.0</td>\n",
       "      <td>0.0</td>\n",
       "      <td>1.0</td>\n",
       "      <td>...</td>\n",
       "      <td>0.0</td>\n",
       "      <td>0.0</td>\n",
       "      <td>1.0</td>\n",
       "      <td>1.0</td>\n",
       "      <td>1.0</td>\n",
       "      <td>1.0</td>\n",
       "      <td>1.0</td>\n",
       "      <td>0.0</td>\n",
       "      <td>1.0</td>\n",
       "      <td>0.0</td>\n",
       "    </tr>\n",
       "    <tr>\n",
       "      <th>3</th>\n",
       "      <td>2.0</td>\n",
       "      <td>1.0</td>\n",
       "      <td>1.0</td>\n",
       "      <td>1.0</td>\n",
       "      <td>1.0</td>\n",
       "      <td>0.0</td>\n",
       "      <td>1.0</td>\n",
       "      <td>1.0</td>\n",
       "      <td>1.0</td>\n",
       "      <td>0.0</td>\n",
       "      <td>...</td>\n",
       "      <td>0.0</td>\n",
       "      <td>0.0</td>\n",
       "      <td>1.0</td>\n",
       "      <td>1.0</td>\n",
       "      <td>1.0</td>\n",
       "      <td>1.0</td>\n",
       "      <td>1.0</td>\n",
       "      <td>1.0</td>\n",
       "      <td>1.0</td>\n",
       "      <td>0.0</td>\n",
       "    </tr>\n",
       "    <tr>\n",
       "      <th>4</th>\n",
       "      <td>1.0</td>\n",
       "      <td>2.0</td>\n",
       "      <td>1.0</td>\n",
       "      <td>1.0</td>\n",
       "      <td>0.0</td>\n",
       "      <td>0.0</td>\n",
       "      <td>1.0</td>\n",
       "      <td>0.0</td>\n",
       "      <td>1.0</td>\n",
       "      <td>0.0</td>\n",
       "      <td>...</td>\n",
       "      <td>0.0</td>\n",
       "      <td>0.0</td>\n",
       "      <td>0.0</td>\n",
       "      <td>0.0</td>\n",
       "      <td>0.0</td>\n",
       "      <td>0.0</td>\n",
       "      <td>0.0</td>\n",
       "      <td>0.0</td>\n",
       "      <td>0.0</td>\n",
       "      <td>0.0</td>\n",
       "    </tr>\n",
       "  </tbody>\n",
       "</table>\n",
       "<p>5 rows × 2067 columns</p>\n",
       "</div>"
      ],
      "text/plain": [
       "   0     1     2     3     4     5     6     7     8     9     ...  2057  \\\n",
       "0   1.0   1.0   1.0   1.0   1.0   1.0   0.0   1.0   1.0   0.0  ...   1.0   \n",
       "1   0.0   0.0   1.0   0.0   1.0   0.0   0.0   0.0   0.0   0.0  ...   0.0   \n",
       "2   0.0   1.0   0.0   1.0   0.0   0.0   1.0   0.0   0.0   1.0  ...   0.0   \n",
       "3   2.0   1.0   1.0   1.0   1.0   0.0   1.0   1.0   1.0   0.0  ...   0.0   \n",
       "4   1.0   2.0   1.0   1.0   0.0   0.0   1.0   0.0   1.0   0.0  ...   0.0   \n",
       "\n",
       "   2058  2059  2060  2061  2062  2063  2064  2065  2066  \n",
       "0   1.0   0.0   0.0   0.0   1.0   0.0   1.0   0.0   0.0  \n",
       "1   1.0   0.0   0.0   0.0   1.0   0.0   0.0   0.0   1.0  \n",
       "2   0.0   1.0   1.0   1.0   1.0   1.0   0.0   1.0   0.0  \n",
       "3   0.0   1.0   1.0   1.0   1.0   1.0   1.0   1.0   0.0  \n",
       "4   0.0   0.0   0.0   0.0   0.0   0.0   0.0   0.0   0.0  \n",
       "\n",
       "[5 rows x 2067 columns]"
      ]
     },
     "execution_count": 8,
     "metadata": {},
     "output_type": "execute_result"
    }
   ],
   "source": [
    "snp_data_df.head()"
   ]
  },
  {
   "cell_type": "markdown",
   "id": "0176abcd-9900-4f13-b2e3-4bbcdacbd841",
   "metadata": {},
   "source": [
    "- *This dataset contains genotype data for `160,858` individuals across `2,067` SNP markers. The values `(0, 1, 2)` represent different genotype states for each SNP, indicating the genetic variation between individuals.*\n",
    "\n",
    "- *`Rows`: Each row corresponds to a person in the dataset - 160,858 individuals (rows)*\n",
    "\n",
    "- *`Columns`: Each column corresponds to a specific SNP marker- 2,067 SNP markers (columns)*\n",
    "\n",
    "- *`Values`: The values represent the genotypes for each individual and SNP. Genotypes are typically represented as:*\n",
    "\n",
    "    *`0: Homozygous` reference (e.g., the individual has two copies of the reference allele).*\n",
    "\n",
    "    *`1: Heterozygous` (e.g., the individual has one copy of the reference allele and one copy of the alternate allele).*\n",
    "\n",
    "    *`2: Homozygous` alternate (e.g., the individual has two copies of the alternate allele).*\n"
   ]
  },
  {
   "cell_type": "code",
   "execution_count": 8,
   "id": "7d8d4413-0b53-4ceb-b0ce-de41fc2b8431",
   "metadata": {},
   "outputs": [
    {
     "name": "stdout",
     "output_type": "stream",
     "text": [
      "0       0\n",
      "1       0\n",
      "2       0\n",
      "3       0\n",
      "4       0\n",
      "       ..\n",
      "2062    0\n",
      "2063    0\n",
      "2064    0\n",
      "2065    0\n",
      "2066    0\n",
      "Length: 2067, dtype: int64\n"
     ]
    }
   ],
   "source": [
    "# Check for missing values\n",
    "missing_values = snp_data_df.isnull().sum()  # Sum of missing values per column\n",
    "print(missing_values)"
   ]
  },
  {
   "cell_type": "markdown",
   "id": "554af8af-ae9f-47a9-927d-edfd7f75ffe7",
   "metadata": {},
   "source": [
    "## *1- Distribution of SNP Genotypes*"
   ]
  },
  {
   "cell_type": "code",
   "execution_count": 10,
   "id": "ca61be57-9151-4c40-9f7e-c7334993175f",
   "metadata": {},
   "outputs": [
    {
     "data": {
      "image/png": "[encoded data removed]",
      "text/plain": [
       "<Figure size 640x480 with 1 Axes>"
      ]
     },
     "metadata": {},
     "output_type": "display_data"
    }
   ],
   "source": [
    "# Plot the distribution of genotypes for the first few SNPs\n",
    "sns.histplot(snp_data_df.iloc[:, :4], kde=False, bins=30, multiple=\"stack\")\n",
    "plt.title(\"Distribution of SNP Genotypes\")\n",
    "plt.xlabel(\"Genotype Values\")\n",
    "plt.ylabel(\"Frequency\")\n",
    "plt.show()"
   ]
  },
  {
   "cell_type": "markdown",
   "id": "bc3eddf0-e6c4-4c73-87dd-286c56e7263c",
   "metadata": {},
   "source": [
    "## *2- Investigate Allele Frequencies*"
   ]
  },
  {
   "cell_type": "code",
   "execution_count": 13,
   "id": "decaa375-9b28-450e-94fb-07242207771e",
   "metadata": {},
   "outputs": [
    {
     "data": {
      "image/png": "[encoded data removed]",
      "text/plain": [
       "<Figure size 1200x600 with 1 Axes>"
      ]
     },
     "metadata": {},
     "output_type": "display_data"
    }
   ],
   "source": [
    "# Calculate the frequency of each genotype for each SNP\n",
    "allele_freq = snp_data_df.iloc[:, :].apply(lambda x: x.value_counts(normalize=True))\n",
    "\n",
    "# Plot allele frequencies for a subset of SNPs\n",
    "allele_freq.iloc[:, :10].plot(kind=\"bar\", figsize=(12, 6))\n",
    "plt.title(\"Allele Frequencies for SNPs\")\n",
    "plt.xlabel(\"SNPs\")\n",
    "plt.ylabel(\"Frequency\")\n",
    "plt.show()\n"
   ]
  }
 ],
 "metadata": {
  "kernelspec": {
   "display_name": "Python 3 (ipykernel)",
   "language": "python",
   "name": "python3"
  },
  "language_info": {
   "codemirror_mode": {
    "name": "ipython",
    "version": 3
   },
   "file_extension": ".py",
   "mimetype": "text/x-python",
   "name": "python",
   "nbconvert_exporter": "python",
   "pygments_lexer": "ipython3",
   "version": "3.9.7"
  }
 },
 "nbformat": 4,
 "nbformat_minor": 5
}
