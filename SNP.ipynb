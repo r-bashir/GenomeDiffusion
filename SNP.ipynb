{
 "cells": [
  {
   "cell_type": "code",
   "execution_count": 2,
   "id": "6fda75ea",
   "metadata": {},
   "outputs": [],
   "source": [
    "import pyarrow\n",
    "import fastparquet\n",
    "import numpy as np\n",
    "import pandas as pd\n",
    "import matplotlib.pyplot as plt"
   ]
  },
  {
   "cell_type": "code",
   "execution_count": 3,
   "id": "06b3f368",
   "metadata": {},
   "outputs": [
    {
     "name": "stdout",
     "output_type": "stream",
     "text": [
      "19.0.0\n"
     ]
    }
   ],
   "source": [
    "print(pyarrow.__version__)"
   ]
  },
  {
   "cell_type": "code",
   "execution_count": 4,
   "id": "a59163df",
   "metadata": {},
   "outputs": [
    {
     "name": "stdout",
     "output_type": "stream",
     "text": [
      "2024.11.0\n"
     ]
    }
   ],
   "source": [
    "print(fastparquet.__version__)"
   ]
  },
  {
   "cell_type": "markdown",
   "id": "e1823458",
   "metadata": {},
   "source": [
    "- Fam file contains population/sample information\n",
    "- Bim file contains information on the SNP position (basepair and centimorgan)\n",
    "- parquet file contains the snp data\n",
    "\n",
    "- Below is examples of how to read the data using pandas/numpy.\n",
    "- I have also included a .eigenstratgeno file, which is a raw text file with the SNP data. It is large, and slow to read, so i would recommend the parquet file."
   ]
  },
  {
   "cell_type": "markdown",
   "id": "8d495b40-e27f-4b51-a415-792adfdfdaa6",
   "metadata": {},
   "source": [
    "# - *Fam*"
   ]
  },
  {
   "cell_type": "code",
   "execution_count": 12,
   "id": "82b1439b",
   "metadata": {},
   "outputs": [],
   "source": [
    "fam = pd.read_csv(\"HO_data/HO_data_filtered/HumanOrigins2067_filtered.fam\", delimiter = \" \", header = None).to_numpy()"
   ]
  },
  {
   "cell_type": "code",
   "execution_count": 56,
   "id": "c00175d2",
   "metadata": {},
   "outputs": [
    {
     "data": {
      "text/plain": [
       "(dtype('O'), (2067, 6))"
      ]
     },
     "execution_count": 56,
     "metadata": {},
     "output_type": "execute_result"
    }
   ],
   "source": [
    "fam.dtype, fam.shape"
   ]
  },
  {
   "cell_type": "markdown",
   "id": "4f966642-a412-4ebe-b61b-eb42c8a04e82",
   "metadata": {},
   "source": [
    "- `dtype('0')` in NumPy stands for \"object\" data type. This means that the array contains Python objects (e.g., strings, mixed types, or other non-primitive types).\n"
   ]
  },
  {
   "cell_type": "code",
   "execution_count": 57,
   "id": "27d86c56-dd6b-4e07-ba81-ca3b7ebb0ef3",
   "metadata": {},
   "outputs": [],
   "source": [
    "columns = [\"Family ID\", \"Individual ID\", \"Paternal ID\",\"Maternal ID\",\"Sex\", \"Phenotype\"]\n",
    "\n",
    "fam_df = pd.read_csv(\"HO_data/HO_data_filtered/HumanOrigins2067_filtered.fam\", sep=\"\\s+\", names=columns)"
   ]
  },
  {
   "cell_type": "code",
   "execution_count": 58,
   "id": "cc6f8ab3",
   "metadata": {},
   "outputs": [
    {
     "data": {
      "text/html": [
       "<div>\n",
       "<style scoped>\n",
       "    .dataframe tbody tr th:only-of-type {\n",
       "        vertical-align: middle;\n",
       "    }\n",
       "\n",
       "    .dataframe tbody tr th {\n",
       "        vertical-align: top;\n",
       "    }\n",
       "\n",
       "    .dataframe thead th {\n",
       "        text-align: right;\n",
       "    }\n",
       "</style>\n",
       "<table border=\"1\" class=\"dataframe\">\n",
       "  <thead>\n",
       "    <tr style=\"text-align: right;\">\n",
       "      <th></th>\n",
       "      <th>Paternal ID</th>\n",
       "      <th>Maternal ID</th>\n",
       "      <th>Sex</th>\n",
       "      <th>Phenotype</th>\n",
       "    </tr>\n",
       "  </thead>\n",
       "  <tbody>\n",
       "    <tr>\n",
       "      <th>count</th>\n",
       "      <td>2067.0</td>\n",
       "      <td>2067.0</td>\n",
       "      <td>2067.0</td>\n",
       "      <td>2067.0</td>\n",
       "    </tr>\n",
       "    <tr>\n",
       "      <th>mean</th>\n",
       "      <td>0.0</td>\n",
       "      <td>0.0</td>\n",
       "      <td>0.0</td>\n",
       "      <td>1.0</td>\n",
       "    </tr>\n",
       "    <tr>\n",
       "      <th>std</th>\n",
       "      <td>0.0</td>\n",
       "      <td>0.0</td>\n",
       "      <td>0.0</td>\n",
       "      <td>0.0</td>\n",
       "    </tr>\n",
       "    <tr>\n",
       "      <th>min</th>\n",
       "      <td>0.0</td>\n",
       "      <td>0.0</td>\n",
       "      <td>0.0</td>\n",
       "      <td>1.0</td>\n",
       "    </tr>\n",
       "    <tr>\n",
       "      <th>25%</th>\n",
       "      <td>0.0</td>\n",
       "      <td>0.0</td>\n",
       "      <td>0.0</td>\n",
       "      <td>1.0</td>\n",
       "    </tr>\n",
       "    <tr>\n",
       "      <th>50%</th>\n",
       "      <td>0.0</td>\n",
       "      <td>0.0</td>\n",
       "      <td>0.0</td>\n",
       "      <td>1.0</td>\n",
       "    </tr>\n",
       "    <tr>\n",
       "      <th>75%</th>\n",
       "      <td>0.0</td>\n",
       "      <td>0.0</td>\n",
       "      <td>0.0</td>\n",
       "      <td>1.0</td>\n",
       "    </tr>\n",
       "    <tr>\n",
       "      <th>max</th>\n",
       "      <td>0.0</td>\n",
       "      <td>0.0</td>\n",
       "      <td>0.0</td>\n",
       "      <td>1.0</td>\n",
       "    </tr>\n",
       "  </tbody>\n",
       "</table>\n",
       "</div>"
      ],
      "text/plain": [
       "       Paternal ID  Maternal ID     Sex  Phenotype\n",
       "count       2067.0       2067.0  2067.0     2067.0\n",
       "mean           0.0          0.0     0.0        1.0\n",
       "std            0.0          0.0     0.0        0.0\n",
       "min            0.0          0.0     0.0        1.0\n",
       "25%            0.0          0.0     0.0        1.0\n",
       "50%            0.0          0.0     0.0        1.0\n",
       "75%            0.0          0.0     0.0        1.0\n",
       "max            0.0          0.0     0.0        1.0"
      ]
     },
     "execution_count": 58,
     "metadata": {},
     "output_type": "execute_result"
    }
   ],
   "source": [
    "fam_df.describe()"
   ]
  },
  {
   "cell_type": "code",
   "execution_count": 59,
   "id": "41c2cbe3",
   "metadata": {},
   "outputs": [
    {
     "data": {
      "text/html": [
       "<div>\n",
       "<style scoped>\n",
       "    .dataframe tbody tr th:only-of-type {\n",
       "        vertical-align: middle;\n",
       "    }\n",
       "\n",
       "    .dataframe tbody tr th {\n",
       "        vertical-align: top;\n",
       "    }\n",
       "\n",
       "    .dataframe thead th {\n",
       "        text-align: right;\n",
       "    }\n",
       "</style>\n",
       "<table border=\"1\" class=\"dataframe\">\n",
       "  <thead>\n",
       "    <tr style=\"text-align: right;\">\n",
       "      <th></th>\n",
       "      <th>Family ID</th>\n",
       "      <th>Individual ID</th>\n",
       "      <th>Paternal ID</th>\n",
       "      <th>Maternal ID</th>\n",
       "      <th>Sex</th>\n",
       "      <th>Phenotype</th>\n",
       "    </tr>\n",
       "  </thead>\n",
       "  <tbody>\n",
       "    <tr>\n",
       "      <th>1397</th>\n",
       "      <td>Pathan</td>\n",
       "      <td>HGDP00254</td>\n",
       "      <td>0</td>\n",
       "      <td>0</td>\n",
       "      <td>0</td>\n",
       "      <td>1</td>\n",
       "    </tr>\n",
       "    <tr>\n",
       "      <th>1398</th>\n",
       "      <td>Pathan</td>\n",
       "      <td>HGDP00258</td>\n",
       "      <td>0</td>\n",
       "      <td>0</td>\n",
       "      <td>0</td>\n",
       "      <td>1</td>\n",
       "    </tr>\n",
       "    <tr>\n",
       "      <th>1399</th>\n",
       "      <td>Pathan</td>\n",
       "      <td>HGDP00259</td>\n",
       "      <td>0</td>\n",
       "      <td>0</td>\n",
       "      <td>0</td>\n",
       "      <td>1</td>\n",
       "    </tr>\n",
       "    <tr>\n",
       "      <th>1400</th>\n",
       "      <td>Pathan</td>\n",
       "      <td>HGDP00262</td>\n",
       "      <td>0</td>\n",
       "      <td>0</td>\n",
       "      <td>0</td>\n",
       "      <td>1</td>\n",
       "    </tr>\n",
       "    <tr>\n",
       "      <th>1401</th>\n",
       "      <td>Pathan</td>\n",
       "      <td>HGDP00264</td>\n",
       "      <td>0</td>\n",
       "      <td>0</td>\n",
       "      <td>0</td>\n",
       "      <td>1</td>\n",
       "    </tr>\n",
       "    <tr>\n",
       "      <th>1402</th>\n",
       "      <td>Punjabi</td>\n",
       "      <td>HG02491</td>\n",
       "      <td>0</td>\n",
       "      <td>0</td>\n",
       "      <td>0</td>\n",
       "      <td>1</td>\n",
       "    </tr>\n",
       "    <tr>\n",
       "      <th>1403</th>\n",
       "      <td>Punjabi</td>\n",
       "      <td>HG02600</td>\n",
       "      <td>0</td>\n",
       "      <td>0</td>\n",
       "      <td>0</td>\n",
       "      <td>1</td>\n",
       "    </tr>\n",
       "    <tr>\n",
       "      <th>1404</th>\n",
       "      <td>Punjabi</td>\n",
       "      <td>HG02601</td>\n",
       "      <td>0</td>\n",
       "      <td>0</td>\n",
       "      <td>0</td>\n",
       "      <td>1</td>\n",
       "    </tr>\n",
       "    <tr>\n",
       "      <th>1405</th>\n",
       "      <td>Punjabi</td>\n",
       "      <td>HG02687</td>\n",
       "      <td>0</td>\n",
       "      <td>0</td>\n",
       "      <td>0</td>\n",
       "      <td>1</td>\n",
       "    </tr>\n",
       "  </tbody>\n",
       "</table>\n",
       "</div>"
      ],
      "text/plain": [
       "     Family ID Individual ID  Paternal ID  Maternal ID  Sex  Phenotype\n",
       "1397    Pathan     HGDP00254            0            0    0          1\n",
       "1398    Pathan     HGDP00258            0            0    0          1\n",
       "1399    Pathan     HGDP00259            0            0    0          1\n",
       "1400    Pathan     HGDP00262            0            0    0          1\n",
       "1401    Pathan     HGDP00264            0            0    0          1\n",
       "1402   Punjabi       HG02491            0            0    0          1\n",
       "1403   Punjabi       HG02600            0            0    0          1\n",
       "1404   Punjabi       HG02601            0            0    0          1\n",
       "1405   Punjabi       HG02687            0            0    0          1"
      ]
     },
     "execution_count": 59,
     "metadata": {},
     "output_type": "execute_result"
    }
   ],
   "source": [
    "fam_df[1397:1406]"
   ]
  },
  {
   "cell_type": "code",
   "execution_count": 60,
   "id": "2204a00a",
   "metadata": {},
   "outputs": [
    {
     "data": {
      "text/plain": [
       "Family ID        0\n",
       "Individual ID    0\n",
       "Paternal ID      0\n",
       "Maternal ID      0\n",
       "Sex              0\n",
       "Phenotype        0\n",
       "dtype: int64"
      ]
     },
     "execution_count": 60,
     "metadata": {},
     "output_type": "execute_result"
    }
   ],
   "source": [
    "fam_df.isnull().sum()  # Count missing values per column"
   ]
  },
  {
   "cell_type": "code",
   "execution_count": 61,
   "id": "e174dbf4-9153-4402-a1e8-1cc4c5340eb6",
   "metadata": {},
   "outputs": [
    {
     "name": "stdout",
     "output_type": "stream",
     "text": [
      "Number of unique family IDs: 166\n"
     ]
    }
   ],
   "source": [
    "# Count how many unique Family IDs\n",
    "unique_families = np.unique(fam[:, 0])\n",
    "print(f\"Number of unique family IDs: {len(unique_families)}\")"
   ]
  },
  {
   "cell_type": "code",
   "execution_count": 54,
   "id": "0526feae-c3eb-422b-93c3-b40e474d2ab3",
   "metadata": {},
   "outputs": [
    {
     "name": "stdout",
     "output_type": "stream",
     "text": [
      "Number of males: 0, Number of females: 0\n"
     ]
    }
   ],
   "source": [
    "sex_column = fam[:, 4]\n",
    "\n",
    "# Count the occurrences of males and females\n",
    "males = np.sum(sex_column == 1)  # males\n",
    "females = np.sum(sex_column == 2)  # females\n",
    "\n",
    "print(f\"Number of males: {males}, Number of females: {females}\")"
   ]
  },
  {
   "cell_type": "code",
   "execution_count": 55,
   "id": "48320b4d-7150-48b3-90d5-9850c7e665b0",
   "metadata": {},
   "outputs": [
    {
     "name": "stdout",
     "output_type": "stream",
     "text": [
      "Number of affected individuals: 2067\n"
     ]
    }
   ],
   "source": [
    "phenotype_column = fam[:, 5]\n",
    "\n",
    "# Count the number of affected individuals\n",
    "affected = np.sum(phenotype_column == 1)\n",
    "print(f\"Number of affected individuals: {affected}\")"
   ]
  },
  {
   "cell_type": "code",
   "execution_count": 11,
   "id": "b05d8cf1",
   "metadata": {},
   "outputs": [
    {
     "name": "stdout",
     "output_type": "stream",
     "text": [
      "Unique values: [0]\n",
      "Counts: [2067]\n"
     ]
    },
    {
     "data": {
      "image/png": "[encoded data removed]",
      "text/plain": [
       "<Figure size 640x480 with 1 Axes>"
      ]
     },
     "metadata": {},
     "output_type": "display_data"
    }
   ],
   "source": [
    "# Count unique values in column 4 (assuming it's Sex)\n",
    "unique_values, counts = np.unique(fam[:, 4], return_counts=True)\n",
    "\n",
    "# Print counts\n",
    "print(\"Unique values:\", unique_values)\n",
    "print(\"Counts:\", counts)\n",
    "\n",
    "# Plot using Matplotlib\n",
    "plt.bar(unique_values, counts)\n",
    "plt.title(\"Sex Distribution\")\n",
    "plt.xlabel(\"Sex\")\n",
    "plt.ylabel(\"Count\")\n",
    "plt.xticks([0, 1], ['Female', 'Male'])  # Adjust labels if necessary\n",
    "plt.show()"
   ]
  },
  {
   "cell_type": "markdown",
   "id": "b010c58e-c362-485e-871f-8ef2734cd882",
   "metadata": {},
   "source": [
    "# - *bim*\n",
    " *This `.bim file` is a `PLINK BIM` (binary map) file used in genetics and bioinformatics. It provides information about genetic variants (SNPs) in a dataset.*"
   ]
  },
  {
   "cell_type": "code",
   "execution_count": 15,
   "id": "dce71d42",
   "metadata": {},
   "outputs": [],
   "source": [
    "bim = np.genfromtxt(\"HO_data/HO_data_filtered/HumanOrigins2067_filtered.bim\", usecols=(0, 1, 2, 3, 4, 5), dtype=str)"
   ]
  },
  {
   "cell_type": "code",
   "execution_count": 45,
   "id": "99e55893-e610-45c7-9a19-3a2e94784f9c",
   "metadata": {},
   "outputs": [
    {
     "data": {
      "text/plain": [
       "((160858, 6), dtype('<U16'))"
      ]
     },
     "execution_count": 45,
     "metadata": {},
     "output_type": "execute_result"
    }
   ],
   "source": [
    "bim.shape , bim.dtype"
   ]
  },
  {
   "cell_type": "markdown",
   "id": "18d09eba-0a55-4b71-b15e-14cd8b5d1578",
   "metadata": {},
   "source": [
    "- `dtype('<U16')` in NumPy means that the array contains Unicode strings with a maximum length of 16 characters."
   ]
  },
  {
   "cell_type": "code",
   "execution_count": 49,
   "id": "67988e6d-3ba9-4ba1-9312-94fa2020a57d",
   "metadata": {},
   "outputs": [],
   "source": [
    "columns = [\"Chromosome\", \"SNP_ID\", \"Genetic_Distance\", \"Position\", \"Ref_Allele\", \"Alt_Allele\"]\n",
    "\n",
    "bim_df = pd.read_csv(\"HO_data/HO_data_filtered/HumanOrigins2067_filtered.bim\", sep=\"\\s+\", names=columns)"
   ]
  },
  {
   "cell_type": "code",
   "execution_count": 51,
   "id": "84673b74-5885-4e18-a104-118009e43b6a",
   "metadata": {},
   "outputs": [
    {
     "data": {
      "text/html": [
       "<div>\n",
       "<style scoped>\n",
       "    .dataframe tbody tr th:only-of-type {\n",
       "        vertical-align: middle;\n",
       "    }\n",
       "\n",
       "    .dataframe tbody tr th {\n",
       "        vertical-align: top;\n",
       "    }\n",
       "\n",
       "    .dataframe thead th {\n",
       "        text-align: right;\n",
       "    }\n",
       "</style>\n",
       "<table border=\"1\" class=\"dataframe\">\n",
       "  <thead>\n",
       "    <tr style=\"text-align: right;\">\n",
       "      <th></th>\n",
       "      <th>Chromosome</th>\n",
       "      <th>SNP_ID</th>\n",
       "      <th>Genetic_Distance</th>\n",
       "      <th>Position</th>\n",
       "      <th>Ref_Allele</th>\n",
       "      <th>Alt_Allele</th>\n",
       "    </tr>\n",
       "  </thead>\n",
       "  <tbody>\n",
       "    <tr>\n",
       "      <th>0</th>\n",
       "      <td>1</td>\n",
       "      <td>rs3094315</td>\n",
       "      <td>0.020130</td>\n",
       "      <td>752566</td>\n",
       "      <td>G</td>\n",
       "      <td>A</td>\n",
       "    </tr>\n",
       "    <tr>\n",
       "      <th>1</th>\n",
       "      <td>1</td>\n",
       "      <td>rs7419119</td>\n",
       "      <td>0.022518</td>\n",
       "      <td>842013</td>\n",
       "      <td>G</td>\n",
       "      <td>T</td>\n",
       "    </tr>\n",
       "    <tr>\n",
       "      <th>2</th>\n",
       "      <td>1</td>\n",
       "      <td>rs13302957</td>\n",
       "      <td>0.024116</td>\n",
       "      <td>891021</td>\n",
       "      <td>G</td>\n",
       "      <td>A</td>\n",
       "    </tr>\n",
       "    <tr>\n",
       "      <th>3</th>\n",
       "      <td>1</td>\n",
       "      <td>rs6696609</td>\n",
       "      <td>0.024457</td>\n",
       "      <td>903426</td>\n",
       "      <td>T</td>\n",
       "      <td>C</td>\n",
       "    </tr>\n",
       "    <tr>\n",
       "      <th>4</th>\n",
       "      <td>1</td>\n",
       "      <td>rs8997</td>\n",
       "      <td>0.025727</td>\n",
       "      <td>949654</td>\n",
       "      <td>A</td>\n",
       "      <td>G</td>\n",
       "    </tr>\n",
       "  </tbody>\n",
       "</table>\n",
       "</div>"
      ],
      "text/plain": [
       "   Chromosome      SNP_ID  Genetic_Distance  Position Ref_Allele Alt_Allele\n",
       "0           1   rs3094315          0.020130    752566          G          A\n",
       "1           1   rs7419119          0.022518    842013          G          T\n",
       "2           1  rs13302957          0.024116    891021          G          A\n",
       "3           1   rs6696609          0.024457    903426          T          C\n",
       "4           1      rs8997          0.025727    949654          A          G"
      ]
     },
     "execution_count": 51,
     "metadata": {},
     "output_type": "execute_result"
    }
   ],
   "source": [
    "bim_df.head(5)"
   ]
  },
  {
   "cell_type": "markdown",
   "id": "c55b852b-d3ba-4aab-8a99-cab2022723dc",
   "metadata": {},
   "source": [
    "*.Chromosome 1*\n",
    "\n",
    "*.`SNP ID`: unique identifier for this SNP - Reference SNP identifier -rsID*\n",
    "\n",
    "*.`Genetic Distance`: cM - Centimorgans (may not always be used)*\n",
    "\n",
    "*.`Physical Position`: this SNP is located at base pair 752,566 on chromosome 1*\n",
    "\n",
    "*.`Reference Allele`: G - major allele*\n",
    "\n",
    "*.`Alternative Allele`: A - minor allele*"
   ]
  },
  {
   "cell_type": "code",
   "execution_count": 50,
   "id": "91f36472-5572-4e4f-a644-7967f4f33eb0",
   "metadata": {},
   "outputs": [
    {
     "data": {
      "text/html": [
       "<div>\n",
       "<style scoped>\n",
       "    .dataframe tbody tr th:only-of-type {\n",
       "        vertical-align: middle;\n",
       "    }\n",
       "\n",
       "    .dataframe tbody tr th {\n",
       "        vertical-align: top;\n",
       "    }\n",
       "\n",
       "    .dataframe thead th {\n",
       "        text-align: right;\n",
       "    }\n",
       "</style>\n",
       "<table border=\"1\" class=\"dataframe\">\n",
       "  <thead>\n",
       "    <tr style=\"text-align: right;\">\n",
       "      <th></th>\n",
       "      <th>Chromosome</th>\n",
       "      <th>Genetic_Distance</th>\n",
       "      <th>Position</th>\n",
       "    </tr>\n",
       "  </thead>\n",
       "  <tbody>\n",
       "    <tr>\n",
       "      <th>count</th>\n",
       "      <td>160858.000000</td>\n",
       "      <td>160858.000000</td>\n",
       "      <td>1.608580e+05</td>\n",
       "    </tr>\n",
       "    <tr>\n",
       "      <th>mean</th>\n",
       "      <td>8.991744</td>\n",
       "      <td>0.930690</td>\n",
       "      <td>7.849409e+07</td>\n",
       "    </tr>\n",
       "    <tr>\n",
       "      <th>std</th>\n",
       "      <td>5.945411</td>\n",
       "      <td>0.590934</td>\n",
       "      <td>5.802305e+07</td>\n",
       "    </tr>\n",
       "    <tr>\n",
       "      <th>min</th>\n",
       "      <td>1.000000</td>\n",
       "      <td>0.000013</td>\n",
       "      <td>1.968800e+04</td>\n",
       "    </tr>\n",
       "    <tr>\n",
       "      <th>25%</th>\n",
       "      <td>4.000000</td>\n",
       "      <td>0.473851</td>\n",
       "      <td>3.021285e+07</td>\n",
       "    </tr>\n",
       "    <tr>\n",
       "      <th>50%</th>\n",
       "      <td>8.000000</td>\n",
       "      <td>0.848425</td>\n",
       "      <td>6.873518e+07</td>\n",
       "    </tr>\n",
       "    <tr>\n",
       "      <th>75%</th>\n",
       "      <td>13.000000</td>\n",
       "      <td>1.299260</td>\n",
       "      <td>1.164211e+08</td>\n",
       "    </tr>\n",
       "    <tr>\n",
       "      <th>max</th>\n",
       "      <td>22.000000</td>\n",
       "      <td>2.862305</td>\n",
       "      <td>2.491684e+08</td>\n",
       "    </tr>\n",
       "  </tbody>\n",
       "</table>\n",
       "</div>"
      ],
      "text/plain": [
       "          Chromosome  Genetic_Distance      Position\n",
       "count  160858.000000     160858.000000  1.608580e+05\n",
       "mean        8.991744          0.930690  7.849409e+07\n",
       "std         5.945411          0.590934  5.802305e+07\n",
       "min         1.000000          0.000013  1.968800e+04\n",
       "25%         4.000000          0.473851  3.021285e+07\n",
       "50%         8.000000          0.848425  6.873518e+07\n",
       "75%        13.000000          1.299260  1.164211e+08\n",
       "max        22.000000          2.862305  2.491684e+08"
      ]
     },
     "execution_count": 50,
     "metadata": {},
     "output_type": "execute_result"
    }
   ],
   "source": [
    "bim_df.describe()"
   ]
  },
  {
   "cell_type": "code",
   "execution_count": 28,
   "id": "22e2338d-984f-4c0e-a4d9-ee6ef769f54e",
   "metadata": {},
   "outputs": [
    {
     "data": {
      "text/plain": [
       "0    0\n",
       "1    0\n",
       "2    0\n",
       "3    0\n",
       "4    0\n",
       "5    0\n",
       "dtype: int64"
      ]
     },
     "execution_count": 28,
     "metadata": {},
     "output_type": "execute_result"
    }
   ],
   "source": [
    "bim_df.isnull().sum()"
   ]
  },
  {
   "cell_type": "code",
   "execution_count": null,
   "id": "4ed347af-3834-41a1-95fc-fe361b34275a",
   "metadata": {},
   "outputs": [],
   "source": []
  },
  {
   "cell_type": "markdown",
   "id": "f033b646-b7a8-4790-89ce-8f8fa703ff67",
   "metadata": {},
   "source": [
    "# -*snp* "
   ]
  },
  {
   "cell_type": "code",
   "execution_count": 30,
   "id": "6178a99c-3042-4eee-89bd-0574429c4b0e",
   "metadata": {},
   "outputs": [
    {
     "name": "stdout",
     "output_type": "stream",
     "text": [
      "-rw-rw-r-- 1 rbashir rbashir 81M Jan 30 22:48 HO_data/HO_data_filtered/HumanOrigins2067_filtered.parquet\n"
     ]
    }
   ],
   "source": [
    "ls -lh HO_data/HO_data_filtered/HumanOrigins2067_filtered.parquet"
   ]
  },
  {
   "cell_type": "code",
   "execution_count": 31,
   "id": "682ed5a9-5d84-49bd-bf44-ac76dbeb4e1a",
   "metadata": {},
   "outputs": [],
   "source": [
    "snp_data = pd.read_parquet(\"HO_data/HO_data_filtered/HumanOrigins2067_filtered.parquet\").to_numpy()"
   ]
  },
  {
   "cell_type": "code",
   "execution_count": 32,
   "id": "36166248-be17-464e-a054-811e6b23e024",
   "metadata": {},
   "outputs": [
    {
     "data": {
      "text/plain": [
       "(160858, 2067)"
      ]
     },
     "execution_count": 32,
     "metadata": {},
     "output_type": "execute_result"
    }
   ],
   "source": [
    "snp_data.shape"
   ]
  },
  {
   "cell_type": "code",
   "execution_count": 37,
   "id": "54d0c583-e3e0-4423-b096-c3da1adf00ad",
   "metadata": {},
   "outputs": [
    {
     "data": {
      "text/plain": [
       "array([[1., 1., 1., ..., 1., 0., 0.],\n",
       "       [0., 0., 1., ..., 0., 0., 1.],\n",
       "       [0., 1., 0., ..., 0., 1., 0.],\n",
       "       ...,\n",
       "       [1., 0., 1., ..., 0., 0., 2.],\n",
       "       [0., 0., 1., ..., 0., 0., 1.],\n",
       "       [1., 1., 1., ..., 1., 2., 1.]])"
      ]
     },
     "execution_count": 37,
     "metadata": {},
     "output_type": "execute_result"
    }
   ],
   "source": [
    "snp_data[:10]"
   ]
  },
  {
   "cell_type": "markdown",
   "id": "b4caf6d7-54bd-405d-8076-b64982e25314",
   "metadata": {},
   "source": [
    "- *This dataset contains genotype data for `160,858` individuals across `2,067` SNP markers. The values `(0, 1, 2)` represent different genotype states for each SNP, indicating the genetic variation between individuals.*\n",
    "\n",
    "- *`Rows`: Each row corresponds to a person in the dataset - 160,858 individuals (rows)*\n",
    "\n",
    "- *`Columns`: Each column corresponds to a specific SNP marker- 2,067 SNP markers (columns)*\n",
    "\n",
    "- *`Values`: The values represent the genotypes for each individual and SNP. Genotypes are typically represented as:*\n",
    "\n",
    "    *`0: Homozygous` reference (e.g., the individual has two copies of the reference allele).*\n",
    "\n",
    "    *`1: Heterozygous` (e.g., the individual has one copy of the reference allele and one copy of the alternate allele).*\n",
    "\n",
    "    *`2: Homozygous` alternate (e.g., the individual has two copies of the alternate allele).*\n"
   ]
  },
  {
   "cell_type": "code",
   "execution_count": 38,
   "id": "b66d1cc3-386a-49fd-a71e-d2f8eb5072a3",
   "metadata": {},
   "outputs": [],
   "source": [
    "snp_data_df = pd.DataFrame(snp_data)"
   ]
  },
  {
   "cell_type": "code",
   "execution_count": 63,
   "id": "ce8cf38f-15c8-4c0a-9421-1d5136b13522",
   "metadata": {},
   "outputs": [
    {
     "data": {
      "text/html": [
       "<div>\n",
       "<style scoped>\n",
       "    .dataframe tbody tr th:only-of-type {\n",
       "        vertical-align: middle;\n",
       "    }\n",
       "\n",
       "    .dataframe tbody tr th {\n",
       "        vertical-align: top;\n",
       "    }\n",
       "\n",
       "    .dataframe thead th {\n",
       "        text-align: right;\n",
       "    }\n",
       "</style>\n",
       "<table border=\"1\" class=\"dataframe\">\n",
       "  <thead>\n",
       "    <tr style=\"text-align: right;\">\n",
       "      <th></th>\n",
       "      <th>0</th>\n",
       "      <th>1</th>\n",
       "      <th>2</th>\n",
       "      <th>3</th>\n",
       "      <th>4</th>\n",
       "      <th>5</th>\n",
       "      <th>6</th>\n",
       "      <th>7</th>\n",
       "      <th>8</th>\n",
       "      <th>9</th>\n",
       "      <th>...</th>\n",
       "      <th>2057</th>\n",
       "      <th>2058</th>\n",
       "      <th>2059</th>\n",
       "      <th>2060</th>\n",
       "      <th>2061</th>\n",
       "      <th>2062</th>\n",
       "      <th>2063</th>\n",
       "      <th>2064</th>\n",
       "      <th>2065</th>\n",
       "      <th>2066</th>\n",
       "    </tr>\n",
       "  </thead>\n",
       "  <tbody>\n",
       "    <tr>\n",
       "      <th>0</th>\n",
       "      <td>1.0</td>\n",
       "      <td>1.0</td>\n",
       "      <td>1.0</td>\n",
       "      <td>1.0</td>\n",
       "      <td>1.0</td>\n",
       "      <td>1.0</td>\n",
       "      <td>0.0</td>\n",
       "      <td>1.0</td>\n",
       "      <td>1.0</td>\n",
       "      <td>0.0</td>\n",
       "      <td>...</td>\n",
       "      <td>1.0</td>\n",
       "      <td>1.0</td>\n",
       "      <td>0.0</td>\n",
       "      <td>0.0</td>\n",
       "      <td>0.0</td>\n",
       "      <td>1.0</td>\n",
       "      <td>0.0</td>\n",
       "      <td>1.0</td>\n",
       "      <td>0.0</td>\n",
       "      <td>0.0</td>\n",
       "    </tr>\n",
       "    <tr>\n",
       "      <th>1</th>\n",
       "      <td>0.0</td>\n",
       "      <td>0.0</td>\n",
       "      <td>1.0</td>\n",
       "      <td>0.0</td>\n",
       "      <td>1.0</td>\n",
       "      <td>0.0</td>\n",
       "      <td>0.0</td>\n",
       "      <td>0.0</td>\n",
       "      <td>0.0</td>\n",
       "      <td>0.0</td>\n",
       "      <td>...</td>\n",
       "      <td>0.0</td>\n",
       "      <td>1.0</td>\n",
       "      <td>0.0</td>\n",
       "      <td>0.0</td>\n",
       "      <td>0.0</td>\n",
       "      <td>1.0</td>\n",
       "      <td>0.0</td>\n",
       "      <td>0.0</td>\n",
       "      <td>0.0</td>\n",
       "      <td>1.0</td>\n",
       "    </tr>\n",
       "    <tr>\n",
       "      <th>2</th>\n",
       "      <td>0.0</td>\n",
       "      <td>1.0</td>\n",
       "      <td>0.0</td>\n",
       "      <td>1.0</td>\n",
       "      <td>0.0</td>\n",
       "      <td>0.0</td>\n",
       "      <td>1.0</td>\n",
       "      <td>0.0</td>\n",
       "      <td>0.0</td>\n",
       "      <td>1.0</td>\n",
       "      <td>...</td>\n",
       "      <td>0.0</td>\n",
       "      <td>0.0</td>\n",
       "      <td>1.0</td>\n",
       "      <td>1.0</td>\n",
       "      <td>1.0</td>\n",
       "      <td>1.0</td>\n",
       "      <td>1.0</td>\n",
       "      <td>0.0</td>\n",
       "      <td>1.0</td>\n",
       "      <td>0.0</td>\n",
       "    </tr>\n",
       "    <tr>\n",
       "      <th>3</th>\n",
       "      <td>2.0</td>\n",
       "      <td>1.0</td>\n",
       "      <td>1.0</td>\n",
       "      <td>1.0</td>\n",
       "      <td>1.0</td>\n",
       "      <td>0.0</td>\n",
       "      <td>1.0</td>\n",
       "      <td>1.0</td>\n",
       "      <td>1.0</td>\n",
       "      <td>0.0</td>\n",
       "      <td>...</td>\n",
       "      <td>0.0</td>\n",
       "      <td>0.0</td>\n",
       "      <td>1.0</td>\n",
       "      <td>1.0</td>\n",
       "      <td>1.0</td>\n",
       "      <td>1.0</td>\n",
       "      <td>1.0</td>\n",
       "      <td>1.0</td>\n",
       "      <td>1.0</td>\n",
       "      <td>0.0</td>\n",
       "    </tr>\n",
       "    <tr>\n",
       "      <th>4</th>\n",
       "      <td>1.0</td>\n",
       "      <td>2.0</td>\n",
       "      <td>1.0</td>\n",
       "      <td>1.0</td>\n",
       "      <td>0.0</td>\n",
       "      <td>0.0</td>\n",
       "      <td>1.0</td>\n",
       "      <td>0.0</td>\n",
       "      <td>1.0</td>\n",
       "      <td>0.0</td>\n",
       "      <td>...</td>\n",
       "      <td>0.0</td>\n",
       "      <td>0.0</td>\n",
       "      <td>0.0</td>\n",
       "      <td>0.0</td>\n",
       "      <td>0.0</td>\n",
       "      <td>0.0</td>\n",
       "      <td>0.0</td>\n",
       "      <td>0.0</td>\n",
       "      <td>0.0</td>\n",
       "      <td>0.0</td>\n",
       "    </tr>\n",
       "  </tbody>\n",
       "</table>\n",
       "<p>5 rows × 2067 columns</p>\n",
       "</div>"
      ],
      "text/plain": [
       "   0     1     2     3     4     5     6     7     8     9     ...  2057  \\\n",
       "0   1.0   1.0   1.0   1.0   1.0   1.0   0.0   1.0   1.0   0.0  ...   1.0   \n",
       "1   0.0   0.0   1.0   0.0   1.0   0.0   0.0   0.0   0.0   0.0  ...   0.0   \n",
       "2   0.0   1.0   0.0   1.0   0.0   0.0   1.0   0.0   0.0   1.0  ...   0.0   \n",
       "3   2.0   1.0   1.0   1.0   1.0   0.0   1.0   1.0   1.0   0.0  ...   0.0   \n",
       "4   1.0   2.0   1.0   1.0   0.0   0.0   1.0   0.0   1.0   0.0  ...   0.0   \n",
       "\n",
       "   2058  2059  2060  2061  2062  2063  2064  2065  2066  \n",
       "0   1.0   0.0   0.0   0.0   1.0   0.0   1.0   0.0   0.0  \n",
       "1   1.0   0.0   0.0   0.0   1.0   0.0   0.0   0.0   1.0  \n",
       "2   0.0   1.0   1.0   1.0   1.0   1.0   0.0   1.0   0.0  \n",
       "3   0.0   1.0   1.0   1.0   1.0   1.0   1.0   1.0   0.0  \n",
       "4   0.0   0.0   0.0   0.0   0.0   0.0   0.0   0.0   0.0  \n",
       "\n",
       "[5 rows x 2067 columns]"
      ]
     },
     "execution_count": 63,
     "metadata": {},
     "output_type": "execute_result"
    }
   ],
   "source": [
    "snp_data_df.head(5)"
   ]
  },
  {
   "cell_type": "code",
   "execution_count": 65,
   "id": "c81c48bd-b7bf-44f8-b53e-19c36b9a6f02",
   "metadata": {},
   "outputs": [
    {
     "data": {
      "text/plain": [
       "0       0\n",
       "1       0\n",
       "2       0\n",
       "3       0\n",
       "4       0\n",
       "       ..\n",
       "2062    0\n",
       "2063    0\n",
       "2064    0\n",
       "2065    0\n",
       "2066    0\n",
       "Length: 2067, dtype: int64"
      ]
     },
     "execution_count": 65,
     "metadata": {},
     "output_type": "execute_result"
    }
   ],
   "source": [
    "snp_data_df.isnull().sum()"
   ]
  },
  {
   "cell_type": "code",
   "execution_count": 62,
   "id": "449c186e-4e90-404b-aebd-d9b46ccb64b9",
   "metadata": {},
   "outputs": [
    {
     "data": {
      "image/png": "[encoded data removed]",
      "text/plain": [
       "<Figure size 1000x500 with 1 Axes>"
      ]
     },
     "metadata": {},
     "output_type": "display_data"
    }
   ],
   "source": [
    "# Plot SNP count per chromosome\n",
    "bim_df[\"Chromosome\"].value_counts().sort_index().plot(kind=\"bar\", figsize=(10,5))\n",
    "plt.xlabel(\"Chromosome\")\n",
    "plt.ylabel(\"Number of SNPs\")\n",
    "plt.title(\"SNP Distribution by Chromosome\")\n",
    "plt.show()"
   ]
  },
  {
   "cell_type": "code",
   "execution_count": null,
   "id": "7cfe389f-cd6b-40e0-9701-81352b9578c8",
   "metadata": {},
   "outputs": [],
   "source": []
  }
 ],
 "metadata": {
  "kernelspec": {
   "display_name": "Python 3 (ipykernel)",
   "language": "python",
   "name": "python3"
  },
  "language_info": {
   "codemirror_mode": {
    "name": "ipython",
    "version": 3
   },
   "file_extension": ".py",
   "mimetype": "text/x-python",
   "name": "python",
   "nbconvert_exporter": "python",
   "pygments_lexer": "ipython3",
   "version": "3.9.7"
  }
 },
 "nbformat": 4,
 "nbformat_minor": 5
}
