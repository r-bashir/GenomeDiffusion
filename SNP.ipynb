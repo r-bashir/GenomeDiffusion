{
 "cells": [
  {
   "cell_type": "code",
   "execution_count": 1,
   "id": "6fda75ea",
   "metadata": {},
   "outputs": [],
   "source": [
    "import pyarrow\n",
    "import fastparquet\n",
    "import numpy as np\n",
    "import pandas as pd\n",
    "\n",
    "# For Visualization\n",
    "import seaborn as sns \n",
    "import matplotlib.pyplot as plt\n",
    "%matplotlib inline     \n",
    "sns.set(color_codes=True)"
   ]
  },
  {
   "cell_type": "markdown",
   "id": "e1823458",
   "metadata": {},
   "source": [
    "- Fam file contains population/sample information\n",
    "- Bim file contains information on the SNP position (basepair and centimorgan)\n",
    "- parquet file contains the snp data"
   ]
  },
  {
   "cell_type": "markdown",
   "id": "8d495b40-e27f-4b51-a415-792adfdfdaa6",
   "metadata": {},
   "source": [
    "## _`fam` Dataset_"
   ]
  },
  {
   "cell_type": "code",
   "execution_count": 58,
   "id": "82b1439b",
   "metadata": {},
   "outputs": [],
   "source": [
    "fam = pd.read_csv(\"HO_data/HO_data_filtered/HumanOrigins2067_filtered.fam\", delimiter = \" \", header = None).to_numpy()"
   ]
  },
  {
   "cell_type": "code",
   "execution_count": 61,
   "id": "f6260ec0-45b3-4667-b2fc-b8be568753e5",
   "metadata": {},
   "outputs": [
    {
     "name": "stdout",
     "output_type": "stream",
     "text": [
      "['AA' 'AD_066' 0 0 0 1]\n"
     ]
    }
   ],
   "source": [
    "print(fam[0])"
   ]
  },
  {
   "cell_type": "markdown",
   "id": "4f966642-a412-4ebe-b61b-eb42c8a04e82",
   "metadata": {},
   "source": [
    "- `dtype('0')` in NumPy stands for \"object\" data type. This means that the array contains Python objects (e.g., strings, mixed types, or other non-primitive types).\n"
   ]
  },
  {
   "cell_type": "code",
   "execution_count": 6,
   "id": "27d86c56-dd6b-4e07-ba81-ca3b7ebb0ef3",
   "metadata": {},
   "outputs": [],
   "source": [
    "columns = [\"Family_ID\", \"Individual_ID\", \"Paternal_ID\", \"Maternal_ID\", \"Sex\", \"Phenotype\"]\n",
    "\n",
    "fam_df = pd.read_csv(\"HO_data/HO_data_filtered/HumanOrigins2067_filtered.fam\", sep=\"\\s+\", names=columns)"
   ]
  },
  {
   "cell_type": "code",
   "execution_count": 7,
   "id": "b13043ba-958a-479d-9b7b-2f2e9197e3b3",
   "metadata": {},
   "outputs": [
    {
     "data": {
      "text/html": [
       "<div>\n",
       "<style scoped>\n",
       "    .dataframe tbody tr th:only-of-type {\n",
       "        vertical-align: middle;\n",
       "    }\n",
       "\n",
       "    .dataframe tbody tr th {\n",
       "        vertical-align: top;\n",
       "    }\n",
       "\n",
       "    .dataframe thead th {\n",
       "        text-align: right;\n",
       "    }\n",
       "</style>\n",
       "<table border=\"1\" class=\"dataframe\">\n",
       "  <thead>\n",
       "    <tr style=\"text-align: right;\">\n",
       "      <th></th>\n",
       "      <th>Family_ID</th>\n",
       "      <th>Individual_ID</th>\n",
       "      <th>Paternal_ID</th>\n",
       "      <th>Maternal_ID</th>\n",
       "      <th>Sex</th>\n",
       "      <th>Phenotype</th>\n",
       "    </tr>\n",
       "  </thead>\n",
       "  <tbody>\n",
       "    <tr>\n",
       "      <th>0</th>\n",
       "      <td>AA</td>\n",
       "      <td>AD_066</td>\n",
       "      <td>0</td>\n",
       "      <td>0</td>\n",
       "      <td>0</td>\n",
       "      <td>1</td>\n",
       "    </tr>\n",
       "    <tr>\n",
       "      <th>1</th>\n",
       "      <td>AA</td>\n",
       "      <td>AD_064</td>\n",
       "      <td>0</td>\n",
       "      <td>0</td>\n",
       "      <td>0</td>\n",
       "      <td>1</td>\n",
       "    </tr>\n",
       "    <tr>\n",
       "      <th>2</th>\n",
       "      <td>AA</td>\n",
       "      <td>AD_505</td>\n",
       "      <td>0</td>\n",
       "      <td>0</td>\n",
       "      <td>0</td>\n",
       "      <td>1</td>\n",
       "    </tr>\n",
       "    <tr>\n",
       "      <th>3</th>\n",
       "      <td>AA</td>\n",
       "      <td>AD_523</td>\n",
       "      <td>0</td>\n",
       "      <td>0</td>\n",
       "      <td>0</td>\n",
       "      <td>1</td>\n",
       "    </tr>\n",
       "    <tr>\n",
       "      <th>4</th>\n",
       "      <td>AA</td>\n",
       "      <td>AD_500</td>\n",
       "      <td>0</td>\n",
       "      <td>0</td>\n",
       "      <td>0</td>\n",
       "      <td>1</td>\n",
       "    </tr>\n",
       "  </tbody>\n",
       "</table>\n",
       "</div>"
      ],
      "text/plain": [
       "  Family_ID Individual_ID  Paternal_ID  Maternal_ID  Sex  Phenotype\n",
       "0        AA        AD_066            0            0    0          1\n",
       "1        AA        AD_064            0            0    0          1\n",
       "2        AA        AD_505            0            0    0          1\n",
       "3        AA        AD_523            0            0    0          1\n",
       "4        AA        AD_500            0            0    0          1"
      ]
     },
     "execution_count": 7,
     "metadata": {},
     "output_type": "execute_result"
    }
   ],
   "source": [
    "fam_df.head()"
   ]
  },
  {
   "cell_type": "markdown",
   "id": "da04b5bc-b338-4bdf-bc46-5f05ec14cc31",
   "metadata": {},
   "source": [
    "*.`fam (Sample Information)`: Contains family structure, individual ID, parental ID, sex, and phenotype. Links individuals to their genotype data.*\n"
   ]
  },
  {
   "cell_type": "code",
   "execution_count": 8,
   "id": "a556c99e-4b44-4803-ab2b-91a0720879c8",
   "metadata": {},
   "outputs": [
    {
     "data": {
      "text/plain": [
       "Family_ID\n",
       "Yoruba             70\n",
       "French             61\n",
       "Turkish            56\n",
       "Spanish            53\n",
       "Han                43\n",
       "                   ..\n",
       "Datog               3\n",
       "Australian          3\n",
       "Dolgan              3\n",
       "Canary_Islander     2\n",
       "Saami_WGA           1\n",
       "Name: count, Length: 166, dtype: int64"
      ]
     },
     "execution_count": 8,
     "metadata": {},
     "output_type": "execute_result"
    }
   ],
   "source": [
    "fam_df.Family_ID.value_counts()"
   ]
  },
  {
   "cell_type": "code",
   "execution_count": 9,
   "id": "9b4eeddb-c195-49bc-b4dc-92a01d8455d7",
   "metadata": {},
   "outputs": [
    {
     "data": {
      "text/plain": [
       "np.int64(70)"
      ]
     },
     "execution_count": 9,
     "metadata": {},
     "output_type": "execute_result"
    }
   ],
   "source": [
    "(fam_df['Family_ID'] == \"Yoruba\").sum()"
   ]
  },
  {
   "cell_type": "code",
   "execution_count": 10,
   "id": "a9ee260c-1d02-437b-b9b9-5b13a0814fa7",
   "metadata": {},
   "outputs": [
    {
     "name": "stdout",
     "output_type": "stream",
     "text": [
      "<class 'pandas.core.frame.DataFrame'>\n",
      "RangeIndex: 2067 entries, 0 to 2066\n",
      "Data columns (total 6 columns):\n",
      " #   Column         Non-Null Count  Dtype \n",
      "---  ------         --------------  ----- \n",
      " 0   Family_ID      2067 non-null   object\n",
      " 1   Individual_ID  2067 non-null   object\n",
      " 2   Paternal_ID    2067 non-null   int64 \n",
      " 3   Maternal_ID    2067 non-null   int64 \n",
      " 4   Sex            2067 non-null   int64 \n",
      " 5   Phenotype      2067 non-null   int64 \n",
      "dtypes: int64(4), object(2)\n",
      "memory usage: 97.0+ KB\n"
     ]
    }
   ],
   "source": [
    "fam_df.info()"
   ]
  },
  {
   "cell_type": "code",
   "execution_count": 11,
   "id": "cc6f8ab3",
   "metadata": {},
   "outputs": [
    {
     "data": {
      "text/html": [
       "<div>\n",
       "<style scoped>\n",
       "    .dataframe tbody tr th:only-of-type {\n",
       "        vertical-align: middle;\n",
       "    }\n",
       "\n",
       "    .dataframe tbody tr th {\n",
       "        vertical-align: top;\n",
       "    }\n",
       "\n",
       "    .dataframe thead th {\n",
       "        text-align: right;\n",
       "    }\n",
       "</style>\n",
       "<table border=\"1\" class=\"dataframe\">\n",
       "  <thead>\n",
       "    <tr style=\"text-align: right;\">\n",
       "      <th></th>\n",
       "      <th>Paternal_ID</th>\n",
       "      <th>Maternal_ID</th>\n",
       "      <th>Sex</th>\n",
       "      <th>Phenotype</th>\n",
       "    </tr>\n",
       "  </thead>\n",
       "  <tbody>\n",
       "    <tr>\n",
       "      <th>count</th>\n",
       "      <td>2067.0</td>\n",
       "      <td>2067.0</td>\n",
       "      <td>2067.0</td>\n",
       "      <td>2067.0</td>\n",
       "    </tr>\n",
       "    <tr>\n",
       "      <th>mean</th>\n",
       "      <td>0.0</td>\n",
       "      <td>0.0</td>\n",
       "      <td>0.0</td>\n",
       "      <td>1.0</td>\n",
       "    </tr>\n",
       "    <tr>\n",
       "      <th>std</th>\n",
       "      <td>0.0</td>\n",
       "      <td>0.0</td>\n",
       "      <td>0.0</td>\n",
       "      <td>0.0</td>\n",
       "    </tr>\n",
       "    <tr>\n",
       "      <th>min</th>\n",
       "      <td>0.0</td>\n",
       "      <td>0.0</td>\n",
       "      <td>0.0</td>\n",
       "      <td>1.0</td>\n",
       "    </tr>\n",
       "    <tr>\n",
       "      <th>25%</th>\n",
       "      <td>0.0</td>\n",
       "      <td>0.0</td>\n",
       "      <td>0.0</td>\n",
       "      <td>1.0</td>\n",
       "    </tr>\n",
       "    <tr>\n",
       "      <th>50%</th>\n",
       "      <td>0.0</td>\n",
       "      <td>0.0</td>\n",
       "      <td>0.0</td>\n",
       "      <td>1.0</td>\n",
       "    </tr>\n",
       "    <tr>\n",
       "      <th>75%</th>\n",
       "      <td>0.0</td>\n",
       "      <td>0.0</td>\n",
       "      <td>0.0</td>\n",
       "      <td>1.0</td>\n",
       "    </tr>\n",
       "    <tr>\n",
       "      <th>max</th>\n",
       "      <td>0.0</td>\n",
       "      <td>0.0</td>\n",
       "      <td>0.0</td>\n",
       "      <td>1.0</td>\n",
       "    </tr>\n",
       "  </tbody>\n",
       "</table>\n",
       "</div>"
      ],
      "text/plain": [
       "       Paternal_ID  Maternal_ID     Sex  Phenotype\n",
       "count       2067.0       2067.0  2067.0     2067.0\n",
       "mean           0.0          0.0     0.0        1.0\n",
       "std            0.0          0.0     0.0        0.0\n",
       "min            0.0          0.0     0.0        1.0\n",
       "25%            0.0          0.0     0.0        1.0\n",
       "50%            0.0          0.0     0.0        1.0\n",
       "75%            0.0          0.0     0.0        1.0\n",
       "max            0.0          0.0     0.0        1.0"
      ]
     },
     "execution_count": 11,
     "metadata": {},
     "output_type": "execute_result"
    }
   ],
   "source": [
    "fam_df.describe()"
   ]
  },
  {
   "cell_type": "code",
   "execution_count": 12,
   "id": "e174dbf4-9153-4402-a1e8-1cc4c5340eb6",
   "metadata": {},
   "outputs": [
    {
     "data": {
      "text/plain": [
       "'Number of unique family IDs: 166'"
      ]
     },
     "execution_count": 12,
     "metadata": {},
     "output_type": "execute_result"
    }
   ],
   "source": [
    "# Count how many unique Family IDs\n",
    "unique_families = np.unique(fam_df.iloc[:, 0])\n",
    "\n",
    "f\"Number of unique family IDs: {len(unique_families)}\""
   ]
  },
  {
   "cell_type": "code",
   "execution_count": 13,
   "id": "4795d7b7-03c6-48f0-8284-c3e5c769a5f0",
   "metadata": {},
   "outputs": [
    {
     "data": {
      "text/plain": [
       "('number of duplicate rows: ', (0, 6))"
      ]
     },
     "execution_count": 13,
     "metadata": {},
     "output_type": "execute_result"
    }
   ],
   "source": [
    "duplicate_rows_fam_df = fam_df[fam_df.duplicated()]\n",
    "\n",
    "\"number of duplicate rows: \", duplicate_rows_fam_df.shape"
   ]
  },
  {
   "cell_type": "code",
   "execution_count": 14,
   "id": "48320b4d-7150-48b3-90d5-9850c7e665b0",
   "metadata": {},
   "outputs": [
    {
     "name": "stdout",
     "output_type": "stream",
     "text": [
      "Number of affected individuals: 2067\n"
     ]
    }
   ],
   "source": [
    "phenotype_column = fam_df.iloc[:, 5]\n",
    "\n",
    "# Count the number of affected individuals\n",
    "affected = np.sum(phenotype_column == 1)\n",
    "print(f\"Number of affected individuals: {affected}\")"
   ]
  },
  {
   "cell_type": "markdown",
   "id": "b010c58e-c362-485e-871f-8ef2734cd882",
   "metadata": {},
   "source": [
    "## _`bim` Dataset_\n",
    " *This `.bim file` is a `PLINK BIM` (binary map) file used in genetics and bioinformatics. It provides information about genetic variants (SNPs) in a dataset.*"
   ]
  },
  {
   "cell_type": "code",
   "execution_count": 15,
   "id": "dce71d42",
   "metadata": {},
   "outputs": [],
   "source": [
    "bim = np.genfromtxt(\"HO_data/HO_data_filtered/HumanOrigins2067_filtered.bim\", usecols=(0, 1, 2, 3, 4, 5), dtype=str)"
   ]
  },
  {
   "cell_type": "code",
   "execution_count": 16,
   "id": "a531567e-93a9-4024-bc89-620f2d380015",
   "metadata": {},
   "outputs": [
    {
     "data": {
      "text/plain": [
       "array(['1', 'rs3094315', '0.020130', '752566', 'G', 'A'], dtype='<U16')"
      ]
     },
     "execution_count": 16,
     "metadata": {},
     "output_type": "execute_result"
    }
   ],
   "source": [
    "bim[0]"
   ]
  },
  {
   "cell_type": "markdown",
   "id": "18d09eba-0a55-4b71-b15e-14cd8b5d1578",
   "metadata": {},
   "source": [
    "- `dtype('<U16')` in NumPy means that the array contains Unicode strings with a maximum length of 16 characters."
   ]
  },
  {
   "cell_type": "code",
   "execution_count": 17,
   "id": "67988e6d-3ba9-4ba1-9312-94fa2020a57d",
   "metadata": {},
   "outputs": [],
   "source": [
    "columns = [\"Chromosome\", \"SNP_ID\", \"Genetic_Distance\", \"Position\", \"Ref_Allele\", \"Alt_Allele\"]\n",
    "\n",
    "bim_df = pd.read_csv(\"HO_data/HO_data_filtered/HumanOrigins2067_filtered.bim\", sep=\"\\s+\", names=columns)"
   ]
  },
  {
   "cell_type": "code",
   "execution_count": 18,
   "id": "99e55893-e610-45c7-9a19-3a2e94784f9c",
   "metadata": {},
   "outputs": [
    {
     "data": {
      "text/html": [
       "<div>\n",
       "<style scoped>\n",
       "    .dataframe tbody tr th:only-of-type {\n",
       "        vertical-align: middle;\n",
       "    }\n",
       "\n",
       "    .dataframe tbody tr th {\n",
       "        vertical-align: top;\n",
       "    }\n",
       "\n",
       "    .dataframe thead th {\n",
       "        text-align: right;\n",
       "    }\n",
       "</style>\n",
       "<table border=\"1\" class=\"dataframe\">\n",
       "  <thead>\n",
       "    <tr style=\"text-align: right;\">\n",
       "      <th></th>\n",
       "      <th>Chromosome</th>\n",
       "      <th>SNP_ID</th>\n",
       "      <th>Genetic_Distance</th>\n",
       "      <th>Position</th>\n",
       "      <th>Ref_Allele</th>\n",
       "      <th>Alt_Allele</th>\n",
       "    </tr>\n",
       "  </thead>\n",
       "  <tbody>\n",
       "    <tr>\n",
       "      <th>0</th>\n",
       "      <td>1</td>\n",
       "      <td>rs3094315</td>\n",
       "      <td>0.020130</td>\n",
       "      <td>752566</td>\n",
       "      <td>G</td>\n",
       "      <td>A</td>\n",
       "    </tr>\n",
       "    <tr>\n",
       "      <th>1</th>\n",
       "      <td>1</td>\n",
       "      <td>rs7419119</td>\n",
       "      <td>0.022518</td>\n",
       "      <td>842013</td>\n",
       "      <td>G</td>\n",
       "      <td>T</td>\n",
       "    </tr>\n",
       "    <tr>\n",
       "      <th>2</th>\n",
       "      <td>1</td>\n",
       "      <td>rs13302957</td>\n",
       "      <td>0.024116</td>\n",
       "      <td>891021</td>\n",
       "      <td>G</td>\n",
       "      <td>A</td>\n",
       "    </tr>\n",
       "    <tr>\n",
       "      <th>3</th>\n",
       "      <td>1</td>\n",
       "      <td>rs6696609</td>\n",
       "      <td>0.024457</td>\n",
       "      <td>903426</td>\n",
       "      <td>T</td>\n",
       "      <td>C</td>\n",
       "    </tr>\n",
       "    <tr>\n",
       "      <th>4</th>\n",
       "      <td>1</td>\n",
       "      <td>rs8997</td>\n",
       "      <td>0.025727</td>\n",
       "      <td>949654</td>\n",
       "      <td>A</td>\n",
       "      <td>G</td>\n",
       "    </tr>\n",
       "  </tbody>\n",
       "</table>\n",
       "</div>"
      ],
      "text/plain": [
       "   Chromosome      SNP_ID  Genetic_Distance  Position Ref_Allele Alt_Allele\n",
       "0           1   rs3094315          0.020130    752566          G          A\n",
       "1           1   rs7419119          0.022518    842013          G          T\n",
       "2           1  rs13302957          0.024116    891021          G          A\n",
       "3           1   rs6696609          0.024457    903426          T          C\n",
       "4           1      rs8997          0.025727    949654          A          G"
      ]
     },
     "execution_count": 18,
     "metadata": {},
     "output_type": "execute_result"
    }
   ],
   "source": [
    "bim_df.head()"
   ]
  },
  {
   "cell_type": "code",
   "execution_count": 19,
   "id": "20f82014-2f9c-4832-8dcc-3d9dac5fc667",
   "metadata": {},
   "outputs": [
    {
     "name": "stdout",
     "output_type": "stream",
     "text": [
      "<class 'pandas.core.frame.DataFrame'>\n",
      "RangeIndex: 160858 entries, 0 to 160857\n",
      "Data columns (total 6 columns):\n",
      " #   Column            Non-Null Count   Dtype  \n",
      "---  ------            --------------   -----  \n",
      " 0   Chromosome        160858 non-null  int64  \n",
      " 1   SNP_ID            160858 non-null  object \n",
      " 2   Genetic_Distance  160858 non-null  float64\n",
      " 3   Position          160858 non-null  int64  \n",
      " 4   Ref_Allele        160858 non-null  object \n",
      " 5   Alt_Allele        160858 non-null  object \n",
      "dtypes: float64(1), int64(2), object(3)\n",
      "memory usage: 7.4+ MB\n"
     ]
    }
   ],
   "source": [
    "bim_df.info()"
   ]
  },
  {
   "cell_type": "markdown",
   "id": "c55b852b-d3ba-4aab-8a99-cab2022723dc",
   "metadata": {},
   "source": [
    "*.`bim (Variant Information)`: Contains SNP markers, chromosome number, genetic position, and allele information.*\n",
    "\n",
    "*.`SNP ID`: unique identifier for this SNP - Reference SNP identifier -rsID*\n",
    "\n",
    "*.`Genetic Distance`: cM - Centimorgans (may not always be used)*\n",
    "\n",
    "*.`Physical Position`: this SNP is located at base pair 752,566 on chromosome 1*\n",
    "\n",
    "*.`Reference Allele`: G - major allele*\n",
    "\n",
    "*.`Alternative Allele`: A - minor allele*"
   ]
  },
  {
   "cell_type": "code",
   "execution_count": 20,
   "id": "91f36472-5572-4e4f-a644-7967f4f33eb0",
   "metadata": {},
   "outputs": [
    {
     "data": {
      "text/html": [
       "<div>\n",
       "<style scoped>\n",
       "    .dataframe tbody tr th:only-of-type {\n",
       "        vertical-align: middle;\n",
       "    }\n",
       "\n",
       "    .dataframe tbody tr th {\n",
       "        vertical-align: top;\n",
       "    }\n",
       "\n",
       "    .dataframe thead th {\n",
       "        text-align: right;\n",
       "    }\n",
       "</style>\n",
       "<table border=\"1\" class=\"dataframe\">\n",
       "  <thead>\n",
       "    <tr style=\"text-align: right;\">\n",
       "      <th></th>\n",
       "      <th>Chromosome</th>\n",
       "      <th>Genetic_Distance</th>\n",
       "      <th>Position</th>\n",
       "    </tr>\n",
       "  </thead>\n",
       "  <tbody>\n",
       "    <tr>\n",
       "      <th>count</th>\n",
       "      <td>160858.000000</td>\n",
       "      <td>160858.000000</td>\n",
       "      <td>1.608580e+05</td>\n",
       "    </tr>\n",
       "    <tr>\n",
       "      <th>mean</th>\n",
       "      <td>8.991744</td>\n",
       "      <td>0.930690</td>\n",
       "      <td>7.849409e+07</td>\n",
       "    </tr>\n",
       "    <tr>\n",
       "      <th>std</th>\n",
       "      <td>5.945411</td>\n",
       "      <td>0.590934</td>\n",
       "      <td>5.802305e+07</td>\n",
       "    </tr>\n",
       "    <tr>\n",
       "      <th>min</th>\n",
       "      <td>1.000000</td>\n",
       "      <td>0.000013</td>\n",
       "      <td>1.968800e+04</td>\n",
       "    </tr>\n",
       "    <tr>\n",
       "      <th>25%</th>\n",
       "      <td>4.000000</td>\n",
       "      <td>0.473851</td>\n",
       "      <td>3.021285e+07</td>\n",
       "    </tr>\n",
       "    <tr>\n",
       "      <th>50%</th>\n",
       "      <td>8.000000</td>\n",
       "      <td>0.848425</td>\n",
       "      <td>6.873518e+07</td>\n",
       "    </tr>\n",
       "    <tr>\n",
       "      <th>75%</th>\n",
       "      <td>13.000000</td>\n",
       "      <td>1.299260</td>\n",
       "      <td>1.164211e+08</td>\n",
       "    </tr>\n",
       "    <tr>\n",
       "      <th>max</th>\n",
       "      <td>22.000000</td>\n",
       "      <td>2.862305</td>\n",
       "      <td>2.491684e+08</td>\n",
       "    </tr>\n",
       "  </tbody>\n",
       "</table>\n",
       "</div>"
      ],
      "text/plain": [
       "          Chromosome  Genetic_Distance      Position\n",
       "count  160858.000000     160858.000000  1.608580e+05\n",
       "mean        8.991744          0.930690  7.849409e+07\n",
       "std         5.945411          0.590934  5.802305e+07\n",
       "min         1.000000          0.000013  1.968800e+04\n",
       "25%         4.000000          0.473851  3.021285e+07\n",
       "50%         8.000000          0.848425  6.873518e+07\n",
       "75%        13.000000          1.299260  1.164211e+08\n",
       "max        22.000000          2.862305  2.491684e+08"
      ]
     },
     "execution_count": 20,
     "metadata": {},
     "output_type": "execute_result"
    }
   ],
   "source": [
    "bim_df.describe()"
   ]
  },
  {
   "cell_type": "code",
   "execution_count": 33,
   "id": "32f92393-0703-4d54-98f7-ea639eff7fdf",
   "metadata": {},
   "outputs": [
    {
     "data": {
      "text/plain": [
       "('number of duplicate rows: ', (0, 6))"
      ]
     },
     "execution_count": 33,
     "metadata": {},
     "output_type": "execute_result"
    }
   ],
   "source": [
    "bim_df_duplicate = bim_df[bim_df.duplicated()]\n",
    "\n",
    "\"number of duplicate rows: \", bim_df_duplicate.shape"
   ]
  },
  {
   "cell_type": "code",
   "execution_count": 40,
   "id": "084a8b18-7ce7-4499-94ad-73def9af94c2",
   "metadata": {},
   "outputs": [
    {
     "data": {
      "text/plain": [
       "<seaborn.axisgrid.PairGrid at 0x7fd08e3c6220>"
      ]
     },
     "execution_count": 40,
     "metadata": {},
     "output_type": "execute_result"
    },
    {
     "data": {
      "image/png": "[encoded data removed]",
      "text/plain": [
       "<Figure size 750x750 with 12 Axes>"
      ]
     },
     "metadata": {},
     "output_type": "display_data"
    }
   ],
   "source": [
    "sns.pairplot(bim_df)"
   ]
  },
  {
   "cell_type": "code",
   "execution_count": 41,
   "id": "1d0ad155-fb8c-4dd1-8eb0-37835869cd1b",
   "metadata": {},
   "outputs": [
    {
     "data": {
      "image/png": "[encoded data removed]",
      "text/plain": [
       "<Figure size 640x480 with 1 Axes>"
      ]
     },
     "metadata": {},
     "output_type": "display_data"
    }
   ],
   "source": [
    "sns.histplot(bim_df['Genetic_Distance'], color='g', bins=100, alpha=0.4)\n",
    "plt.show()"
   ]
  },
  {
   "cell_type": "code",
   "execution_count": 42,
   "id": "e22186f0-e3f9-4a8f-a191-5e69b78f0eda",
   "metadata": {},
   "outputs": [
    {
     "data": {
      "image/png": "[encoded data removed]",
      "text/plain": [
       "<Figure size 640x480 with 1 Axes>"
      ]
     },
     "metadata": {},
     "output_type": "display_data"
    }
   ],
   "source": [
    "sns.histplot(bim_df['Position'], color='g', bins=100, alpha=0.4)\n",
    "plt.show()"
   ]
  },
  {
   "cell_type": "code",
   "execution_count": 43,
   "id": "237b536c-9041-4504-913a-597cf7409996",
   "metadata": {},
   "outputs": [
    {
     "data": {
      "image/png": "[encoded data removed]",
      "text/plain": [
       "<Figure size 640x480 with 1 Axes>"
      ]
     },
     "metadata": {},
     "output_type": "display_data"
    }
   ],
   "source": [
    "sns.histplot(bim_df['Chromosome'], color='g', bins=100, alpha=0.4)\n",
    "plt.show()"
   ]
  },
  {
   "cell_type": "markdown",
   "id": "f033b646-b7a8-4790-89ce-8f8fa703ff67",
   "metadata": {},
   "source": [
    "## _`snp` Dataset_"
   ]
  },
  {
   "cell_type": "code",
   "execution_count": 50,
   "id": "682ed5a9-5d84-49bd-bf44-ac76dbeb4e1a",
   "metadata": {},
   "outputs": [],
   "source": [
    "# load dataset\n",
    "snp_data = pd.read_parquet(\"HO_data/HO_data_filtered/HumanOrigins2067_filtered.parquet\").to_numpy()"
   ]
  },
  {
   "cell_type": "code",
   "execution_count": 52,
   "id": "54d0c583-e3e0-4423-b096-c3da1adf00ad",
   "metadata": {},
   "outputs": [
    {
     "name": "stdout",
     "output_type": "stream",
     "text": [
      "[0. 1. 2. 9.]\n"
     ]
    }
   ],
   "source": [
    "# unique values of xxx\n",
    "print(np.unique(snp_data))"
   ]
  },
  {
   "cell_type": "code",
   "execution_count": null,
   "id": "b66d1cc3-386a-49fd-a71e-d2f8eb5072a3",
   "metadata": {},
   "outputs": [],
   "source": [
    "# numpy to dataframe\n",
    "snp_data_df = pd.DataFrame(snp_data)"
   ]
  },
  {
   "cell_type": "code",
   "execution_count": 54,
   "id": "c81c48bd-b7bf-44f8-b53e-19c36b9a6f02",
   "metadata": {},
   "outputs": [],
   "source": [
    "# snp_data_df.info()"
   ]
  },
  {
   "cell_type": "code",
   "execution_count": 55,
   "id": "d09d1219-df1e-4efb-a07e-98c6bea6b6e3",
   "metadata": {},
   "outputs": [],
   "source": [
    "# snp_data_df.describe()"
   ]
  },
  {
   "cell_type": "code",
   "execution_count": 56,
   "id": "ce8cf38f-15c8-4c0a-9421-1d5136b13522",
   "metadata": {},
   "outputs": [
    {
     "data": {
      "text/html": [
       "<div>\n",
       "<style scoped>\n",
       "    .dataframe tbody tr th:only-of-type {\n",
       "        vertical-align: middle;\n",
       "    }\n",
       "\n",
       "    .dataframe tbody tr th {\n",
       "        vertical-align: top;\n",
       "    }\n",
       "\n",
       "    .dataframe thead th {\n",
       "        text-align: right;\n",
       "    }\n",
       "</style>\n",
       "<table border=\"1\" class=\"dataframe\">\n",
       "  <thead>\n",
       "    <tr style=\"text-align: right;\">\n",
       "      <th></th>\n",
       "      <th>SNP_0</th>\n",
       "      <th>SNP_1</th>\n",
       "      <th>SNP_2</th>\n",
       "      <th>SNP_3</th>\n",
       "      <th>SNP_4</th>\n",
       "      <th>SNP_5</th>\n",
       "      <th>SNP_6</th>\n",
       "      <th>SNP_7</th>\n",
       "      <th>SNP_8</th>\n",
       "      <th>SNP_9</th>\n",
       "      <th>...</th>\n",
       "      <th>SNP_2058</th>\n",
       "      <th>SNP_2059</th>\n",
       "      <th>SNP_2060</th>\n",
       "      <th>SNP_2061</th>\n",
       "      <th>SNP_2062</th>\n",
       "      <th>SNP_2063</th>\n",
       "      <th>SNP_2064</th>\n",
       "      <th>SNP_2065</th>\n",
       "      <th>SNP_2066</th>\n",
       "      <th>Individual_ID</th>\n",
       "    </tr>\n",
       "  </thead>\n",
       "  <tbody>\n",
       "    <tr>\n",
       "      <th>0</th>\n",
       "      <td>1.0</td>\n",
       "      <td>1.0</td>\n",
       "      <td>1.0</td>\n",
       "      <td>1.0</td>\n",
       "      <td>1.0</td>\n",
       "      <td>1.0</td>\n",
       "      <td>0.0</td>\n",
       "      <td>1.0</td>\n",
       "      <td>1.0</td>\n",
       "      <td>0.0</td>\n",
       "      <td>...</td>\n",
       "      <td>1.0</td>\n",
       "      <td>0.0</td>\n",
       "      <td>0.0</td>\n",
       "      <td>0.0</td>\n",
       "      <td>1.0</td>\n",
       "      <td>0.0</td>\n",
       "      <td>1.0</td>\n",
       "      <td>0.0</td>\n",
       "      <td>0.0</td>\n",
       "      <td>AD_066</td>\n",
       "    </tr>\n",
       "    <tr>\n",
       "      <th>1</th>\n",
       "      <td>0.0</td>\n",
       "      <td>0.0</td>\n",
       "      <td>1.0</td>\n",
       "      <td>0.0</td>\n",
       "      <td>1.0</td>\n",
       "      <td>0.0</td>\n",
       "      <td>0.0</td>\n",
       "      <td>0.0</td>\n",
       "      <td>0.0</td>\n",
       "      <td>0.0</td>\n",
       "      <td>...</td>\n",
       "      <td>1.0</td>\n",
       "      <td>0.0</td>\n",
       "      <td>0.0</td>\n",
       "      <td>0.0</td>\n",
       "      <td>1.0</td>\n",
       "      <td>0.0</td>\n",
       "      <td>0.0</td>\n",
       "      <td>0.0</td>\n",
       "      <td>1.0</td>\n",
       "      <td>AD_064</td>\n",
       "    </tr>\n",
       "    <tr>\n",
       "      <th>2</th>\n",
       "      <td>0.0</td>\n",
       "      <td>1.0</td>\n",
       "      <td>0.0</td>\n",
       "      <td>1.0</td>\n",
       "      <td>0.0</td>\n",
       "      <td>0.0</td>\n",
       "      <td>1.0</td>\n",
       "      <td>0.0</td>\n",
       "      <td>0.0</td>\n",
       "      <td>1.0</td>\n",
       "      <td>...</td>\n",
       "      <td>0.0</td>\n",
       "      <td>1.0</td>\n",
       "      <td>1.0</td>\n",
       "      <td>1.0</td>\n",
       "      <td>1.0</td>\n",
       "      <td>1.0</td>\n",
       "      <td>0.0</td>\n",
       "      <td>1.0</td>\n",
       "      <td>0.0</td>\n",
       "      <td>AD_505</td>\n",
       "    </tr>\n",
       "    <tr>\n",
       "      <th>3</th>\n",
       "      <td>2.0</td>\n",
       "      <td>1.0</td>\n",
       "      <td>1.0</td>\n",
       "      <td>1.0</td>\n",
       "      <td>1.0</td>\n",
       "      <td>0.0</td>\n",
       "      <td>1.0</td>\n",
       "      <td>1.0</td>\n",
       "      <td>1.0</td>\n",
       "      <td>0.0</td>\n",
       "      <td>...</td>\n",
       "      <td>0.0</td>\n",
       "      <td>1.0</td>\n",
       "      <td>1.0</td>\n",
       "      <td>1.0</td>\n",
       "      <td>1.0</td>\n",
       "      <td>1.0</td>\n",
       "      <td>1.0</td>\n",
       "      <td>1.0</td>\n",
       "      <td>0.0</td>\n",
       "      <td>AD_523</td>\n",
       "    </tr>\n",
       "    <tr>\n",
       "      <th>4</th>\n",
       "      <td>1.0</td>\n",
       "      <td>2.0</td>\n",
       "      <td>1.0</td>\n",
       "      <td>1.0</td>\n",
       "      <td>0.0</td>\n",
       "      <td>0.0</td>\n",
       "      <td>1.0</td>\n",
       "      <td>0.0</td>\n",
       "      <td>1.0</td>\n",
       "      <td>0.0</td>\n",
       "      <td>...</td>\n",
       "      <td>0.0</td>\n",
       "      <td>0.0</td>\n",
       "      <td>0.0</td>\n",
       "      <td>0.0</td>\n",
       "      <td>0.0</td>\n",
       "      <td>0.0</td>\n",
       "      <td>0.0</td>\n",
       "      <td>0.0</td>\n",
       "      <td>0.0</td>\n",
       "      <td>AD_500</td>\n",
       "    </tr>\n",
       "  </tbody>\n",
       "</table>\n",
       "<p>5 rows × 2068 columns</p>\n",
       "</div>"
      ],
      "text/plain": [
       "   SNP_0  SNP_1  SNP_2  SNP_3  SNP_4  SNP_5  SNP_6  SNP_7  SNP_8  SNP_9  ...  \\\n",
       "0    1.0    1.0    1.0    1.0    1.0    1.0    0.0    1.0    1.0    0.0  ...   \n",
       "1    0.0    0.0    1.0    0.0    1.0    0.0    0.0    0.0    0.0    0.0  ...   \n",
       "2    0.0    1.0    0.0    1.0    0.0    0.0    1.0    0.0    0.0    1.0  ...   \n",
       "3    2.0    1.0    1.0    1.0    1.0    0.0    1.0    1.0    1.0    0.0  ...   \n",
       "4    1.0    2.0    1.0    1.0    0.0    0.0    1.0    0.0    1.0    0.0  ...   \n",
       "\n",
       "   SNP_2058  SNP_2059  SNP_2060  SNP_2061  SNP_2062  SNP_2063  SNP_2064  \\\n",
       "0       1.0       0.0       0.0       0.0       1.0       0.0       1.0   \n",
       "1       1.0       0.0       0.0       0.0       1.0       0.0       0.0   \n",
       "2       0.0       1.0       1.0       1.0       1.0       1.0       0.0   \n",
       "3       0.0       1.0       1.0       1.0       1.0       1.0       1.0   \n",
       "4       0.0       0.0       0.0       0.0       0.0       0.0       0.0   \n",
       "\n",
       "   SNP_2065  SNP_2066  Individual_ID  \n",
       "0       0.0       0.0         AD_066  \n",
       "1       0.0       1.0         AD_064  \n",
       "2       1.0       0.0         AD_505  \n",
       "3       1.0       0.0         AD_523  \n",
       "4       0.0       0.0         AD_500  \n",
       "\n",
       "[5 rows x 2068 columns]"
      ]
     },
     "execution_count": 56,
     "metadata": {},
     "output_type": "execute_result"
    }
   ],
   "source": [
    "snp_data_df.head()"
   ]
  },
  {
   "cell_type": "markdown",
   "id": "0176abcd-9900-4f13-b2e3-4bbcdacbd841",
   "metadata": {},
   "source": [
    "- *This dataset contains genotype data for `160,858` individuals across `2,067` SNP markers. The values `(0, 1, 2)` represent different genotype states for each SNP, indicating the genetic variation between individuals.*\n",
    "\n",
    "- *`Rows`: Each row corresponds to a person in the dataset - 160,858 individuals (rows)*\n",
    "\n",
    "- *`Columns`: Each column corresponds to a specific SNP marker- 2,067 SNP markers (columns)*\n",
    "\n",
    "- *`Values`: The values represent the genotypes for each individual and SNP. Genotypes are typically represented as:*\n",
    "\n",
    "    - `0: Homozygous` reference (e.g., the individual has two copies of the reference allele).\n",
    "    - `1: Heterozygous` (e.g., the individual has one copy of the reference allele and one copy of the alternate allele).\n",
    "    - `2: Homozygous` alternate (e.g., the individual has two copies of the alternate allele).\n",
    "    - `9: null` represent null/missing data (alternate `-1`)\n"
   ]
  },
  {
   "cell_type": "code",
   "execution_count": 41,
   "id": "eb42df24-ef6c-47ad-a320-234acc83ba81",
   "metadata": {},
   "outputs": [
    {
     "data": {
      "text/plain": [
       "SNP_0                                         [1.0, 0.0, 2.0, 9.0]\n",
       "SNP_1                                         [1.0, 0.0, 2.0, 9.0]\n",
       "SNP_2                                         [1.0, 0.0, 2.0, 9.0]\n",
       "SNP_3                                         [1.0, 0.0, 2.0, 9.0]\n",
       "SNP_4                                         [1.0, 0.0, 2.0, 9.0]\n",
       "                                       ...                        \n",
       "SNP_2063                                      [0.0, 1.0, 2.0, 9.0]\n",
       "SNP_2064                                      [1.0, 0.0, 2.0, 9.0]\n",
       "SNP_2065                                      [0.0, 1.0, 2.0, 9.0]\n",
       "SNP_2066                                      [0.0, 1.0, 2.0, 9.0]\n",
       "Individual_ID    [AD_066, AD_064, AD_505, AD_523, AD_500, AD_51...\n",
       "Length: 2068, dtype: object"
      ]
     },
     "execution_count": 41,
     "metadata": {},
     "output_type": "execute_result"
    }
   ],
   "source": [
    "# Get unique values in each column\n",
    "unique_values_per_column = snp_data_df.apply(lambda col: col.unique())\n",
    "unique_values_per_column"
   ]
  },
  {
   "cell_type": "code",
   "execution_count": 29,
   "id": "7d8d4413-0b53-4ceb-b0ce-de41fc2b8431",
   "metadata": {},
   "outputs": [
    {
     "name": "stdout",
     "output_type": "stream",
     "text": [
      "0       0\n",
      "1       0\n",
      "2       0\n",
      "3       0\n",
      "4       0\n",
      "       ..\n",
      "2062    0\n",
      "2063    0\n",
      "2064    0\n",
      "2065    0\n",
      "2066    0\n",
      "Length: 2067, dtype: int64\n"
     ]
    }
   ],
   "source": [
    "# Check for missing values\n",
    "missing_values = snp_data_df.isnull().sum()  # Sum of missing values per column\n",
    "print(missing_values)"
   ]
  },
  {
   "cell_type": "markdown",
   "id": "8a927cc5-daef-4d43-9039-a1215cac7720",
   "metadata": {},
   "source": [
    "## *Minor Allele Frequency*\n",
    "MAF tells you how common the minor allele (e.g., 1 or 2) is in the population."
   ]
  },
  {
   "cell_type": "code",
   "execution_count": 44,
   "id": "7e2a986c-d3cc-4ac4-8958-fd70d9f3ff37",
   "metadata": {},
   "outputs": [
    {
     "name": "stdout",
     "output_type": "stream",
     "text": [
      "SNP_0       0.004725\n",
      "SNP_1       0.005191\n",
      "SNP_2       0.001946\n",
      "SNP_3       0.004992\n",
      "SNP_4       0.003444\n",
      "              ...   \n",
      "SNP_2062    0.002686\n",
      "SNP_2063    0.003164\n",
      "SNP_2064    0.002462\n",
      "SNP_2065    0.002928\n",
      "SNP_2066    0.002754\n",
      "Length: 2067, dtype: float64\n"
     ]
    }
   ],
   "source": [
    "def maf(snp_column):\n",
    "    counts = snp_column.value_counts(normalize=True)\n",
    "    return min(counts)  # Minor allele frequency is the least frequent value\n",
    "\n",
    "maf_values = snp_data_df.drop('Individual_ID', axis=1).apply(maf)\n",
    "print(maf_values)"
   ]
  },
  {
   "cell_type": "code",
   "execution_count": 32,
   "id": "16e79b6b-49d0-450e-b787-efbc546dfc87",
   "metadata": {},
   "outputs": [
    {
     "data": {
      "text/plain": [
       "Index(['SNP_0', 'SNP_1', 'SNP_2', 'SNP_3', 'SNP_4', 'SNP_5', 'SNP_6', 'SNP_7',\n",
       "       'SNP_8', 'SNP_9',\n",
       "       ...\n",
       "       'SNP_2058', 'SNP_2059', 'SNP_2060', 'SNP_2061', 'SNP_2062', 'SNP_2063',\n",
       "       'SNP_2064', 'SNP_2065', 'SNP_2066', 'Individual_ID'],\n",
       "      dtype='object', length=2068)"
      ]
     },
     "execution_count": 32,
     "metadata": {},
     "output_type": "execute_result"
    }
   ],
   "source": [
    "snp_data_df.columns"
   ]
  },
  {
   "cell_type": "code",
   "execution_count": 33,
   "id": "c47db348-b7fa-417d-9bae-25ec91f2e6b8",
   "metadata": {},
   "outputs": [],
   "source": [
    "snp_data_df[\"Individual_ID\"] = fam_df[\"Individual_ID\"]  # Add Individual ID\n",
    "\n",
    "# .Fam + snp\n",
    "merged_df = fam_df.merge(snp_data_df, on=\"Individual_ID\")  # Merge phenotype & genotypes"
   ]
  },
  {
   "cell_type": "code",
   "execution_count": 34,
   "id": "42cda72a-0eaa-49b0-a26f-ec934a9925ff",
   "metadata": {},
   "outputs": [
    {
     "data": {
      "text/html": [
       "<div>\n",
       "<style scoped>\n",
       "    .dataframe tbody tr th:only-of-type {\n",
       "        vertical-align: middle;\n",
       "    }\n",
       "\n",
       "    .dataframe tbody tr th {\n",
       "        vertical-align: top;\n",
       "    }\n",
       "\n",
       "    .dataframe thead th {\n",
       "        text-align: right;\n",
       "    }\n",
       "</style>\n",
       "<table border=\"1\" class=\"dataframe\">\n",
       "  <thead>\n",
       "    <tr style=\"text-align: right;\">\n",
       "      <th></th>\n",
       "      <th>Family_ID</th>\n",
       "      <th>Individual_ID</th>\n",
       "      <th>Paternal_ID</th>\n",
       "      <th>Maternal_ID</th>\n",
       "      <th>Sex</th>\n",
       "      <th>Phenotype</th>\n",
       "      <th>SNP_0</th>\n",
       "      <th>SNP_1</th>\n",
       "      <th>SNP_2</th>\n",
       "      <th>SNP_3</th>\n",
       "      <th>...</th>\n",
       "      <th>SNP_2057</th>\n",
       "      <th>SNP_2058</th>\n",
       "      <th>SNP_2059</th>\n",
       "      <th>SNP_2060</th>\n",
       "      <th>SNP_2061</th>\n",
       "      <th>SNP_2062</th>\n",
       "      <th>SNP_2063</th>\n",
       "      <th>SNP_2064</th>\n",
       "      <th>SNP_2065</th>\n",
       "      <th>SNP_2066</th>\n",
       "    </tr>\n",
       "  </thead>\n",
       "  <tbody>\n",
       "    <tr>\n",
       "      <th>0</th>\n",
       "      <td>AA</td>\n",
       "      <td>AD_066</td>\n",
       "      <td>0</td>\n",
       "      <td>0</td>\n",
       "      <td>0</td>\n",
       "      <td>1</td>\n",
       "      <td>1.0</td>\n",
       "      <td>1.0</td>\n",
       "      <td>1.0</td>\n",
       "      <td>1.0</td>\n",
       "      <td>...</td>\n",
       "      <td>1.0</td>\n",
       "      <td>1.0</td>\n",
       "      <td>0.0</td>\n",
       "      <td>0.0</td>\n",
       "      <td>0.0</td>\n",
       "      <td>1.0</td>\n",
       "      <td>0.0</td>\n",
       "      <td>1.0</td>\n",
       "      <td>0.0</td>\n",
       "      <td>0.0</td>\n",
       "    </tr>\n",
       "    <tr>\n",
       "      <th>1</th>\n",
       "      <td>AA</td>\n",
       "      <td>AD_064</td>\n",
       "      <td>0</td>\n",
       "      <td>0</td>\n",
       "      <td>0</td>\n",
       "      <td>1</td>\n",
       "      <td>0.0</td>\n",
       "      <td>0.0</td>\n",
       "      <td>1.0</td>\n",
       "      <td>0.0</td>\n",
       "      <td>...</td>\n",
       "      <td>0.0</td>\n",
       "      <td>1.0</td>\n",
       "      <td>0.0</td>\n",
       "      <td>0.0</td>\n",
       "      <td>0.0</td>\n",
       "      <td>1.0</td>\n",
       "      <td>0.0</td>\n",
       "      <td>0.0</td>\n",
       "      <td>0.0</td>\n",
       "      <td>1.0</td>\n",
       "    </tr>\n",
       "    <tr>\n",
       "      <th>2</th>\n",
       "      <td>AA</td>\n",
       "      <td>AD_505</td>\n",
       "      <td>0</td>\n",
       "      <td>0</td>\n",
       "      <td>0</td>\n",
       "      <td>1</td>\n",
       "      <td>0.0</td>\n",
       "      <td>1.0</td>\n",
       "      <td>0.0</td>\n",
       "      <td>1.0</td>\n",
       "      <td>...</td>\n",
       "      <td>0.0</td>\n",
       "      <td>0.0</td>\n",
       "      <td>1.0</td>\n",
       "      <td>1.0</td>\n",
       "      <td>1.0</td>\n",
       "      <td>1.0</td>\n",
       "      <td>1.0</td>\n",
       "      <td>0.0</td>\n",
       "      <td>1.0</td>\n",
       "      <td>0.0</td>\n",
       "    </tr>\n",
       "    <tr>\n",
       "      <th>3</th>\n",
       "      <td>AA</td>\n",
       "      <td>AD_523</td>\n",
       "      <td>0</td>\n",
       "      <td>0</td>\n",
       "      <td>0</td>\n",
       "      <td>1</td>\n",
       "      <td>2.0</td>\n",
       "      <td>1.0</td>\n",
       "      <td>1.0</td>\n",
       "      <td>1.0</td>\n",
       "      <td>...</td>\n",
       "      <td>0.0</td>\n",
       "      <td>0.0</td>\n",
       "      <td>1.0</td>\n",
       "      <td>1.0</td>\n",
       "      <td>1.0</td>\n",
       "      <td>1.0</td>\n",
       "      <td>1.0</td>\n",
       "      <td>1.0</td>\n",
       "      <td>1.0</td>\n",
       "      <td>0.0</td>\n",
       "    </tr>\n",
       "    <tr>\n",
       "      <th>4</th>\n",
       "      <td>AA</td>\n",
       "      <td>AD_500</td>\n",
       "      <td>0</td>\n",
       "      <td>0</td>\n",
       "      <td>0</td>\n",
       "      <td>1</td>\n",
       "      <td>1.0</td>\n",
       "      <td>2.0</td>\n",
       "      <td>1.0</td>\n",
       "      <td>1.0</td>\n",
       "      <td>...</td>\n",
       "      <td>0.0</td>\n",
       "      <td>0.0</td>\n",
       "      <td>0.0</td>\n",
       "      <td>0.0</td>\n",
       "      <td>0.0</td>\n",
       "      <td>0.0</td>\n",
       "      <td>0.0</td>\n",
       "      <td>0.0</td>\n",
       "      <td>0.0</td>\n",
       "      <td>0.0</td>\n",
       "    </tr>\n",
       "    <tr>\n",
       "      <th>...</th>\n",
       "      <td>...</td>\n",
       "      <td>...</td>\n",
       "      <td>...</td>\n",
       "      <td>...</td>\n",
       "      <td>...</td>\n",
       "      <td>...</td>\n",
       "      <td>...</td>\n",
       "      <td>...</td>\n",
       "      <td>...</td>\n",
       "      <td>...</td>\n",
       "      <td>...</td>\n",
       "      <td>...</td>\n",
       "      <td>...</td>\n",
       "      <td>...</td>\n",
       "      <td>...</td>\n",
       "      <td>...</td>\n",
       "      <td>...</td>\n",
       "      <td>...</td>\n",
       "      <td>...</td>\n",
       "      <td>...</td>\n",
       "      <td>...</td>\n",
       "    </tr>\n",
       "    <tr>\n",
       "      <th>2062</th>\n",
       "      <td>Zapotec</td>\n",
       "      <td>Zapo0082</td>\n",
       "      <td>0</td>\n",
       "      <td>0</td>\n",
       "      <td>0</td>\n",
       "      <td>1</td>\n",
       "      <td>0.0</td>\n",
       "      <td>0.0</td>\n",
       "      <td>0.0</td>\n",
       "      <td>1.0</td>\n",
       "      <td>...</td>\n",
       "      <td>2.0</td>\n",
       "      <td>1.0</td>\n",
       "      <td>2.0</td>\n",
       "      <td>1.0</td>\n",
       "      <td>0.0</td>\n",
       "      <td>1.0</td>\n",
       "      <td>0.0</td>\n",
       "      <td>0.0</td>\n",
       "      <td>1.0</td>\n",
       "      <td>1.0</td>\n",
       "    </tr>\n",
       "    <tr>\n",
       "      <th>2063</th>\n",
       "      <td>Zapotec</td>\n",
       "      <td>Zapo0083</td>\n",
       "      <td>0</td>\n",
       "      <td>0</td>\n",
       "      <td>0</td>\n",
       "      <td>1</td>\n",
       "      <td>0.0</td>\n",
       "      <td>0.0</td>\n",
       "      <td>0.0</td>\n",
       "      <td>1.0</td>\n",
       "      <td>...</td>\n",
       "      <td>2.0</td>\n",
       "      <td>1.0</td>\n",
       "      <td>2.0</td>\n",
       "      <td>2.0</td>\n",
       "      <td>2.0</td>\n",
       "      <td>1.0</td>\n",
       "      <td>0.0</td>\n",
       "      <td>0.0</td>\n",
       "      <td>1.0</td>\n",
       "      <td>1.0</td>\n",
       "    </tr>\n",
       "    <tr>\n",
       "      <th>2064</th>\n",
       "      <td>Zapotec</td>\n",
       "      <td>Zapo0091</td>\n",
       "      <td>0</td>\n",
       "      <td>0</td>\n",
       "      <td>0</td>\n",
       "      <td>1</td>\n",
       "      <td>1.0</td>\n",
       "      <td>0.0</td>\n",
       "      <td>0.0</td>\n",
       "      <td>0.0</td>\n",
       "      <td>...</td>\n",
       "      <td>0.0</td>\n",
       "      <td>0.0</td>\n",
       "      <td>0.0</td>\n",
       "      <td>0.0</td>\n",
       "      <td>0.0</td>\n",
       "      <td>0.0</td>\n",
       "      <td>0.0</td>\n",
       "      <td>0.0</td>\n",
       "      <td>0.0</td>\n",
       "      <td>0.0</td>\n",
       "    </tr>\n",
       "    <tr>\n",
       "      <th>2065</th>\n",
       "      <td>Zapotec</td>\n",
       "      <td>Zapo0095</td>\n",
       "      <td>0</td>\n",
       "      <td>0</td>\n",
       "      <td>0</td>\n",
       "      <td>1</td>\n",
       "      <td>1.0</td>\n",
       "      <td>0.0</td>\n",
       "      <td>0.0</td>\n",
       "      <td>0.0</td>\n",
       "      <td>...</td>\n",
       "      <td>1.0</td>\n",
       "      <td>0.0</td>\n",
       "      <td>0.0</td>\n",
       "      <td>0.0</td>\n",
       "      <td>0.0</td>\n",
       "      <td>2.0</td>\n",
       "      <td>1.0</td>\n",
       "      <td>0.0</td>\n",
       "      <td>0.0</td>\n",
       "      <td>0.0</td>\n",
       "    </tr>\n",
       "    <tr>\n",
       "      <th>2066</th>\n",
       "      <td>Zapotec</td>\n",
       "      <td>Zapo0097</td>\n",
       "      <td>0</td>\n",
       "      <td>0</td>\n",
       "      <td>0</td>\n",
       "      <td>1</td>\n",
       "      <td>0.0</td>\n",
       "      <td>1.0</td>\n",
       "      <td>1.0</td>\n",
       "      <td>2.0</td>\n",
       "      <td>...</td>\n",
       "      <td>0.0</td>\n",
       "      <td>1.0</td>\n",
       "      <td>0.0</td>\n",
       "      <td>0.0</td>\n",
       "      <td>0.0</td>\n",
       "      <td>0.0</td>\n",
       "      <td>1.0</td>\n",
       "      <td>2.0</td>\n",
       "      <td>1.0</td>\n",
       "      <td>1.0</td>\n",
       "    </tr>\n",
       "  </tbody>\n",
       "</table>\n",
       "<p>2067 rows × 2073 columns</p>\n",
       "</div>"
      ],
      "text/plain": [
       "     Family_ID Individual_ID  Paternal_ID  Maternal_ID  Sex  Phenotype  SNP_0  \\\n",
       "0           AA        AD_066            0            0    0          1    1.0   \n",
       "1           AA        AD_064            0            0    0          1    0.0   \n",
       "2           AA        AD_505            0            0    0          1    0.0   \n",
       "3           AA        AD_523            0            0    0          1    2.0   \n",
       "4           AA        AD_500            0            0    0          1    1.0   \n",
       "...        ...           ...          ...          ...  ...        ...    ...   \n",
       "2062   Zapotec      Zapo0082            0            0    0          1    0.0   \n",
       "2063   Zapotec      Zapo0083            0            0    0          1    0.0   \n",
       "2064   Zapotec      Zapo0091            0            0    0          1    1.0   \n",
       "2065   Zapotec      Zapo0095            0            0    0          1    1.0   \n",
       "2066   Zapotec      Zapo0097            0            0    0          1    0.0   \n",
       "\n",
       "      SNP_1  SNP_2  SNP_3  ...  SNP_2057  SNP_2058  SNP_2059  SNP_2060  \\\n",
       "0       1.0    1.0    1.0  ...       1.0       1.0       0.0       0.0   \n",
       "1       0.0    1.0    0.0  ...       0.0       1.0       0.0       0.0   \n",
       "2       1.0    0.0    1.0  ...       0.0       0.0       1.0       1.0   \n",
       "3       1.0    1.0    1.0  ...       0.0       0.0       1.0       1.0   \n",
       "4       2.0    1.0    1.0  ...       0.0       0.0       0.0       0.0   \n",
       "...     ...    ...    ...  ...       ...       ...       ...       ...   \n",
       "2062    0.0    0.0    1.0  ...       2.0       1.0       2.0       1.0   \n",
       "2063    0.0    0.0    1.0  ...       2.0       1.0       2.0       2.0   \n",
       "2064    0.0    0.0    0.0  ...       0.0       0.0       0.0       0.0   \n",
       "2065    0.0    0.0    0.0  ...       1.0       0.0       0.0       0.0   \n",
       "2066    1.0    1.0    2.0  ...       0.0       1.0       0.0       0.0   \n",
       "\n",
       "      SNP_2061  SNP_2062  SNP_2063  SNP_2064  SNP_2065  SNP_2066  \n",
       "0          0.0       1.0       0.0       1.0       0.0       0.0  \n",
       "1          0.0       1.0       0.0       0.0       0.0       1.0  \n",
       "2          1.0       1.0       1.0       0.0       1.0       0.0  \n",
       "3          1.0       1.0       1.0       1.0       1.0       0.0  \n",
       "4          0.0       0.0       0.0       0.0       0.0       0.0  \n",
       "...        ...       ...       ...       ...       ...       ...  \n",
       "2062       0.0       1.0       0.0       0.0       1.0       1.0  \n",
       "2063       2.0       1.0       0.0       0.0       1.0       1.0  \n",
       "2064       0.0       0.0       0.0       0.0       0.0       0.0  \n",
       "2065       0.0       2.0       1.0       0.0       0.0       0.0  \n",
       "2066       0.0       0.0       1.0       2.0       1.0       1.0  \n",
       "\n",
       "[2067 rows x 2073 columns]"
      ]
     },
     "execution_count": 34,
     "metadata": {},
     "output_type": "execute_result"
    }
   ],
   "source": [
    "merged_df"
   ]
  },
  {
   "cell_type": "code",
   "execution_count": 35,
   "id": "a9ce5862-f846-4c84-bf98-ba2959b57a27",
   "metadata": {},
   "outputs": [],
   "source": [
    "# Melt the SNP dataframe to long format for merging with BIM\n",
    "snp_long = merged_df.melt(id_vars=['Individual_ID', 'Family_ID', 'Paternal_ID', 'Maternal_ID', 'Sex', 'Phenotype'],\n",
    "                          var_name=\"SNP_Column\",\n",
    "                          value_name=\"Genotype\")"
   ]
  },
  {
   "cell_type": "code",
   "execution_count": 36,
   "id": "89767cde-e367-4587-90e0-eecbe69810e1",
   "metadata": {},
   "outputs": [
    {
     "data": {
      "text/html": [
       "<div>\n",
       "<style scoped>\n",
       "    .dataframe tbody tr th:only-of-type {\n",
       "        vertical-align: middle;\n",
       "    }\n",
       "\n",
       "    .dataframe tbody tr th {\n",
       "        vertical-align: top;\n",
       "    }\n",
       "\n",
       "    .dataframe thead th {\n",
       "        text-align: right;\n",
       "    }\n",
       "</style>\n",
       "<table border=\"1\" class=\"dataframe\">\n",
       "  <thead>\n",
       "    <tr style=\"text-align: right;\">\n",
       "      <th></th>\n",
       "      <th>Individual_ID</th>\n",
       "      <th>Family_ID</th>\n",
       "      <th>Paternal_ID</th>\n",
       "      <th>Maternal_ID</th>\n",
       "      <th>Sex</th>\n",
       "      <th>Phenotype</th>\n",
       "      <th>SNP_Column</th>\n",
       "      <th>Genotype</th>\n",
       "    </tr>\n",
       "  </thead>\n",
       "  <tbody>\n",
       "    <tr>\n",
       "      <th>0</th>\n",
       "      <td>AD_066</td>\n",
       "      <td>AA</td>\n",
       "      <td>0</td>\n",
       "      <td>0</td>\n",
       "      <td>0</td>\n",
       "      <td>1</td>\n",
       "      <td>SNP_0</td>\n",
       "      <td>1.0</td>\n",
       "    </tr>\n",
       "    <tr>\n",
       "      <th>1</th>\n",
       "      <td>AD_064</td>\n",
       "      <td>AA</td>\n",
       "      <td>0</td>\n",
       "      <td>0</td>\n",
       "      <td>0</td>\n",
       "      <td>1</td>\n",
       "      <td>SNP_0</td>\n",
       "      <td>0.0</td>\n",
       "    </tr>\n",
       "    <tr>\n",
       "      <th>2</th>\n",
       "      <td>AD_505</td>\n",
       "      <td>AA</td>\n",
       "      <td>0</td>\n",
       "      <td>0</td>\n",
       "      <td>0</td>\n",
       "      <td>1</td>\n",
       "      <td>SNP_0</td>\n",
       "      <td>0.0</td>\n",
       "    </tr>\n",
       "    <tr>\n",
       "      <th>3</th>\n",
       "      <td>AD_523</td>\n",
       "      <td>AA</td>\n",
       "      <td>0</td>\n",
       "      <td>0</td>\n",
       "      <td>0</td>\n",
       "      <td>1</td>\n",
       "      <td>SNP_0</td>\n",
       "      <td>2.0</td>\n",
       "    </tr>\n",
       "    <tr>\n",
       "      <th>4</th>\n",
       "      <td>AD_500</td>\n",
       "      <td>AA</td>\n",
       "      <td>0</td>\n",
       "      <td>0</td>\n",
       "      <td>0</td>\n",
       "      <td>1</td>\n",
       "      <td>SNP_0</td>\n",
       "      <td>1.0</td>\n",
       "    </tr>\n",
       "    <tr>\n",
       "      <th>...</th>\n",
       "      <td>...</td>\n",
       "      <td>...</td>\n",
       "      <td>...</td>\n",
       "      <td>...</td>\n",
       "      <td>...</td>\n",
       "      <td>...</td>\n",
       "      <td>...</td>\n",
       "      <td>...</td>\n",
       "    </tr>\n",
       "    <tr>\n",
       "      <th>4272484</th>\n",
       "      <td>Zapo0082</td>\n",
       "      <td>Zapotec</td>\n",
       "      <td>0</td>\n",
       "      <td>0</td>\n",
       "      <td>0</td>\n",
       "      <td>1</td>\n",
       "      <td>SNP_2066</td>\n",
       "      <td>1.0</td>\n",
       "    </tr>\n",
       "    <tr>\n",
       "      <th>4272485</th>\n",
       "      <td>Zapo0083</td>\n",
       "      <td>Zapotec</td>\n",
       "      <td>0</td>\n",
       "      <td>0</td>\n",
       "      <td>0</td>\n",
       "      <td>1</td>\n",
       "      <td>SNP_2066</td>\n",
       "      <td>1.0</td>\n",
       "    </tr>\n",
       "    <tr>\n",
       "      <th>4272486</th>\n",
       "      <td>Zapo0091</td>\n",
       "      <td>Zapotec</td>\n",
       "      <td>0</td>\n",
       "      <td>0</td>\n",
       "      <td>0</td>\n",
       "      <td>1</td>\n",
       "      <td>SNP_2066</td>\n",
       "      <td>0.0</td>\n",
       "    </tr>\n",
       "    <tr>\n",
       "      <th>4272487</th>\n",
       "      <td>Zapo0095</td>\n",
       "      <td>Zapotec</td>\n",
       "      <td>0</td>\n",
       "      <td>0</td>\n",
       "      <td>0</td>\n",
       "      <td>1</td>\n",
       "      <td>SNP_2066</td>\n",
       "      <td>0.0</td>\n",
       "    </tr>\n",
       "    <tr>\n",
       "      <th>4272488</th>\n",
       "      <td>Zapo0097</td>\n",
       "      <td>Zapotec</td>\n",
       "      <td>0</td>\n",
       "      <td>0</td>\n",
       "      <td>0</td>\n",
       "      <td>1</td>\n",
       "      <td>SNP_2066</td>\n",
       "      <td>1.0</td>\n",
       "    </tr>\n",
       "  </tbody>\n",
       "</table>\n",
       "<p>4272489 rows × 8 columns</p>\n",
       "</div>"
      ],
      "text/plain": [
       "        Individual_ID Family_ID  Paternal_ID  Maternal_ID  Sex  Phenotype  \\\n",
       "0              AD_066        AA            0            0    0          1   \n",
       "1              AD_064        AA            0            0    0          1   \n",
       "2              AD_505        AA            0            0    0          1   \n",
       "3              AD_523        AA            0            0    0          1   \n",
       "4              AD_500        AA            0            0    0          1   \n",
       "...               ...       ...          ...          ...  ...        ...   \n",
       "4272484      Zapo0082   Zapotec            0            0    0          1   \n",
       "4272485      Zapo0083   Zapotec            0            0    0          1   \n",
       "4272486      Zapo0091   Zapotec            0            0    0          1   \n",
       "4272487      Zapo0095   Zapotec            0            0    0          1   \n",
       "4272488      Zapo0097   Zapotec            0            0    0          1   \n",
       "\n",
       "        SNP_Column  Genotype  \n",
       "0            SNP_0       1.0  \n",
       "1            SNP_0       0.0  \n",
       "2            SNP_0       0.0  \n",
       "3            SNP_0       2.0  \n",
       "4            SNP_0       1.0  \n",
       "...            ...       ...  \n",
       "4272484   SNP_2066       1.0  \n",
       "4272485   SNP_2066       1.0  \n",
       "4272486   SNP_2066       0.0  \n",
       "4272487   SNP_2066       0.0  \n",
       "4272488   SNP_2066       1.0  \n",
       "\n",
       "[4272489 rows x 8 columns]"
      ]
     },
     "execution_count": 36,
     "metadata": {},
     "output_type": "execute_result"
    }
   ],
   "source": [
    "snp_long"
   ]
  }
 ],
 "metadata": {
  "kernelspec": {
   "display_name": "Python 3 (ipykernel)",
   "language": "python",
   "name": "python3"
  },
  "language_info": {
   "codemirror_mode": {
    "name": "ipython",
    "version": 3
   },
   "file_extension": ".py",
   "mimetype": "text/x-python",
   "name": "python",
   "nbconvert_exporter": "python",
   "pygments_lexer": "ipython3",
   "version": "3.9.7"
  }
 },
 "nbformat": 4,
 "nbformat_minor": 5
}
